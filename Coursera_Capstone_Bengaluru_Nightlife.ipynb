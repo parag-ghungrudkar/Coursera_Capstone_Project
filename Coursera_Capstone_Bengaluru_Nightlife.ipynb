{
  "nbformat": 4,
  "nbformat_minor": 0,
  "metadata": {
    "colab": {
      "name": "Coursera Capstone: Bengaluru Nightlife",
      "provenance": [],
      "collapsed_sections": [],
      "mount_file_id": "1DMkj4YDgsyiouje6KU2JGihZfWtnCbPg",
      "authorship_tag": "ABX9TyNrNgUtAwmX3kX+zofFEiLk",
      "include_colab_link": true
    },
    "kernelspec": {
      "name": "python3",
      "display_name": "Python 3"
    }
  },
  "cells": [
    {
      "cell_type": "markdown",
      "metadata": {
        "id": "view-in-github",
        "colab_type": "text"
      },
      "source": [
        "<a href=\"https://colab.research.google.com/github/parag-ghungrudkar/Coursera_Capstone_Project/blob/main/Coursera_Capstone_Bengaluru_Nightlife.ipynb\" target=\"_parent\"><img src=\"https://colab.research.google.com/assets/colab-badge.svg\" alt=\"Open In Colab\"/></a>"
      ]
    },
    {
      "cell_type": "markdown",
      "metadata": {
        "id": "67PwB9njwCIw"
      },
      "source": [
        "# **Coursera Capstone Project: Bengaluru Nightlife**"
      ]
    },
    {
      "cell_type": "markdown",
      "metadata": {
        "id": "gLpjn7Pgvmng"
      },
      "source": [
        "##**Table of content**\n",
        "\n",
        "1. Introduction to Business Problem\n",
        "2. Data Understanding\n",
        "3. Exploratory Data Analysis\n",
        "5. Mehtodology\n",
        "6. Results and Discussions \n",
        "7. Conclusion"
      ]
    },
    {
      "cell_type": "markdown",
      "metadata": {
        "id": "DozNZf4SwkM9"
      },
      "source": [
        "##**Introduction to Business Problem**\n",
        "\n",
        "Bengaluru city is well known for its nightlife. Thousands of Bengalurians look for escape venues on Friday nights and weekends. However, finding the best venues for hangouts is a conundrum, given the plethora of choices available. \n",
        "\n",
        "This Data Analytics project intends to help make better choices by clustering similar venues based on three parameters: Rating, Price, and the number of likes. This project can also be of interest for businesses looking to tap on to the business opportunity from the bustling nightlife of Bengaluru. "
      ]
    },
    {
      "cell_type": "markdown",
      "metadata": {
        "id": "BM1SYsbjzGU9"
      },
      "source": [
        "##**Data Understanding**\n",
        "\n",
        "###**a)Data Gathering**\n",
        " \n",
        " Based on the problem statement in hand, I needed to collect data that consists of various venues in different categories. From the FourSqaure API Docs, I got categories ID for NightLife venues. I used these ID to get intial list of venues from the FourSquare DataBase using Get Request. \n",
        "\n"
      ]
    },
    {
      "cell_type": "code",
      "metadata": {
        "id": "_3xRHlhdu8o0",
        "colab": {
          "base_uri": "https://localhost:8080/"
        },
        "outputId": "93b081b8-4a3b-4d69-87e1-fd000de74c3c"
      },
      "source": [
        "! pip install geocoder #installing this library to get latitude and longitudes from the address"
      ],
      "execution_count": null,
      "outputs": [
        {
          "output_type": "stream",
          "text": [
            "Collecting geocoder\n",
            "\u001b[?25l  Downloading https://files.pythonhosted.org/packages/4f/6b/13166c909ad2f2d76b929a4227c952630ebaf0d729f6317eb09cbceccbab/geocoder-1.38.1-py2.py3-none-any.whl (98kB)\n",
            "\r\u001b[K     |███▎                            | 10kB 13.6MB/s eta 0:00:01\r\u001b[K     |██████▋                         | 20kB 18.4MB/s eta 0:00:01\r\u001b[K     |██████████                      | 30kB 9.4MB/s eta 0:00:01\r\u001b[K     |█████████████▎                  | 40kB 7.4MB/s eta 0:00:01\r\u001b[K     |████████████████▋               | 51kB 4.4MB/s eta 0:00:01\r\u001b[K     |████████████████████            | 61kB 5.1MB/s eta 0:00:01\r\u001b[K     |███████████████████████▎        | 71kB 5.3MB/s eta 0:00:01\r\u001b[K     |██████████████████████████▋     | 81kB 5.9MB/s eta 0:00:01\r\u001b[K     |██████████████████████████████  | 92kB 5.9MB/s eta 0:00:01\r\u001b[K     |████████████████████████████████| 102kB 4.0MB/s \n",
            "\u001b[?25hRequirement already satisfied: future in /usr/local/lib/python3.7/dist-packages (from geocoder) (0.16.0)\n",
            "Collecting ratelim\n",
            "  Downloading https://files.pythonhosted.org/packages/f2/98/7e6d147fd16a10a5f821db6e25f192265d6ecca3d82957a4fdd592cad49c/ratelim-0.1.6-py2.py3-none-any.whl\n",
            "Requirement already satisfied: click in /usr/local/lib/python3.7/dist-packages (from geocoder) (7.1.2)\n",
            "Requirement already satisfied: six in /usr/local/lib/python3.7/dist-packages (from geocoder) (1.15.0)\n",
            "Requirement already satisfied: requests in /usr/local/lib/python3.7/dist-packages (from geocoder) (2.23.0)\n",
            "Requirement already satisfied: decorator in /usr/local/lib/python3.7/dist-packages (from ratelim->geocoder) (4.4.2)\n",
            "Requirement already satisfied: idna<3,>=2.5 in /usr/local/lib/python3.7/dist-packages (from requests->geocoder) (2.10)\n",
            "Requirement already satisfied: chardet<4,>=3.0.2 in /usr/local/lib/python3.7/dist-packages (from requests->geocoder) (3.0.4)\n",
            "Requirement already satisfied: certifi>=2017.4.17 in /usr/local/lib/python3.7/dist-packages (from requests->geocoder) (2020.12.5)\n",
            "Requirement already satisfied: urllib3!=1.25.0,!=1.25.1,<1.26,>=1.21.1 in /usr/local/lib/python3.7/dist-packages (from requests->geocoder) (1.24.3)\n",
            "Installing collected packages: ratelim, geocoder\n",
            "Successfully installed geocoder-1.38.1 ratelim-0.1.6\n"
          ],
          "name": "stdout"
        }
      ]
    },
    {
      "cell_type": "code",
      "metadata": {
        "id": "PLNi3ntImpA0",
        "colab": {
          "base_uri": "https://localhost:8080/"
        },
        "outputId": "ce38bbf1-785e-48d9-f1c5-e08ab53ad69e"
      },
      "source": [
        "#importing the required libraries\n",
        "import pandas as pd #library to work with dataframes\n",
        "pd.set_option('display.max_columns', None)\n",
        "pd.set_option('display.max_rows', None)\n",
        "import json # library to handle JSON files\n",
        "from pandas.io.json import json_normalize # tranform JSON file into a pandas dataframe\n",
        "import numpy as np # to perform mathematical operations on series\n",
        "from geopy.geocoders import Nominatim # convert an address into latitude and longitude values\n",
        "import requests #library to make http requests in python\n",
        "from bs4 import BeautifulSoup #library to handle data from html files\n",
        "import folium # map rendering library\n",
        "from sklearn.cluster import KMeans\n",
        "# Matplotlib and associated plotting modules\n",
        "import matplotlib.cm as cm\n",
        "import matplotlib.colors as colors\n",
        "print('All required imported _____')\n",
        "import matplotlib.pyplot as plt "
      ],
      "execution_count": null,
      "outputs": [
        {
          "output_type": "stream",
          "text": [
            "All required imported _____\n"
          ],
          "name": "stdout"
        }
      ]
    },
    {
      "cell_type": "code",
      "metadata": {
        "colab": {
          "base_uri": "https://localhost:8080/"
        },
        "id": "Ot1_HOeCnGas",
        "outputId": "5342d372-a776-4c87-f711-2a5e706602a2"
      },
      "source": [
        "CLIENT_ID = '0GNGY4JRBUZ32X5431M5XKQKOP2RPGGC2HGQQDGHZNGPC2TF' #  Foursquare ID\n",
        "CLIENT_SECRET = 'Q2ENBL0VQ5CGBDTWCMHF5EJWK3I5D1GD0UB0QQIEMPCW20I4'# Foursquare Secret\n",
        "ACCESS_TOKEN = 'ZJEKYKVB5AUQN3UYKTXHZFI1GXE1Z1SBU01TNFEPY2NFIK5K' #  FourSquare Access Token\n",
        "VERSION = '20180604'\n",
        "LIMIT = 1000\n",
        "print('Your credentails:')\n",
        "print('CLIENT_ID: ' + CLIENT_ID)\n",
        "print('CLIENT_SECRET:' + CLIENT_SECRET)"
      ],
      "execution_count": null,
      "outputs": [
        {
          "output_type": "stream",
          "text": [
            "Your credentails:\n",
            "CLIENT_ID: 0GNGY4JRBUZ32X5431M5XKQKOP2RPGGC2HGQQDGHZNGPC2TF\n",
            "CLIENT_SECRET:Q2ENBL0VQ5CGBDTWCMHF5EJWK3I5D1GD0UB0QQIEMPCW20I4\n"
          ],
          "name": "stdout"
        }
      ]
    },
    {
      "cell_type": "markdown",
      "metadata": {
        "id": "ZR5-2O0E1TUK"
      },
      "source": [
        "Since I am looking for venues in Bengalrur city. I used geolocator library to get the location coordinates of Bengaluru."
      ]
    },
    {
      "cell_type": "code",
      "metadata": {
        "colab": {
          "base_uri": "https://localhost:8080/"
        },
        "id": "PBoAluaznQqD",
        "outputId": "09fa0df4-5dea-47c0-f683-ba52486724c0"
      },
      "source": [
        "address = 'Bengaluru, Karnataka'\n",
        "\n",
        "geolocator = Nominatim(user_agent=\"tr_explorer\")\n",
        "location = geolocator.geocode(address)\n",
        "latitude = location.latitude\n",
        "longitude = location.longitude\n",
        "print('The geograpical coordinate of Bengaluru are {}, {}.'.format(latitude, longitude))"
      ],
      "execution_count": null,
      "outputs": [
        {
          "output_type": "stream",
          "text": [
            "The geograpical coordinate of Bengaluru are 12.9791198, 77.5912997.\n"
          ],
          "name": "stdout"
        }
      ]
    },
    {
      "cell_type": "markdown",
      "metadata": {
        "id": "wFIpK68G1m2m"
      },
      "source": [
        "Using the Foursqaure API Categories ID docs, I collated all the required Categories in the night_life_catID dictonary. \n",
        "\n",
        "On some research, I found that most of the outing spot fall under the falling categories: \n",
        "\n",
        "\n",
        "*   Beer Bar\n",
        "*   Beer Garden\n",
        "*   Hookah Bar\n",
        "*   Pub\n",
        "*   Sports Bar\n",
        "*   Brewery\n",
        "*   Lounge\n",
        "\n",
        "Also, since Foursqaure API returns maximum of 50 venues per call, I used dictonary with IDs for each categories instead of just using ID for night_life , under which all the above fall. "
      ]
    },
    {
      "cell_type": "code",
      "metadata": {
        "id": "X7MyMs3uO3aG"
      },
      "source": [
        "night_life_catID = {\n",
        "    \n",
        "  'Beer Bar' : '56aa371ce4b08b9a8d57356c',\n",
        "  'Beer Garden' : '4bf58dd8d48988d117941735',\n",
        "  'Hookah Bar' : '4bf58dd8d48988d119941735',\n",
        "  'Pub' : '4bf58dd8d48988d11b941735',\n",
        "  'Sports Bar' : '4bf58dd8d48988d11d941735',\n",
        "  'Brewery' : '50327c8591d4c4b30a586d5d',\n",
        "  'Lounge' : '4bf58dd8d48988d121941735'\n",
        "\n",
        "}\n"
      ],
      "execution_count": null,
      "outputs": []
    },
    {
      "cell_type": "markdown",
      "metadata": {
        "id": "Ungjxun52iov"
      },
      "source": [
        "Next, I used FourSqaure API url request to get all possible venues. The next two block of codes functions to pull the request and transform the received data to pandas DataFrame."
      ]
    },
    {
      "cell_type": "code",
      "metadata": {
        "id": "MQ7pPCT2XjCC"
      },
      "source": [
        "#this funciton is used to  category of the venue from the recieved json file\n",
        "def get_category_type(row):\n",
        "    try:\n",
        "        categories_list = row['categories']\n",
        "    except:\n",
        "        categories_list = row['venue.categories']\n",
        "        \n",
        "    if len(categories_list) == 0:\n",
        "        return None\n",
        "    else:\n",
        "        return categories_list[0]['name']"
      ],
      "execution_count": null,
      "outputs": []
    },
    {
      "cell_type": "code",
      "metadata": {
        "colab": {
          "base_uri": "https://localhost:8080/"
        },
        "id": "QJbFjBP7Q3Y_",
        "outputId": "2cf331ec-5e53-4abe-d2a9-b679b213da9c"
      },
      "source": [
        "venues_data = pd.DataFrame() #defining an empty dataframe for the  venues data\n",
        "\n",
        "# for loop that iterates through all the categories IDs and appends the fetched venue data to veneus_data dataframe\n",
        "for catID in night_life_catID.values() : \n",
        "   print('Gathering Data for the Category ID: {}'.format(catID))\n",
        "   url = 'https://api.foursquare.com/v2/venues/search?&client_id={}&client_secret={}&ll={},{}&oauth_token={}&v={}&limit={}&categoryId={}'.format( CLIENT_ID, CLIENT_SECRET, latitude, longitude,ACCESS_TOKEN, VERSION,LIMIT,catID)\n",
        "   results = requests.get(url).json()\n",
        "   venues = results['response']['venues']\n",
        "   dataframe = pd.json_normalize(venues)\n",
        "   # keeping only columns that include venue name, and anything that is associated with location\n",
        "   filtered_columns = ['name', 'categories'] + [col for col in dataframe.columns if col.startswith('location.')] + ['id']\n",
        "   dataframe_filtered = dataframe.loc[:, filtered_columns]\n",
        "   # filtering the category for each row\n",
        "   dataframe_filtered['categories'] = dataframe_filtered.apply(get_category_type, axis=1)\n",
        "   # clean column names by keeping only last term\n",
        "   dataframe_filtered.columns = [column.split('.')[-1] for column in dataframe_filtered.columns]\n",
        "   df_venues = dataframe_filtered\n",
        "   df_venues = df_venues[['name','categories','lat','lng','id']]\n",
        "   venues_data = venues_data.append(df_venues)\n",
        "   \n",
        "venues_data.drop_duplicates(subset =\"name\", keep = 'first', inplace = True) \n",
        "print('Venues DataFrame Generated')"
      ],
      "execution_count": null,
      "outputs": [
        {
          "output_type": "stream",
          "text": [
            "Gathering Data for the Category ID: 56aa371ce4b08b9a8d57356c\n",
            "Gathering Data for the Category ID: 4bf58dd8d48988d117941735\n",
            "Gathering Data for the Category ID: 4bf58dd8d48988d119941735\n",
            "Gathering Data for the Category ID: 4bf58dd8d48988d11b941735\n",
            "Gathering Data for the Category ID: 4bf58dd8d48988d11d941735\n",
            "Gathering Data for the Category ID: 50327c8591d4c4b30a586d5d\n",
            "Gathering Data for the Category ID: 4bf58dd8d48988d121941735\n",
            "Venues DataFrame Generated\n"
          ],
          "name": "stdout"
        }
      ]
    },
    {
      "cell_type": "code",
      "metadata": {
        "colab": {
          "base_uri": "https://localhost:8080/",
          "height": 204
        },
        "id": "jodyXnQrbE-l",
        "outputId": "286d0af7-5bba-4711-a557-7fbf4299546c"
      },
      "source": [
        "# This is the intial venue data generated\n",
        "venues_data.head() "
      ],
      "execution_count": null,
      "outputs": [
        {
          "output_type": "execute_result",
          "data": {
            "text/html": [
              "<div>\n",
              "<style scoped>\n",
              "    .dataframe tbody tr th:only-of-type {\n",
              "        vertical-align: middle;\n",
              "    }\n",
              "\n",
              "    .dataframe tbody tr th {\n",
              "        vertical-align: top;\n",
              "    }\n",
              "\n",
              "    .dataframe thead th {\n",
              "        text-align: right;\n",
              "    }\n",
              "</style>\n",
              "<table border=\"1\" class=\"dataframe\">\n",
              "  <thead>\n",
              "    <tr style=\"text-align: right;\">\n",
              "      <th></th>\n",
              "      <th>name</th>\n",
              "      <th>categories</th>\n",
              "      <th>lat</th>\n",
              "      <th>lng</th>\n",
              "      <th>id</th>\n",
              "    </tr>\n",
              "  </thead>\n",
              "  <tbody>\n",
              "    <tr>\n",
              "      <th>0</th>\n",
              "      <td>Wall St.</td>\n",
              "      <td>Beer Bar</td>\n",
              "      <td>12.906584</td>\n",
              "      <td>77.590085</td>\n",
              "      <td>5942ab989deb7d7da8ea4700</td>\n",
              "    </tr>\n",
              "    <tr>\n",
              "      <th>1</th>\n",
              "      <td>Barley &amp; Grapes Cafe</td>\n",
              "      <td>Beer Bar</td>\n",
              "      <td>13.199486</td>\n",
              "      <td>77.709608</td>\n",
              "      <td>5c6d63aa6fd626002c84dbe6</td>\n",
              "    </tr>\n",
              "    <tr>\n",
              "      <th>2</th>\n",
              "      <td>Stories</td>\n",
              "      <td>Beer Bar</td>\n",
              "      <td>13.008568</td>\n",
              "      <td>77.549108</td>\n",
              "      <td>5acce68067e5f23527ed1563</td>\n",
              "    </tr>\n",
              "    <tr>\n",
              "      <th>3</th>\n",
              "      <td>Plan B</td>\n",
              "      <td>Beer Bar</td>\n",
              "      <td>12.967345</td>\n",
              "      <td>77.714690</td>\n",
              "      <td>5c8cb011a8792100392f4b6b</td>\n",
              "    </tr>\n",
              "    <tr>\n",
              "      <th>4</th>\n",
              "      <td>Gilly's</td>\n",
              "      <td>Beer Bar</td>\n",
              "      <td>12.955587</td>\n",
              "      <td>77.714422</td>\n",
              "      <td>58c426ffcc5b6a395964a87a</td>\n",
              "    </tr>\n",
              "  </tbody>\n",
              "</table>\n",
              "</div>"
            ],
            "text/plain": [
              "                   name categories        lat        lng  \\\n",
              "0              Wall St.   Beer Bar  12.906584  77.590085   \n",
              "1  Barley & Grapes Cafe   Beer Bar  13.199486  77.709608   \n",
              "2               Stories   Beer Bar  13.008568  77.549108   \n",
              "3                Plan B   Beer Bar  12.967345  77.714690   \n",
              "4               Gilly's   Beer Bar  12.955587  77.714422   \n",
              "\n",
              "                         id  \n",
              "0  5942ab989deb7d7da8ea4700  \n",
              "1  5c6d63aa6fd626002c84dbe6  \n",
              "2  5acce68067e5f23527ed1563  \n",
              "3  5c8cb011a8792100392f4b6b  \n",
              "4  58c426ffcc5b6a395964a87a  "
            ]
          },
          "metadata": {
            "tags": []
          },
          "execution_count": 10
        }
      ]
    },
    {
      "cell_type": "markdown",
      "metadata": {
        "id": "-bOJepEj5DTw"
      },
      "source": [
        "I wanted to check the number of veneus under different categories. I used the value_counts function to get the same. \n",
        "As observed majority of the veneus fall under the following categories : Brewery, Hookah Bar, Beer Garden, Pub, Sports Bar"
      ]
    },
    {
      "cell_type": "code",
      "metadata": {
        "colab": {
          "base_uri": "https://localhost:8080/"
        },
        "id": "g-ksZFBPWSJp",
        "outputId": "c6a9e512-215f-43e2-fea3-873e95618904"
      },
      "source": [
        "\n",
        "venues_data['categories'].value_counts()"
      ],
      "execution_count": null,
      "outputs": [
        {
          "output_type": "execute_result",
          "data": {
            "text/plain": [
              "Brewery                       46\n",
              "Hookah Bar                    44\n",
              "Lounge                        43\n",
              "Beer Garden                   40\n",
              "Pub                           37\n",
              "Sports Bar                    29\n",
              "Beer Bar                       7\n",
              "Café                           3\n",
              "Bar                            3\n",
              "Hotel Bar                      2\n",
              "General Entertainment          2\n",
              "Tennis Stadium                 1\n",
              "Seafood Restaurant             1\n",
              "Bowling Alley                  1\n",
              "Shopping Mall                  1\n",
              "Arcade                         1\n",
              "Coffee Shop                    1\n",
              "Japanese Restaurant            1\n",
              "Financial or Legal Service     1\n",
              "Name: categories, dtype: int64"
            ]
          },
          "metadata": {
            "tags": []
          },
          "execution_count": 11
        }
      ]
    },
    {
      "cell_type": "markdown",
      "metadata": {
        "id": "oGQTaUD45YiQ"
      },
      "source": [
        "Now that I have intial list of venues with me, I needed more information for my analysis. Since the analysis is based on Rating, Price, and Like_counts, I used FourSquare's premium Venue Details API endpoint to get necessary data. "
      ]
    },
    {
      "cell_type": "code",
      "metadata": {
        "id": "ZDpc_1pTq5YK"
      },
      "source": [
        "Rating = [] \n",
        "Like_counts = []\n",
        "Price = []\n",
        "for row in venues_data['id']:\n",
        "  venue_id = row\n",
        "  url = 'https://api.foursquare.com/v2/venues/{}?client_id={}&client_secret={}&oauth_token={}&v={}'.format(venue_id, CLIENT_ID, CLIENT_SECRET,ACCESS_TOKEN, VERSION)\n",
        "  result = requests.get(url).json()\n",
        "  try:\n",
        "   Rating.append(result['response']['venue']['rating'])\n",
        "  except:\n",
        "   Rating.append(np.NaN)\n",
        "  try:\n",
        "    Price.append(result['response']['venue']['price']['message'])\n",
        "  except:\n",
        "    Price.append(np.NaN)\n",
        "  try:\n",
        "    Like_counts.append(result['response']['venue']['likes']['count'])\n",
        "  except:\n",
        "    Like_counts.append(np.NaN)"
      ],
      "execution_count": null,
      "outputs": []
    },
    {
      "cell_type": "code",
      "metadata": {
        "id": "dtfe-D4E9cTm"
      },
      "source": [
        "venues_data['Rating'] = Rating\n",
        "venues_data['Price'] = Price\n",
        "venues_data['Likes'] = Like_counts"
      ],
      "execution_count": null,
      "outputs": []
    },
    {
      "cell_type": "markdown",
      "metadata": {
        "id": "3FLe2TWo6Fe5"
      },
      "source": [
        "b) Data Cleansing\n",
        "\n",
        "I dropped venues for which data was not available. The final number of venues boiled down to around 75. My final analysis will be on these venues. \n"
      ]
    },
    {
      "cell_type": "code",
      "metadata": {
        "id": "nx7fV19Q8Z3o",
        "colab": {
          "base_uri": "https://localhost:8080/"
        },
        "outputId": "caafa151-d135-4eab-a5f5-51d1e399beb1"
      },
      "source": [
        "venues_data = venues_data.dropna()\n",
        "venues_data.sort_values(by = ['Rating'], inplace = True, ascending =False)\n",
        "venues_data.reset_index(inplace= True, drop = True)\n",
        "venues_data.shape"
      ],
      "execution_count": null,
      "outputs": [
        {
          "output_type": "execute_result",
          "data": {
            "text/plain": [
              "(72, 8)"
            ]
          },
          "metadata": {
            "tags": []
          },
          "execution_count": 14
        }
      ]
    },
    {
      "cell_type": "code",
      "metadata": {
        "colab": {
          "base_uri": "https://localhost:8080/",
          "height": 204
        },
        "id": "sLx-u99Au5Ad",
        "outputId": "07c9dcba-7333-452b-e18c-2ce7c46300d8"
      },
      "source": [
        "#This is the final dataframe on venues that I will be working on \n",
        "\n",
        "venues_data.head()"
      ],
      "execution_count": null,
      "outputs": [
        {
          "output_type": "execute_result",
          "data": {
            "text/html": [
              "<div>\n",
              "<style scoped>\n",
              "    .dataframe tbody tr th:only-of-type {\n",
              "        vertical-align: middle;\n",
              "    }\n",
              "\n",
              "    .dataframe tbody tr th {\n",
              "        vertical-align: top;\n",
              "    }\n",
              "\n",
              "    .dataframe thead th {\n",
              "        text-align: right;\n",
              "    }\n",
              "</style>\n",
              "<table border=\"1\" class=\"dataframe\">\n",
              "  <thead>\n",
              "    <tr style=\"text-align: right;\">\n",
              "      <th></th>\n",
              "      <th>name</th>\n",
              "      <th>categories</th>\n",
              "      <th>lat</th>\n",
              "      <th>lng</th>\n",
              "      <th>id</th>\n",
              "      <th>Rating</th>\n",
              "      <th>Price</th>\n",
              "      <th>Likes</th>\n",
              "    </tr>\n",
              "  </thead>\n",
              "  <tbody>\n",
              "    <tr>\n",
              "      <th>0</th>\n",
              "      <td>Windmills Craftworks</td>\n",
              "      <td>Brewery</td>\n",
              "      <td>12.982460</td>\n",
              "      <td>77.721861</td>\n",
              "      <td>5056abd4e4b07ba3e77d061b</td>\n",
              "      <td>9.2</td>\n",
              "      <td>Moderate</td>\n",
              "      <td>382</td>\n",
              "    </tr>\n",
              "    <tr>\n",
              "      <th>1</th>\n",
              "      <td>Toit Brewpub</td>\n",
              "      <td>Brewery</td>\n",
              "      <td>12.979367</td>\n",
              "      <td>77.640702</td>\n",
              "      <td>4d74e829e278f04d748c5db8</td>\n",
              "      <td>9.1</td>\n",
              "      <td>Expensive</td>\n",
              "      <td>986</td>\n",
              "    </tr>\n",
              "    <tr>\n",
              "      <th>2</th>\n",
              "      <td>Arbor Brewing Company</td>\n",
              "      <td>Brewery</td>\n",
              "      <td>12.970140</td>\n",
              "      <td>77.610857</td>\n",
              "      <td>50b8cfebe4b0b45a1a4919ad</td>\n",
              "      <td>8.9</td>\n",
              "      <td>Expensive</td>\n",
              "      <td>603</td>\n",
              "    </tr>\n",
              "    <tr>\n",
              "      <th>3</th>\n",
              "      <td>Whitefield Social</td>\n",
              "      <td>Lounge</td>\n",
              "      <td>12.997343</td>\n",
              "      <td>77.696288</td>\n",
              "      <td>5662f272498eac2dc526e83a</td>\n",
              "      <td>8.8</td>\n",
              "      <td>Expensive</td>\n",
              "      <td>34</td>\n",
              "    </tr>\n",
              "    <tr>\n",
              "      <th>4</th>\n",
              "      <td>Windmills Craftswork</td>\n",
              "      <td>Brewery</td>\n",
              "      <td>13.199887</td>\n",
              "      <td>77.709638</td>\n",
              "      <td>5c849a711953f3002c8a751e</td>\n",
              "      <td>8.7</td>\n",
              "      <td>Moderate</td>\n",
              "      <td>9</td>\n",
              "    </tr>\n",
              "  </tbody>\n",
              "</table>\n",
              "</div>"
            ],
            "text/plain": [
              "                    name categories        lat        lng  \\\n",
              "0   Windmills Craftworks    Brewery  12.982460  77.721861   \n",
              "1           Toit Brewpub    Brewery  12.979367  77.640702   \n",
              "2  Arbor Brewing Company    Brewery  12.970140  77.610857   \n",
              "3      Whitefield Social     Lounge  12.997343  77.696288   \n",
              "4   Windmills Craftswork    Brewery  13.199887  77.709638   \n",
              "\n",
              "                         id  Rating      Price  Likes  \n",
              "0  5056abd4e4b07ba3e77d061b     9.2   Moderate    382  \n",
              "1  4d74e829e278f04d748c5db8     9.1  Expensive    986  \n",
              "2  50b8cfebe4b0b45a1a4919ad     8.9  Expensive    603  \n",
              "3  5662f272498eac2dc526e83a     8.8  Expensive     34  \n",
              "4  5c849a711953f3002c8a751e     8.7   Moderate      9  "
            ]
          },
          "metadata": {
            "tags": []
          },
          "execution_count": 15
        }
      ]
    },
    {
      "cell_type": "code",
      "metadata": {
        "id": "0XDuVIvmYg7m"
      },
      "source": [
        "venues_data.to_csv('Venues_data.csv')"
      ],
      "execution_count": null,
      "outputs": []
    },
    {
      "cell_type": "code",
      "metadata": {
        "id": "hFHN41m2UOe6"
      },
      "source": [
        ""
      ],
      "execution_count": null,
      "outputs": []
    },
    {
      "cell_type": "code",
      "metadata": {
        "colab": {
          "base_uri": "https://localhost:8080/",
          "height": 204
        },
        "id": "4eak9WyWh3oj",
        "outputId": "79852376-8e4f-431a-9d48-485e35fbc77b"
      },
      "source": [
        "venues_data = pd.read_csv('Venues_data.csv')\n",
        "venues_data = venues_data[['name','categories','lat','lng','id','Rating','Price','Likes']]\n",
        "venues_data.head()"
      ],
      "execution_count": null,
      "outputs": [
        {
          "output_type": "execute_result",
          "data": {
            "text/html": [
              "<div>\n",
              "<style scoped>\n",
              "    .dataframe tbody tr th:only-of-type {\n",
              "        vertical-align: middle;\n",
              "    }\n",
              "\n",
              "    .dataframe tbody tr th {\n",
              "        vertical-align: top;\n",
              "    }\n",
              "\n",
              "    .dataframe thead th {\n",
              "        text-align: right;\n",
              "    }\n",
              "</style>\n",
              "<table border=\"1\" class=\"dataframe\">\n",
              "  <thead>\n",
              "    <tr style=\"text-align: right;\">\n",
              "      <th></th>\n",
              "      <th>name</th>\n",
              "      <th>categories</th>\n",
              "      <th>lat</th>\n",
              "      <th>lng</th>\n",
              "      <th>id</th>\n",
              "      <th>Rating</th>\n",
              "      <th>Price</th>\n",
              "      <th>Likes</th>\n",
              "    </tr>\n",
              "  </thead>\n",
              "  <tbody>\n",
              "    <tr>\n",
              "      <th>0</th>\n",
              "      <td>Windmills Craftworks</td>\n",
              "      <td>Brewery</td>\n",
              "      <td>12.982460</td>\n",
              "      <td>77.721861</td>\n",
              "      <td>5056abd4e4b07ba3e77d061b</td>\n",
              "      <td>9.2</td>\n",
              "      <td>Moderate</td>\n",
              "      <td>382</td>\n",
              "    </tr>\n",
              "    <tr>\n",
              "      <th>1</th>\n",
              "      <td>Toit Brewpub</td>\n",
              "      <td>Brewery</td>\n",
              "      <td>12.979367</td>\n",
              "      <td>77.640702</td>\n",
              "      <td>4d74e829e278f04d748c5db8</td>\n",
              "      <td>9.1</td>\n",
              "      <td>Expensive</td>\n",
              "      <td>986</td>\n",
              "    </tr>\n",
              "    <tr>\n",
              "      <th>2</th>\n",
              "      <td>Arbor Brewing Company</td>\n",
              "      <td>Brewery</td>\n",
              "      <td>12.970140</td>\n",
              "      <td>77.610857</td>\n",
              "      <td>50b8cfebe4b0b45a1a4919ad</td>\n",
              "      <td>8.9</td>\n",
              "      <td>Expensive</td>\n",
              "      <td>603</td>\n",
              "    </tr>\n",
              "    <tr>\n",
              "      <th>3</th>\n",
              "      <td>Whitefield Social</td>\n",
              "      <td>Lounge</td>\n",
              "      <td>12.997343</td>\n",
              "      <td>77.696288</td>\n",
              "      <td>5662f272498eac2dc526e83a</td>\n",
              "      <td>8.8</td>\n",
              "      <td>Expensive</td>\n",
              "      <td>34</td>\n",
              "    </tr>\n",
              "    <tr>\n",
              "      <th>4</th>\n",
              "      <td>Windmills Craftswork</td>\n",
              "      <td>Brewery</td>\n",
              "      <td>13.199887</td>\n",
              "      <td>77.709638</td>\n",
              "      <td>5c849a711953f3002c8a751e</td>\n",
              "      <td>8.7</td>\n",
              "      <td>Moderate</td>\n",
              "      <td>9</td>\n",
              "    </tr>\n",
              "  </tbody>\n",
              "</table>\n",
              "</div>"
            ],
            "text/plain": [
              "                    name categories        lat        lng  \\\n",
              "0   Windmills Craftworks    Brewery  12.982460  77.721861   \n",
              "1           Toit Brewpub    Brewery  12.979367  77.640702   \n",
              "2  Arbor Brewing Company    Brewery  12.970140  77.610857   \n",
              "3      Whitefield Social     Lounge  12.997343  77.696288   \n",
              "4   Windmills Craftswork    Brewery  13.199887  77.709638   \n",
              "\n",
              "                         id  Rating      Price  Likes  \n",
              "0  5056abd4e4b07ba3e77d061b     9.2   Moderate    382  \n",
              "1  4d74e829e278f04d748c5db8     9.1  Expensive    986  \n",
              "2  50b8cfebe4b0b45a1a4919ad     8.9  Expensive    603  \n",
              "3  5662f272498eac2dc526e83a     8.8  Expensive     34  \n",
              "4  5c849a711953f3002c8a751e     8.7   Moderate      9  "
            ]
          },
          "metadata": {
            "tags": []
          },
          "execution_count": 12
        }
      ]
    },
    {
      "cell_type": "markdown",
      "metadata": {
        "id": "7fzDHuYQ8eYK"
      },
      "source": [
        "#**Exploratory Data Analysis**\n",
        "\n",
        "with the required data in hand, I did some exploratory data analysis. I used histogram to understand the distrubtion of Rating and likes across different venues. Also, I used bar graph to visualize the distribution of the venues in the three price ranges."
      ]
    },
    {
      "cell_type": "code",
      "metadata": {
        "colab": {
          "base_uri": "https://localhost:8080/",
          "height": 461
        },
        "id": "f4ON9DyQDxzV",
        "outputId": "d6e7eaeb-ae19-4419-a604-c921d1c5feeb"
      },
      "source": [
        "# this block of code plots the distribution rating and histogram. \n",
        "# this part of the code styles the histogram plot.\n",
        "fig, ax = plt.subplots(figsize=(15, 7))\n",
        "ax = plt.axes(facecolor='#E6E6E6')\n",
        "ax.set_axisbelow(True)\n",
        "\n",
        "# draw solid white grid lines\n",
        "plt.grid(color='w', linestyle='solid')\n",
        "\n",
        "# hide axis spines\n",
        "for spine in ax.spines.values():\n",
        "    spine.set_visible(False)\n",
        "    \n",
        "# hide top and right ticks\n",
        "ax.xaxis.tick_bottom()\n",
        "ax.yaxis.tick_left()\n",
        "\n",
        "# lighten ticks and labels\n",
        "ax.tick_params(colors='gray', direction='out')\n",
        "for tick in ax.get_xticklabels():\n",
        "    tick.set_color('gray')\n",
        "for tick in ax.get_yticklabels():\n",
        "    tick.set_color('gray')\n",
        "\n",
        "# control face and edge color of histogram\n",
        "n, bins, edges = ax.hist(x = venues_data.Rating,bins=10, edgecolor='#E6E6E6', color='#EE6666');\n",
        "plt.xticks(bins)\n",
        "plt.xlim(5.3,9.5)\n",
        "plt.ylim(0,15)\n",
        "plt.title('Rating distribution')\n",
        "\n",
        "plt.show"
      ],
      "execution_count": null,
      "outputs": [
        {
          "output_type": "execute_result",
          "data": {
            "text/plain": [
              "<function matplotlib.pyplot.show>"
            ]
          },
          "metadata": {
            "tags": []
          },
          "execution_count": 18
        },
        {
          "output_type": "display_data",
          "data": {
            "image/png": "[encoded data removed]",
            "text/plain": [
              "<Figure size 1080x504 with 1 Axes>"
            ]
          },
          "metadata": {
            "tags": [],
            "needs_background": "dark"
          }
        }
      ]
    },
    {
      "cell_type": "markdown",
      "metadata": {
        "id": "YmWkVItEomYP"
      },
      "source": [
        "###Understanding from the Rating histogram: \n",
        "\n",
        "The main highlights from the above histogram :  \n",
        "\n",
        "*   Majority of the venues have  rating between 7 to 8. \n",
        "*   There are only two Venues with rating over 8.83\n",
        "*   12 Venues have poor rating that is below 6\n"
      ]
    },
    {
      "cell_type": "code",
      "metadata": {
        "colab": {
          "base_uri": "https://localhost:8080/",
          "height": 282
        },
        "id": "bd4yIbesR3Fu",
        "outputId": "b315ae7f-d205-4a0b-d147-b214ad60a82b"
      },
      "source": [
        "venues_data[['Price']].value_counts().plot(kind = 'barh')"
      ],
      "execution_count": null,
      "outputs": [
        {
          "output_type": "execute_result",
          "data": {
            "text/plain": [
              "<matplotlib.axes._subplots.AxesSubplot at 0x7f8a89d21a90>"
            ]
          },
          "metadata": {
            "tags": []
          },
          "execution_count": 19
        },
        {
          "output_type": "display_data",
          "data": {
            "image/png": "[encoded data removed]",
            "text/plain": [
              "<Figure size 432x288 with 1 Axes>"
            ]
          },
          "metadata": {
            "tags": [],
            "needs_background": "light"
          }
        }
      ]
    },
    {
      "cell_type": "markdown",
      "metadata": {
        "id": "RPYPaas9ow2Q"
      },
      "source": [
        "###Understanding from the above bar graph:\n",
        "\n",
        "*   The number of venues across different Price range are almost equally distributed and ranging between 20 to 30\n"
      ]
    },
    {
      "cell_type": "code",
      "metadata": {
        "colab": {
          "base_uri": "https://localhost:8080/",
          "height": 461
        },
        "id": "F45fnr-eXjCX",
        "outputId": "2362839e-fdfc-474e-fb3f-da9db9a9bdf5"
      },
      "source": [
        "# this block of code plots the frequency distribution of number of likes in a histogram\n",
        "\n",
        "fig, ax = plt.subplots(figsize=(15, 7))\n",
        "ax = plt.axes(facecolor='#E6E6E6')\n",
        "\n",
        "ax.set_axisbelow(True)\n",
        "\n",
        "# draw solid white grid lines\n",
        "plt.grid(color='w', linestyle='solid')\n",
        "\n",
        "# hide axis spines\n",
        "for spine in ax.spines.values():\n",
        "    spine.set_visible(False)\n",
        "    \n",
        "# hide top and right ticks\n",
        "ax.xaxis.tick_bottom()\n",
        "ax.yaxis.tick_left()\n",
        "\n",
        "# lighten ticks and labels\n",
        "ax.tick_params(colors='gray', direction='out')\n",
        "for tick in ax.get_xticklabels():\n",
        "    tick.set_color('gray')\n",
        "for tick in ax.get_yticklabels():\n",
        "    tick.set_color('gray')\n",
        "\n",
        "# control face and edge color of histogram\n",
        "n,bins,edges = ax.hist(x = venues_data.Likes,bins=list(range(0,1200,50)), edgecolor='#E6E6E6', color='#EE6666')\n",
        "plt.xticks(bins)\n",
        "plt.xlim(-10,1050)\n",
        "plt.ylim(0,65)\n",
        "plt.title('Likes distribution')\n",
        "\n",
        "plt.show"
      ],
      "execution_count": null,
      "outputs": [
        {
          "output_type": "execute_result",
          "data": {
            "text/plain": [
              "<function matplotlib.pyplot.show>"
            ]
          },
          "metadata": {
            "tags": []
          },
          "execution_count": 20
        },
        {
          "output_type": "display_data",
          "data": {
            "image/png": "[encoded data removed]",
            "text/plain": [
              "<Figure size 1080x504 with 1 Axes>"
            ]
          },
          "metadata": {
            "tags": [],
            "needs_background": "dark"
          }
        }
      ]
    },
    {
      "cell_type": "markdown",
      "metadata": {
        "id": "Hbi6a-bwpGU9"
      },
      "source": [
        "###Understanding from above histogram: \n",
        "\n",
        "This particular histogram is quite interesting . The frequency distribution is sporadic which was not in the ratings case that we saw earlier. Main highlights from the above histogram are as follows: \n",
        "\n",
        "*   Near about 50 veneus fell in the range of 0-50. These venues could be either less popular or less like by the visitors. To investigate this further, I plotted a scatter plot for 'number of likes Vs. Rating'. \n",
        "*   There few outliers in the histogram that have likes in the range of 950-1000. It would be interesting to see if they are the same venues with maximum rating. \n",
        "\n"
      ]
    },
    {
      "cell_type": "code",
      "metadata": {
        "id": "RGeWaPKRZr0H",
        "colab": {
          "base_uri": "https://localhost:8080/",
          "height": 282
        },
        "outputId": "96045868-2e9b-40aa-be14-12f5f4e7d51b"
      },
      "source": [
        "plt.scatter(x = venues_data.Likes, y = venues_data.Rating, color = 'blue')\n",
        "')"
      ],
      "execution_count": null,
      "outputs": [
        {
          "output_type": "execute_result",
          "data": {
            "text/plain": [
              "<matplotlib.collections.PathCollection at 0x7f8a89b2e9d0>"
            ]
          },
          "metadata": {
            "tags": []
          },
          "execution_count": 22
        },
        {
          "output_type": "display_data",
          "data": {
            "image/png": "[encoded data removed]",
            "text/plain": [
              "<Figure size 432x288 with 1 Axes>"
            ]
          },
          "metadata": {
            "tags": [],
            "needs_background": "light"
          }
        }
      ]
    },
    {
      "cell_type": "markdown",
      "metadata": {
        "id": "XfB5tObUaPZ8"
      },
      "source": [
        "Understanding from above plot"
      ]
    },
    {
      "cell_type": "markdown",
      "metadata": {
        "id": "uGqETyLxaUfi"
      },
      "source": [
        "**Using** folium library, I plotted the venues on the map. I can be noted from the map that most of the venues are clustered together. These locations must be the city centers. I preferred not to digress from current investigation, but it would be interesting to see if location has any effect on the number of likes and Rating."
      ]
    },
    {
      "cell_type": "code",
      "metadata": {
        "id": "OgRsmAuEZU8n",
        "colab": {
          "base_uri": "https://localhost:8080/",
          "height": 760
        },
        "outputId": "117303df-edd3-4e97-f00e-b464ac45d41f"
      },
      "source": [
        "map_banglore= folium.Map(location = [latitude, longitude], zoom_start = 12 )\n",
        "\n",
        "for lat, lng, name, catgories in zip(venues_data['lat'], venues_data['lng'], venues_data['name'], venues_data['categories']):\n",
        "  label = '{},{}'.format(name, catgories)\n",
        "  label = folium.Popup(label, parse_html=True)\n",
        "  folium.CircleMarker(\n",
        "        [lat, lng],\n",
        "        radius=5,\n",
        "        popup=label,\n",
        "        color='blue',\n",
        "        fill=True,\n",
        "        fill_color='#3186cc',\n",
        "        fill_opacity=0.7,\n",
        "        parse_html=False).add_to(map_banglore)  \n",
        "    \n",
        "map_banglore"
      ],
      "execution_count": null,
      "outputs": [
        {
          "output_type": "execute_result",
          "data": {
            "text/html": [
              "<div style=\"width:100%;\"><div style=\"position:relative;width:100%;height:0;padding-bottom:60%;\"><span style=\"color:#565656\">Make this Notebook Trusted to load map: File -> Trust Notebook</span><iframe src=\"about:blank\" style=\"position:absolute;width:100%;height:100%;left:0;top:0;border:none !important;\" data-html=%3C%21DOCTYPE%20html%3E%0A%3Chead%3E%20%20%20%20%0A%20%20%20%20%3Cmeta%20http-equiv%3D%22content-type%22%20content%3D%22text/html%3B%20charset%3DUTF-8%22%20/%3E%0A%20%20%20%20%3Cscript%3EL_PREFER_CANVAS%3Dfalse%3B%20L_NO_TOUCH%3Dfalse%3B%20L_DISABLE_3D%3Dfalse%3B%3C/script%3E%0A%20%20%20%20%3Cscript%20src%3D%22https%3A//cdn.jsdelivr.net/npm/leaflet%401.4.0/dist/leaflet.js%22%3E%3C/script%3E%0A%20%20%20%20%3Cscript%20src%3D%22https%3A//code.jquery.com/jquery-1.12.4.min.js%22%3E%3C/script%3E%0A%20%20%20%20%3Cscript%20src%3D%22https%3A//maxcdn.bootstrapcdn.com/bootstrap/3.2.0/js/bootstrap.min.js%22%3E%3C/script%3E%0A%20%20%20%20%3Cscript%20src%3D%22https%3A//cdnjs.cloudflare.com/ajax/libs/Leaflet.awesome-markers/2.0.2/leaflet.awesome-markers.js%22%3E%3C/script%3E%0A%20%20%20%20%3Clink%20rel%3D%22stylesheet%22%20href%3D%22https%3A//cdn.jsdelivr.net/npm/leaflet%401.4.0/dist/leaflet.css%22/%3E%0A%20%20%20%20%3Clink%20rel%3D%22stylesheet%22%20href%3D%22https%3A//maxcdn.bootstrapcdn.com/bootstrap/3.2.0/css/bootstrap.min.css%22/%3E%0A%20%20%20%20%3Clink%20rel%3D%22stylesheet%22%20href%3D%22https%3A//maxcdn.bootstrapcdn.com/bootstrap/3.2.0/css/bootstrap-theme.min.css%22/%3E%0A%20%20%20%20%3Clink%20rel%3D%22stylesheet%22%20href%3D%22https%3A//maxcdn.bootstrapcdn.com/font-awesome/4.6.3/css/font-awesome.min.css%22/%3E%0A%20%20%20%20%3Clink%20rel%3D%22stylesheet%22%20href%3D%22https%3A//cdnjs.cloudflare.com/ajax/libs/Leaflet.awesome-markers/2.0.2/leaflet.awesome-markers.css%22/%3E%0A%20%20%20%20%3Clink%20rel%3D%22stylesheet%22%20href%3D%22https%3A//rawcdn.githack.com/python-visualization/folium/master/folium/templates/leaflet.awesome.rotate.css%22/%3E%0A%20%20%20%20%3Cstyle%3Ehtml%2C%20body%20%7Bwidth%3A%20100%25%3Bheight%3A%20100%25%3Bmargin%3A%200%3Bpadding%3A%200%3B%7D%3C/style%3E%0A%20%20%20%20%3Cstyle%3E%23map%20%7Bposition%3Aabsolute%3Btop%3A0%3Bbottom%3A0%3Bright%3A0%3Bleft%3A0%3B%7D%3C/style%3E%0A%20%20%20%20%0A%20%20%20%20%3Cmeta%20name%3D%22viewport%22%20content%3D%22width%3Ddevice-width%2C%0A%20%20%20%20%20%20%20%20initial-scale%3D1.0%2C%20maximum-scale%3D1.0%2C%20user-scalable%3Dno%22%20/%3E%0A%20%20%20%20%3Cstyle%3E%23map_4f83ec28c3644a08b81ee7ae2f35e559%20%7B%0A%20%20%20%20%20%20%20%20position%3A%20relative%3B%0A%20%20%20%20%20%20%20%20width%3A%20100.0%25%3B%0A%20%20%20%20%20%20%20%20height%3A%20100.0%25%3B%0A%20%20%20%20%20%20%20%20left%3A%200.0%25%3B%0A%20%20%20%20%20%20%20%20top%3A%200.0%25%3B%0A%20%20%20%20%20%20%20%20%7D%0A%20%20%20%20%3C/style%3E%0A%3C/head%3E%0A%3Cbody%3E%20%20%20%20%0A%20%20%20%20%0A%20%20%20%20%3Cdiv%20class%3D%22folium-map%22%20id%3D%22map_4f83ec28c3644a08b81ee7ae2f35e559%22%20%3E%3C/div%3E%0A%3C/body%3E%0A%3Cscript%3E%20%20%20%20%0A%20%20%20%20%0A%20%20%20%20%0A%20%20%20%20%20%20%20%20var%20bounds%20%3D%20null%3B%0A%20%20%20%20%0A%0A%20%20%20%20var%20map_4f83ec28c3644a08b81ee7ae2f35e559%20%3D%20L.map%28%0A%20%20%20%20%20%20%20%20%27map_4f83ec28c3644a08b81ee7ae2f35e559%27%2C%20%7B%0A%20%20%20%20%20%20%20%20center%3A%20%5B12.9791198%2C%2077.5912997%5D%2C%0A%20%20%20%20%20%20%20%20zoom%3A%2012%2C%0A%20%20%20%20%20%20%20%20maxBounds%3A%20bounds%2C%0A%20%20%20%20%20%20%20%20layers%3A%20%5B%5D%2C%0A%20%20%20%20%20%20%20%20worldCopyJump%3A%20false%2C%0A%20%20%20%20%20%20%20%20crs%3A%20L.CRS.EPSG3857%2C%0A%20%20%20%20%20%20%20%20zoomControl%3A%20true%2C%0A%20%20%20%20%20%20%20%20%7D%29%3B%0A%0A%0A%20%20%20%20%0A%20%20%20%20var%20tile_layer_b5ec1b2ca80747d09db17b33cc6e0433%20%3D%20L.tileLayer%28%0A%20%20%20%20%20%20%20%20%27https%3A//%7Bs%7D.tile.openstreetmap.org/%7Bz%7D/%7Bx%7D/%7By%7D.png%27%2C%0A%20%20%20%20%20%20%20%20%7B%0A%20%20%20%20%20%20%20%20%22attribution%22%3A%20null%2C%0A%20%20%20%20%20%20%20%20%22detectRetina%22%3A%20false%2C%0A%20%20%20%20%20%20%20%20%22maxNativeZoom%22%3A%2018%2C%0A%20%20%20%20%20%20%20%20%22maxZoom%22%3A%2018%2C%0A%20%20%20%20%20%20%20%20%22minZoom%22%3A%200%2C%0A%20%20%20%20%20%20%20%20%22noWrap%22%3A%20false%2C%0A%20%20%20%20%20%20%20%20%22opacity%22%3A%201%2C%0A%20%20%20%20%20%20%20%20%22subdomains%22%3A%20%22abc%22%2C%0A%20%20%20%20%20%20%20%20%22tms%22%3A%20false%0A%7D%29.addTo%28map_4f83ec28c3644a08b81ee7ae2f35e559%29%3B%0A%20%20%20%20%0A%20%20%20%20%20%20%20%20%20%20%20%20var%20circle_marker_6ffbc5a1d44345b6983fc3b2fc8df818%20%3D%20L.circleMarker%28%0A%20%20%20%20%20%20%20%20%20%20%20%20%20%20%20%20%5B12.98246025089549%2C%2077.72186148869667%5D%2C%0A%20%20%20%20%20%20%20%20%20%20%20%20%20%20%20%20%7B%0A%20%20%22bubblingMouseEvents%22%3A%20true%2C%0A%20%20%22color%22%3A%20%22blue%22%2C%0A%20%20%22dashArray%22%3A%20null%2C%0A%20%20%22dashOffset%22%3A%20null%2C%0A%20%20%22fill%22%3A%20true%2C%0A%20%20%22fillColor%22%3A%20%22%233186cc%22%2C%0A%20%20%22fillOpacity%22%3A%200.7%2C%0A%20%20%22fillRule%22%3A%20%22evenodd%22%2C%0A%20%20%22lineCap%22%3A%20%22round%22%2C%0A%20%20%22lineJoin%22%3A%20%22round%22%2C%0A%20%20%22opacity%22%3A%201.0%2C%0A%20%20%22radius%22%3A%205%2C%0A%20%20%22stroke%22%3A%20true%2C%0A%20%20%22weight%22%3A%203%0A%7D%0A%20%20%20%20%20%20%20%20%20%20%20%20%20%20%20%20%29%0A%20%20%20%20%20%20%20%20%20%20%20%20%20%20%20%20.addTo%28map_4f83ec28c3644a08b81ee7ae2f35e559%29%3B%0A%20%20%20%20%20%20%20%20%20%20%20%20%0A%20%20%20%20%0A%20%20%20%20%20%20%20%20%20%20%20%20var%20popup_31619e20c46643df94c6304dab191130%20%3D%20L.popup%28%7BmaxWidth%3A%20%27100%25%27%0A%20%20%20%20%20%20%20%20%20%20%20%20%0A%20%20%20%20%20%20%20%20%20%20%20%20%7D%29%3B%0A%0A%20%20%20%20%20%20%20%20%20%20%20%20%0A%20%20%20%20%20%20%20%20%20%20%20%20%20%20%20%20var%20html_ba02608264344e538034b7d44bcea6a1%20%3D%20%24%28%60%3Cdiv%20id%3D%22html_ba02608264344e538034b7d44bcea6a1%22%20style%3D%22width%3A%20100.0%25%3B%20height%3A%20100.0%25%3B%22%3EWindmills%20Craftworks%2CBrewery%3C/div%3E%60%29%5B0%5D%3B%0A%20%20%20%20%20%20%20%20%20%20%20%20%20%20%20%20popup_31619e20c46643df94c6304dab191130.setContent%28html_ba02608264344e538034b7d44bcea6a1%29%3B%0A%20%20%20%20%20%20%20%20%20%20%20%20%0A%0A%20%20%20%20%20%20%20%20%20%20%20%20circle_marker_6ffbc5a1d44345b6983fc3b2fc8df818.bindPopup%28popup_31619e20c46643df94c6304dab191130%29%0A%20%20%20%20%20%20%20%20%20%20%20%20%3B%0A%0A%20%20%20%20%20%20%20%20%20%20%20%20%0A%20%20%20%20%20%20%20%20%0A%20%20%20%20%0A%20%20%20%20%20%20%20%20%20%20%20%20var%20circle_marker_03f4dbd342e0436ba7b3a400b5cd0e29%20%3D%20L.circleMarker%28%0A%20%20%20%20%20%20%20%20%20%20%20%20%20%20%20%20%5B12.979367419317535%2C%2077.64070245409556%5D%2C%0A%20%20%20%20%20%20%20%20%20%20%20%20%20%20%20%20%7B%0A%20%20%22bubblingMouseEvents%22%3A%20true%2C%0A%20%20%22color%22%3A%20%22blue%22%2C%0A%20%20%22dashArray%22%3A%20null%2C%0A%20%20%22dashOffset%22%3A%20null%2C%0A%20%20%22fill%22%3A%20true%2C%0A%20%20%22fillColor%22%3A%20%22%233186cc%22%2C%0A%20%20%22fillOpacity%22%3A%200.7%2C%0A%20%20%22fillRule%22%3A%20%22evenodd%22%2C%0A%20%20%22lineCap%22%3A%20%22round%22%2C%0A%20%20%22lineJoin%22%3A%20%22round%22%2C%0A%20%20%22opacity%22%3A%201.0%2C%0A%20%20%22radius%22%3A%205%2C%0A%20%20%22stroke%22%3A%20true%2C%0A%20%20%22weight%22%3A%203%0A%7D%0A%20%20%20%20%20%20%20%20%20%20%20%20%20%20%20%20%29%0A%20%20%20%20%20%20%20%20%20%20%20%20%20%20%20%20.addTo%28map_4f83ec28c3644a08b81ee7ae2f35e559%29%3B%0A%20%20%20%20%20%20%20%20%20%20%20%20%0A%20%20%20%20%0A%20%20%20%20%20%20%20%20%20%20%20%20var%20popup_0a2b06ea923944f79e9f47617af0eec5%20%3D%20L.popup%28%7BmaxWidth%3A%20%27100%25%27%0A%20%20%20%20%20%20%20%20%20%20%20%20%0A%20%20%20%20%20%20%20%20%20%20%20%20%7D%29%3B%0A%0A%20%20%20%20%20%20%20%20%20%20%20%20%0A%20%20%20%20%20%20%20%20%20%20%20%20%20%20%20%20var%20html_8d8f602bdf5e45ddb3c03bcab875d957%20%3D%20%24%28%60%3Cdiv%20id%3D%22html_8d8f602bdf5e45ddb3c03bcab875d957%22%20style%3D%22width%3A%20100.0%25%3B%20height%3A%20100.0%25%3B%22%3EToit%20Brewpub%2CBrewery%3C/div%3E%60%29%5B0%5D%3B%0A%20%20%20%20%20%20%20%20%20%20%20%20%20%20%20%20popup_0a2b06ea923944f79e9f47617af0eec5.setContent%28html_8d8f602bdf5e45ddb3c03bcab875d957%29%3B%0A%20%20%20%20%20%20%20%20%20%20%20%20%0A%0A%20%20%20%20%20%20%20%20%20%20%20%20circle_marker_03f4dbd342e0436ba7b3a400b5cd0e29.bindPopup%28popup_0a2b06ea923944f79e9f47617af0eec5%29%0A%20%20%20%20%20%20%20%20%20%20%20%20%3B%0A%0A%20%20%20%20%20%20%20%20%20%20%20%20%0A%20%20%20%20%20%20%20%20%0A%20%20%20%20%0A%20%20%20%20%20%20%20%20%20%20%20%20var%20circle_marker_f8109b4909864a23a90ab7a37c901cc4%20%3D%20L.circleMarker%28%0A%20%20%20%20%20%20%20%20%20%20%20%20%20%20%20%20%5B12.970139599197337%2C%2077.61085658133437%5D%2C%0A%20%20%20%20%20%20%20%20%20%20%20%20%20%20%20%20%7B%0A%20%20%22bubblingMouseEvents%22%3A%20true%2C%0A%20%20%22color%22%3A%20%22blue%22%2C%0A%20%20%22dashArray%22%3A%20null%2C%0A%20%20%22dashOffset%22%3A%20null%2C%0A%20%20%22fill%22%3A%20true%2C%0A%20%20%22fillColor%22%3A%20%22%233186cc%22%2C%0A%20%20%22fillOpacity%22%3A%200.7%2C%0A%20%20%22fillRule%22%3A%20%22evenodd%22%2C%0A%20%20%22lineCap%22%3A%20%22round%22%2C%0A%20%20%22lineJoin%22%3A%20%22round%22%2C%0A%20%20%22opacity%22%3A%201.0%2C%0A%20%20%22radius%22%3A%205%2C%0A%20%20%22stroke%22%3A%20true%2C%0A%20%20%22weight%22%3A%203%0A%7D%0A%20%20%20%20%20%20%20%20%20%20%20%20%20%20%20%20%29%0A%20%20%20%20%20%20%20%20%20%20%20%20%20%20%20%20.addTo%28map_4f83ec28c3644a08b81ee7ae2f35e559%29%3B%0A%20%20%20%20%20%20%20%20%20%20%20%20%0A%20%20%20%20%0A%20%20%20%20%20%20%20%20%20%20%20%20var%20popup_e8043af3ad314384b3823bfdaa4a0421%20%3D%20L.popup%28%7BmaxWidth%3A%20%27100%25%27%0A%20%20%20%20%20%20%20%20%20%20%20%20%0A%20%20%20%20%20%20%20%20%20%20%20%20%7D%29%3B%0A%0A%20%20%20%20%20%20%20%20%20%20%20%20%0A%20%20%20%20%20%20%20%20%20%20%20%20%20%20%20%20var%20html_9f8cd10cdd6b41abba393f2662122d9b%20%3D%20%24%28%60%3Cdiv%20id%3D%22html_9f8cd10cdd6b41abba393f2662122d9b%22%20style%3D%22width%3A%20100.0%25%3B%20height%3A%20100.0%25%3B%22%3EArbor%20Brewing%20Company%2CBrewery%3C/div%3E%60%29%5B0%5D%3B%0A%20%20%20%20%20%20%20%20%20%20%20%20%20%20%20%20popup_e8043af3ad314384b3823bfdaa4a0421.setContent%28html_9f8cd10cdd6b41abba393f2662122d9b%29%3B%0A%20%20%20%20%20%20%20%20%20%20%20%20%0A%0A%20%20%20%20%20%20%20%20%20%20%20%20circle_marker_f8109b4909864a23a90ab7a37c901cc4.bindPopup%28popup_e8043af3ad314384b3823bfdaa4a0421%29%0A%20%20%20%20%20%20%20%20%20%20%20%20%3B%0A%0A%20%20%20%20%20%20%20%20%20%20%20%20%0A%20%20%20%20%20%20%20%20%0A%20%20%20%20%0A%20%20%20%20%20%20%20%20%20%20%20%20var%20circle_marker_a4f6cc808355442e9ded70fbaf1f3195%20%3D%20L.circleMarker%28%0A%20%20%20%20%20%20%20%20%20%20%20%20%20%20%20%20%5B12.997342644958144%2C%2077.69628846905438%5D%2C%0A%20%20%20%20%20%20%20%20%20%20%20%20%20%20%20%20%7B%0A%20%20%22bubblingMouseEvents%22%3A%20true%2C%0A%20%20%22color%22%3A%20%22blue%22%2C%0A%20%20%22dashArray%22%3A%20null%2C%0A%20%20%22dashOffset%22%3A%20null%2C%0A%20%20%22fill%22%3A%20true%2C%0A%20%20%22fillColor%22%3A%20%22%233186cc%22%2C%0A%20%20%22fillOpacity%22%3A%200.7%2C%0A%20%20%22fillRule%22%3A%20%22evenodd%22%2C%0A%20%20%22lineCap%22%3A%20%22round%22%2C%0A%20%20%22lineJoin%22%3A%20%22round%22%2C%0A%20%20%22opacity%22%3A%201.0%2C%0A%20%20%22radius%22%3A%205%2C%0A%20%20%22stroke%22%3A%20true%2C%0A%20%20%22weight%22%3A%203%0A%7D%0A%20%20%20%20%20%20%20%20%20%20%20%20%20%20%20%20%29%0A%20%20%20%20%20%20%20%20%20%20%20%20%20%20%20%20.addTo%28map_4f83ec28c3644a08b81ee7ae2f35e559%29%3B%0A%20%20%20%20%20%20%20%20%20%20%20%20%0A%20%20%20%20%0A%20%20%20%20%20%20%20%20%20%20%20%20var%20popup_ffea47abdb8f4a06ae7cf5f4a2ef849a%20%3D%20L.popup%28%7BmaxWidth%3A%20%27100%25%27%0A%20%20%20%20%20%20%20%20%20%20%20%20%0A%20%20%20%20%20%20%20%20%20%20%20%20%7D%29%3B%0A%0A%20%20%20%20%20%20%20%20%20%20%20%20%0A%20%20%20%20%20%20%20%20%20%20%20%20%20%20%20%20var%20html_f5849ce30ad24dc7837d23193b06b51c%20%3D%20%24%28%60%3Cdiv%20id%3D%22html_f5849ce30ad24dc7837d23193b06b51c%22%20style%3D%22width%3A%20100.0%25%3B%20height%3A%20100.0%25%3B%22%3EWhitefield%20Social%2CLounge%3C/div%3E%60%29%5B0%5D%3B%0A%20%20%20%20%20%20%20%20%20%20%20%20%20%20%20%20popup_ffea47abdb8f4a06ae7cf5f4a2ef849a.setContent%28html_f5849ce30ad24dc7837d23193b06b51c%29%3B%0A%20%20%20%20%20%20%20%20%20%20%20%20%0A%0A%20%20%20%20%20%20%20%20%20%20%20%20circle_marker_a4f6cc808355442e9ded70fbaf1f3195.bindPopup%28popup_ffea47abdb8f4a06ae7cf5f4a2ef849a%29%0A%20%20%20%20%20%20%20%20%20%20%20%20%3B%0A%0A%20%20%20%20%20%20%20%20%20%20%20%20%0A%20%20%20%20%20%20%20%20%0A%20%20%20%20%0A%20%20%20%20%20%20%20%20%20%20%20%20var%20circle_marker_f043983325bc491a9d593fe64ecd47c5%20%3D%20L.circleMarker%28%0A%20%20%20%20%20%20%20%20%20%20%20%20%20%20%20%20%5B13.199887%2C%2077.709638%5D%2C%0A%20%20%20%20%20%20%20%20%20%20%20%20%20%20%20%20%7B%0A%20%20%22bubblingMouseEvents%22%3A%20true%2C%0A%20%20%22color%22%3A%20%22blue%22%2C%0A%20%20%22dashArray%22%3A%20null%2C%0A%20%20%22dashOffset%22%3A%20null%2C%0A%20%20%22fill%22%3A%20true%2C%0A%20%20%22fillColor%22%3A%20%22%233186cc%22%2C%0A%20%20%22fillOpacity%22%3A%200.7%2C%0A%20%20%22fillRule%22%3A%20%22evenodd%22%2C%0A%20%20%22lineCap%22%3A%20%22round%22%2C%0A%20%20%22lineJoin%22%3A%20%22round%22%2C%0A%20%20%22opacity%22%3A%201.0%2C%0A%20%20%22radius%22%3A%205%2C%0A%20%20%22stroke%22%3A%20true%2C%0A%20%20%22weight%22%3A%203%0A%7D%0A%20%20%20%20%20%20%20%20%20%20%20%20%20%20%20%20%29%0A%20%20%20%20%20%20%20%20%20%20%20%20%20%20%20%20.addTo%28map_4f83ec28c3644a08b81ee7ae2f35e559%29%3B%0A%20%20%20%20%20%20%20%20%20%20%20%20%0A%20%20%20%20%0A%20%20%20%20%20%20%20%20%20%20%20%20var%20popup_27fbf950a25a4231b4ccbe36ca63fa5a%20%3D%20L.popup%28%7BmaxWidth%3A%20%27100%25%27%0A%20%20%20%20%20%20%20%20%20%20%20%20%0A%20%20%20%20%20%20%20%20%20%20%20%20%7D%29%3B%0A%0A%20%20%20%20%20%20%20%20%20%20%20%20%0A%20%20%20%20%20%20%20%20%20%20%20%20%20%20%20%20var%20html_baf785c37aa441d48eb014e4e0cb3ce7%20%3D%20%24%28%60%3Cdiv%20id%3D%22html_baf785c37aa441d48eb014e4e0cb3ce7%22%20style%3D%22width%3A%20100.0%25%3B%20height%3A%20100.0%25%3B%22%3EWindmills%20Craftswork%2CBrewery%3C/div%3E%60%29%5B0%5D%3B%0A%20%20%20%20%20%20%20%20%20%20%20%20%20%20%20%20popup_27fbf950a25a4231b4ccbe36ca63fa5a.setContent%28html_baf785c37aa441d48eb014e4e0cb3ce7%29%3B%0A%20%20%20%20%20%20%20%20%20%20%20%20%0A%0A%20%20%20%20%20%20%20%20%20%20%20%20circle_marker_f043983325bc491a9d593fe64ecd47c5.bindPopup%28popup_27fbf950a25a4231b4ccbe36ca63fa5a%29%0A%20%20%20%20%20%20%20%20%20%20%20%20%3B%0A%0A%20%20%20%20%20%20%20%20%20%20%20%20%0A%20%20%20%20%20%20%20%20%0A%20%20%20%20%0A%20%20%20%20%20%20%20%20%20%20%20%20var%20circle_marker_377f5697423a43b48502a459b85840c9%20%3D%20L.circleMarker%28%0A%20%20%20%20%20%20%20%20%20%20%20%20%20%20%20%20%5B12.975363633712803%2C%2077.60499494028885%5D%2C%0A%20%20%20%20%20%20%20%20%20%20%20%20%20%20%20%20%7B%0A%20%20%22bubblingMouseEvents%22%3A%20true%2C%0A%20%20%22color%22%3A%20%22blue%22%2C%0A%20%20%22dashArray%22%3A%20null%2C%0A%20%20%22dashOffset%22%3A%20null%2C%0A%20%20%22fill%22%3A%20true%2C%0A%20%20%22fillColor%22%3A%20%22%233186cc%22%2C%0A%20%20%22fillOpacity%22%3A%200.7%2C%0A%20%20%22fillRule%22%3A%20%22evenodd%22%2C%0A%20%20%22lineCap%22%3A%20%22round%22%2C%0A%20%20%22lineJoin%22%3A%20%22round%22%2C%0A%20%20%22opacity%22%3A%201.0%2C%0A%20%20%22radius%22%3A%205%2C%0A%20%20%22stroke%22%3A%20true%2C%0A%20%20%22weight%22%3A%203%0A%7D%0A%20%20%20%20%20%20%20%20%20%20%20%20%20%20%20%20%29%0A%20%20%20%20%20%20%20%20%20%20%20%20%20%20%20%20.addTo%28map_4f83ec28c3644a08b81ee7ae2f35e559%29%3B%0A%20%20%20%20%20%20%20%20%20%20%20%20%0A%20%20%20%20%0A%20%20%20%20%20%20%20%20%20%20%20%20var%20popup_b396bb31d5c24b5ea4c1e23c9af41307%20%3D%20L.popup%28%7BmaxWidth%3A%20%27100%25%27%0A%20%20%20%20%20%20%20%20%20%20%20%20%0A%20%20%20%20%20%20%20%20%20%20%20%20%7D%29%3B%0A%0A%20%20%20%20%20%20%20%20%20%20%20%20%0A%20%20%20%20%20%20%20%20%20%20%20%20%20%20%20%20var%20html_c73b79d7c21b4ddf800b29a9f508a9f2%20%3D%20%24%28%60%3Cdiv%20id%3D%22html_c73b79d7c21b4ddf800b29a9f508a9f2%22%20style%3D%22width%3A%20100.0%25%3B%20height%3A%20100.0%25%3B%22%3EThe%2013th%20Floor%2CLounge%3C/div%3E%60%29%5B0%5D%3B%0A%20%20%20%20%20%20%20%20%20%20%20%20%20%20%20%20popup_b396bb31d5c24b5ea4c1e23c9af41307.setContent%28html_c73b79d7c21b4ddf800b29a9f508a9f2%29%3B%0A%20%20%20%20%20%20%20%20%20%20%20%20%0A%0A%20%20%20%20%20%20%20%20%20%20%20%20circle_marker_377f5697423a43b48502a459b85840c9.bindPopup%28popup_b396bb31d5c24b5ea4c1e23c9af41307%29%0A%20%20%20%20%20%20%20%20%20%20%20%20%3B%0A%0A%20%20%20%20%20%20%20%20%20%20%20%20%0A%20%20%20%20%20%20%20%20%0A%20%20%20%20%0A%20%20%20%20%20%20%20%20%20%20%20%20var%20circle_marker_feb7f19cdc6c4f5cb90b2ae999935d42%20%3D%20L.circleMarker%28%0A%20%20%20%20%20%20%20%20%20%20%20%20%20%20%20%20%5B12.975559069066918%2C%2077.60257885565107%5D%2C%0A%20%20%20%20%20%20%20%20%20%20%20%20%20%20%20%20%7B%0A%20%20%22bubblingMouseEvents%22%3A%20true%2C%0A%20%20%22color%22%3A%20%22blue%22%2C%0A%20%20%22dashArray%22%3A%20null%2C%0A%20%20%22dashOffset%22%3A%20null%2C%0A%20%20%22fill%22%3A%20true%2C%0A%20%20%22fillColor%22%3A%20%22%233186cc%22%2C%0A%20%20%22fillOpacity%22%3A%200.7%2C%0A%20%20%22fillRule%22%3A%20%22evenodd%22%2C%0A%20%20%22lineCap%22%3A%20%22round%22%2C%0A%20%20%22lineJoin%22%3A%20%22round%22%2C%0A%20%20%22opacity%22%3A%201.0%2C%0A%20%20%22radius%22%3A%205%2C%0A%20%20%22stroke%22%3A%20true%2C%0A%20%20%22weight%22%3A%203%0A%7D%0A%20%20%20%20%20%20%20%20%20%20%20%20%20%20%20%20%29%0A%20%20%20%20%20%20%20%20%20%20%20%20%20%20%20%20.addTo%28map_4f83ec28c3644a08b81ee7ae2f35e559%29%3B%0A%20%20%20%20%20%20%20%20%20%20%20%20%0A%20%20%20%20%0A%20%20%20%20%20%20%20%20%20%20%20%20var%20popup_23d56d339842425491b5f26ef030de09%20%3D%20L.popup%28%7BmaxWidth%3A%20%27100%25%27%0A%20%20%20%20%20%20%20%20%20%20%20%20%0A%20%20%20%20%20%20%20%20%20%20%20%20%7D%29%3B%0A%0A%20%20%20%20%20%20%20%20%20%20%20%20%0A%20%20%20%20%20%20%20%20%20%20%20%20%20%20%20%20var%20html_813503b4bda440f9aedc7d397ddde006%20%3D%20%24%28%60%3Cdiv%20id%3D%22html_813503b4bda440f9aedc7d397ddde006%22%20style%3D%22width%3A%20100.0%25%3B%20height%3A%20100.0%25%3B%22%3EChurch%20Street%20Social%2CPub%3C/div%3E%60%29%5B0%5D%3B%0A%20%20%20%20%20%20%20%20%20%20%20%20%20%20%20%20popup_23d56d339842425491b5f26ef030de09.setContent%28html_813503b4bda440f9aedc7d397ddde006%29%3B%0A%20%20%20%20%20%20%20%20%20%20%20%20%0A%0A%20%20%20%20%20%20%20%20%20%20%20%20circle_marker_feb7f19cdc6c4f5cb90b2ae999935d42.bindPopup%28popup_23d56d339842425491b5f26ef030de09%29%0A%20%20%20%20%20%20%20%20%20%20%20%20%3B%0A%0A%20%20%20%20%20%20%20%20%20%20%20%20%0A%20%20%20%20%20%20%20%20%0A%20%20%20%20%0A%20%20%20%20%20%20%20%20%20%20%20%20var%20circle_marker_6056ce4a7001430a8ca4ef7261c20ac9%20%3D%20L.circleMarker%28%0A%20%20%20%20%20%20%20%20%20%20%20%20%20%20%20%20%5B12.913141065615836%2C%2077.68323317792031%5D%2C%0A%20%20%20%20%20%20%20%20%20%20%20%20%20%20%20%20%7B%0A%20%20%22bubblingMouseEvents%22%3A%20true%2C%0A%20%20%22color%22%3A%20%22blue%22%2C%0A%20%20%22dashArray%22%3A%20null%2C%0A%20%20%22dashOffset%22%3A%20null%2C%0A%20%20%22fill%22%3A%20true%2C%0A%20%20%22fillColor%22%3A%20%22%233186cc%22%2C%0A%20%20%22fillOpacity%22%3A%200.7%2C%0A%20%20%22fillRule%22%3A%20%22evenodd%22%2C%0A%20%20%22lineCap%22%3A%20%22round%22%2C%0A%20%20%22lineJoin%22%3A%20%22round%22%2C%0A%20%20%22opacity%22%3A%201.0%2C%0A%20%20%22radius%22%3A%205%2C%0A%20%20%22stroke%22%3A%20true%2C%0A%20%20%22weight%22%3A%203%0A%7D%0A%20%20%20%20%20%20%20%20%20%20%20%20%20%20%20%20%29%0A%20%20%20%20%20%20%20%20%20%20%20%20%20%20%20%20.addTo%28map_4f83ec28c3644a08b81ee7ae2f35e559%29%3B%0A%20%20%20%20%20%20%20%20%20%20%20%20%0A%20%20%20%20%0A%20%20%20%20%20%20%20%20%20%20%20%20var%20popup_179c017802e045458555aff9590c65aa%20%3D%20L.popup%28%7BmaxWidth%3A%20%27100%25%27%0A%20%20%20%20%20%20%20%20%20%20%20%20%0A%20%20%20%20%20%20%20%20%20%20%20%20%7D%29%3B%0A%0A%20%20%20%20%20%20%20%20%20%20%20%20%0A%20%20%20%20%20%20%20%20%20%20%20%20%20%20%20%20var%20html_336a93eaf41847b9bc74e39343ac1bec%20%3D%20%24%28%60%3Cdiv%20id%3D%22html_336a93eaf41847b9bc74e39343ac1bec%22%20style%3D%22width%3A%20100.0%25%3B%20height%3A%20100.0%25%3B%22%3EBig%20Brewsky%2CBrewery%3C/div%3E%60%29%5B0%5D%3B%0A%20%20%20%20%20%20%20%20%20%20%20%20%20%20%20%20popup_179c017802e045458555aff9590c65aa.setContent%28html_336a93eaf41847b9bc74e39343ac1bec%29%3B%0A%20%20%20%20%20%20%20%20%20%20%20%20%0A%0A%20%20%20%20%20%20%20%20%20%20%20%20circle_marker_6056ce4a7001430a8ca4ef7261c20ac9.bindPopup%28popup_179c017802e045458555aff9590c65aa%29%0A%20%20%20%20%20%20%20%20%20%20%20%20%3B%0A%0A%20%20%20%20%20%20%20%20%20%20%20%20%0A%20%20%20%20%20%20%20%20%0A%20%20%20%20%0A%20%20%20%20%20%20%20%20%20%20%20%20var%20circle_marker_379cb32e3aec44b09eb063fb9f428f21%20%3D%20L.circleMarker%28%0A%20%20%20%20%20%20%20%20%20%20%20%20%20%20%20%20%5B12.93551830266139%2C%2077.61409673299354%5D%2C%0A%20%20%20%20%20%20%20%20%20%20%20%20%20%20%20%20%7B%0A%20%20%22bubblingMouseEvents%22%3A%20true%2C%0A%20%20%22color%22%3A%20%22blue%22%2C%0A%20%20%22dashArray%22%3A%20null%2C%0A%20%20%22dashOffset%22%3A%20null%2C%0A%20%20%22fill%22%3A%20true%2C%0A%20%20%22fillColor%22%3A%20%22%233186cc%22%2C%0A%20%20%22fillOpacity%22%3A%200.7%2C%0A%20%20%22fillRule%22%3A%20%22evenodd%22%2C%0A%20%20%22lineCap%22%3A%20%22round%22%2C%0A%20%20%22lineJoin%22%3A%20%22round%22%2C%0A%20%20%22opacity%22%3A%201.0%2C%0A%20%20%22radius%22%3A%205%2C%0A%20%20%22stroke%22%3A%20true%2C%0A%20%20%22weight%22%3A%203%0A%7D%0A%20%20%20%20%20%20%20%20%20%20%20%20%20%20%20%20%29%0A%20%20%20%20%20%20%20%20%20%20%20%20%20%20%20%20.addTo%28map_4f83ec28c3644a08b81ee7ae2f35e559%29%3B%0A%20%20%20%20%20%20%20%20%20%20%20%20%0A%20%20%20%20%0A%20%20%20%20%20%20%20%20%20%20%20%20var%20popup_af2a7a847f4d4883bc905a491e257be3%20%3D%20L.popup%28%7BmaxWidth%3A%20%27100%25%27%0A%20%20%20%20%20%20%20%20%20%20%20%20%0A%20%20%20%20%20%20%20%20%20%20%20%20%7D%29%3B%0A%0A%20%20%20%20%20%20%20%20%20%20%20%20%0A%20%20%20%20%20%20%20%20%20%20%20%20%20%20%20%20var%20html_280f88cf91e14cb18bb0e69c0596041a%20%3D%20%24%28%60%3Cdiv%20id%3D%22html_280f88cf91e14cb18bb0e69c0596041a%22%20style%3D%22width%3A%20100.0%25%3B%20height%3A%20100.0%25%3B%22%3EKoramangala%20Social%2CLounge%3C/div%3E%60%29%5B0%5D%3B%0A%20%20%20%20%20%20%20%20%20%20%20%20%20%20%20%20popup_af2a7a847f4d4883bc905a491e257be3.setContent%28html_280f88cf91e14cb18bb0e69c0596041a%29%3B%0A%20%20%20%20%20%20%20%20%20%20%20%20%0A%0A%20%20%20%20%20%20%20%20%20%20%20%20circle_marker_379cb32e3aec44b09eb063fb9f428f21.bindPopup%28popup_af2a7a847f4d4883bc905a491e257be3%29%0A%20%20%20%20%20%20%20%20%20%20%20%20%3B%0A%0A%20%20%20%20%20%20%20%20%20%20%20%20%0A%20%20%20%20%20%20%20%20%0A%20%20%20%20%0A%20%20%20%20%20%20%20%20%20%20%20%20var%20circle_marker_fff7e69c41aa400eb96b6d26031ace8e%20%3D%20L.circleMarker%28%0A%20%20%20%20%20%20%20%20%20%20%20%20%20%20%20%20%5B12.971645639193747%2C%2077.5962418409012%5D%2C%0A%20%20%20%20%20%20%20%20%20%20%20%20%20%20%20%20%7B%0A%20%20%22bubblingMouseEvents%22%3A%20true%2C%0A%20%20%22color%22%3A%20%22blue%22%2C%0A%20%20%22dashArray%22%3A%20null%2C%0A%20%20%22dashOffset%22%3A%20null%2C%0A%20%20%22fill%22%3A%20true%2C%0A%20%20%22fillColor%22%3A%20%22%233186cc%22%2C%0A%20%20%22fillOpacity%22%3A%200.7%2C%0A%20%20%22fillRule%22%3A%20%22evenodd%22%2C%0A%20%20%22lineCap%22%3A%20%22round%22%2C%0A%20%20%22lineJoin%22%3A%20%22round%22%2C%0A%20%20%22opacity%22%3A%201.0%2C%0A%20%20%22radius%22%3A%205%2C%0A%20%20%22stroke%22%3A%20true%2C%0A%20%20%22weight%22%3A%203%0A%7D%0A%20%20%20%20%20%20%20%20%20%20%20%20%20%20%20%20%29%0A%20%20%20%20%20%20%20%20%20%20%20%20%20%20%20%20.addTo%28map_4f83ec28c3644a08b81ee7ae2f35e559%29%3B%0A%20%20%20%20%20%20%20%20%20%20%20%20%0A%20%20%20%20%0A%20%20%20%20%20%20%20%20%20%20%20%20var%20popup_447994c2fd704d189876875be94f87fa%20%3D%20L.popup%28%7BmaxWidth%3A%20%27100%25%27%0A%20%20%20%20%20%20%20%20%20%20%20%20%0A%20%20%20%20%20%20%20%20%20%20%20%20%7D%29%3B%0A%0A%20%20%20%20%20%20%20%20%20%20%20%20%0A%20%20%20%20%20%20%20%20%20%20%20%20%20%20%20%20var%20html_a22bf0093e1241e5a72e82da63dac442%20%3D%20%24%28%60%3Cdiv%20id%3D%22html_a22bf0093e1241e5a72e82da63dac442%22%20style%3D%22width%3A%20100.0%25%3B%20height%3A%20100.0%25%3B%22%3ESkyye%2CLounge%3C/div%3E%60%29%5B0%5D%3B%0A%20%20%20%20%20%20%20%20%20%20%20%20%20%20%20%20popup_447994c2fd704d189876875be94f87fa.setContent%28html_a22bf0093e1241e5a72e82da63dac442%29%3B%0A%20%20%20%20%20%20%20%20%20%20%20%20%0A%0A%20%20%20%20%20%20%20%20%20%20%20%20circle_marker_fff7e69c41aa400eb96b6d26031ace8e.bindPopup%28popup_447994c2fd704d189876875be94f87fa%29%0A%20%20%20%20%20%20%20%20%20%20%20%20%3B%0A%0A%20%20%20%20%20%20%20%20%20%20%20%20%0A%20%20%20%20%20%20%20%20%0A%20%20%20%20%0A%20%20%20%20%20%20%20%20%20%20%20%20var%20circle_marker_f5f967890eea459b9834ac7afa3e55a9%20%3D%20L.circleMarker%28%0A%20%20%20%20%20%20%20%20%20%20%20%20%20%20%20%20%5B13.063945601216286%2C%2077.59149228078782%5D%2C%0A%20%20%20%20%20%20%20%20%20%20%20%20%20%20%20%20%7B%0A%20%20%22bubblingMouseEvents%22%3A%20true%2C%0A%20%20%22color%22%3A%20%22blue%22%2C%0A%20%20%22dashArray%22%3A%20null%2C%0A%20%20%22dashOffset%22%3A%20null%2C%0A%20%20%22fill%22%3A%20true%2C%0A%20%20%22fillColor%22%3A%20%22%233186cc%22%2C%0A%20%20%22fillOpacity%22%3A%200.7%2C%0A%20%20%22fillRule%22%3A%20%22evenodd%22%2C%0A%20%20%22lineCap%22%3A%20%22round%22%2C%0A%20%20%22lineJoin%22%3A%20%22round%22%2C%0A%20%20%22opacity%22%3A%201.0%2C%0A%20%20%22radius%22%3A%205%2C%0A%20%20%22stroke%22%3A%20true%2C%0A%20%20%22weight%22%3A%203%0A%7D%0A%20%20%20%20%20%20%20%20%20%20%20%20%20%20%20%20%29%0A%20%20%20%20%20%20%20%20%20%20%20%20%20%20%20%20.addTo%28map_4f83ec28c3644a08b81ee7ae2f35e559%29%3B%0A%20%20%20%20%20%20%20%20%20%20%20%20%0A%20%20%20%20%0A%20%20%20%20%20%20%20%20%20%20%20%20var%20popup_264e4239abda459797cea7d24cd10e22%20%3D%20L.popup%28%7BmaxWidth%3A%20%27100%25%27%0A%20%20%20%20%20%20%20%20%20%20%20%20%0A%20%20%20%20%20%20%20%20%20%20%20%20%7D%29%3B%0A%0A%20%20%20%20%20%20%20%20%20%20%20%20%0A%20%20%20%20%20%20%20%20%20%20%20%20%20%20%20%20var%20html_a8014e5e931f455ba0c9809f05464495%20%3D%20%24%28%60%3Cdiv%20id%3D%22html_a8014e5e931f455ba0c9809f05464495%22%20style%3D%22width%3A%20100.0%25%3B%20height%3A%20100.0%25%3B%22%3EThe%20Druid%20Garden%2CBrewery%3C/div%3E%60%29%5B0%5D%3B%0A%20%20%20%20%20%20%20%20%20%20%20%20%20%20%20%20popup_264e4239abda459797cea7d24cd10e22.setContent%28html_a8014e5e931f455ba0c9809f05464495%29%3B%0A%20%20%20%20%20%20%20%20%20%20%20%20%0A%0A%20%20%20%20%20%20%20%20%20%20%20%20circle_marker_f5f967890eea459b9834ac7afa3e55a9.bindPopup%28popup_264e4239abda459797cea7d24cd10e22%29%0A%20%20%20%20%20%20%20%20%20%20%20%20%3B%0A%0A%20%20%20%20%20%20%20%20%20%20%20%20%0A%20%20%20%20%20%20%20%20%0A%20%20%20%20%0A%20%20%20%20%20%20%20%20%20%20%20%20var%20circle_marker_fefa5eee027d40069c894a40e2fb6fb6%20%3D%20L.circleMarker%28%0A%20%20%20%20%20%20%20%20%20%20%20%20%20%20%20%20%5B12.935507381039018%2C%2077.61498159677937%5D%2C%0A%20%20%20%20%20%20%20%20%20%20%20%20%20%20%20%20%7B%0A%20%20%22bubblingMouseEvents%22%3A%20true%2C%0A%20%20%22color%22%3A%20%22blue%22%2C%0A%20%20%22dashArray%22%3A%20null%2C%0A%20%20%22dashOffset%22%3A%20null%2C%0A%20%20%22fill%22%3A%20true%2C%0A%20%20%22fillColor%22%3A%20%22%233186cc%22%2C%0A%20%20%22fillOpacity%22%3A%200.7%2C%0A%20%20%22fillRule%22%3A%20%22evenodd%22%2C%0A%20%20%22lineCap%22%3A%20%22round%22%2C%0A%20%20%22lineJoin%22%3A%20%22round%22%2C%0A%20%20%22opacity%22%3A%201.0%2C%0A%20%20%22radius%22%3A%205%2C%0A%20%20%22stroke%22%3A%20true%2C%0A%20%20%22weight%22%3A%203%0A%7D%0A%20%20%20%20%20%20%20%20%20%20%20%20%20%20%20%20%29%0A%20%20%20%20%20%20%20%20%20%20%20%20%20%20%20%20.addTo%28map_4f83ec28c3644a08b81ee7ae2f35e559%29%3B%0A%20%20%20%20%20%20%20%20%20%20%20%20%0A%20%20%20%20%0A%20%20%20%20%20%20%20%20%20%20%20%20var%20popup_a63b964ccbca419b88350d07662669d2%20%3D%20L.popup%28%7BmaxWidth%3A%20%27100%25%27%0A%20%20%20%20%20%20%20%20%20%20%20%20%0A%20%20%20%20%20%20%20%20%20%20%20%20%7D%29%3B%0A%0A%20%20%20%20%20%20%20%20%20%20%20%20%0A%20%20%20%20%20%20%20%20%20%20%20%20%20%20%20%20var%20html_730dbf39d6e64944b7450101a3c3895a%20%3D%20%24%28%60%3Cdiv%20id%3D%22html_730dbf39d6e64944b7450101a3c3895a%22%20style%3D%22width%3A%20100.0%25%3B%20height%3A%20100.0%25%3B%22%3EXOOX%20Brewmill%2CBrewery%3C/div%3E%60%29%5B0%5D%3B%0A%20%20%20%20%20%20%20%20%20%20%20%20%20%20%20%20popup_a63b964ccbca419b88350d07662669d2.setContent%28html_730dbf39d6e64944b7450101a3c3895a%29%3B%0A%20%20%20%20%20%20%20%20%20%20%20%20%0A%0A%20%20%20%20%20%20%20%20%20%20%20%20circle_marker_fefa5eee027d40069c894a40e2fb6fb6.bindPopup%28popup_a63b964ccbca419b88350d07662669d2%29%0A%20%20%20%20%20%20%20%20%20%20%20%20%3B%0A%0A%20%20%20%20%20%20%20%20%20%20%20%20%0A%20%20%20%20%20%20%20%20%0A%20%20%20%20%0A%20%20%20%20%20%20%20%20%20%20%20%20var%20circle_marker_28e5c188f13147d6b532071e0a27e046%20%3D%20L.circleMarker%28%0A%20%20%20%20%20%20%20%20%20%20%20%20%20%20%20%20%5B12.911993951538978%2C%2077.63893839495603%5D%2C%0A%20%20%20%20%20%20%20%20%20%20%20%20%20%20%20%20%7B%0A%20%20%22bubblingMouseEvents%22%3A%20true%2C%0A%20%20%22color%22%3A%20%22blue%22%2C%0A%20%20%22dashArray%22%3A%20null%2C%0A%20%20%22dashOffset%22%3A%20null%2C%0A%20%20%22fill%22%3A%20true%2C%0A%20%20%22fillColor%22%3A%20%22%233186cc%22%2C%0A%20%20%22fillOpacity%22%3A%200.7%2C%0A%20%20%22fillRule%22%3A%20%22evenodd%22%2C%0A%20%20%22lineCap%22%3A%20%22round%22%2C%0A%20%20%22lineJoin%22%3A%20%22round%22%2C%0A%20%20%22opacity%22%3A%201.0%2C%0A%20%20%22radius%22%3A%205%2C%0A%20%20%22stroke%22%3A%20true%2C%0A%20%20%22weight%22%3A%203%0A%7D%0A%20%20%20%20%20%20%20%20%20%20%20%20%20%20%20%20%29%0A%20%20%20%20%20%20%20%20%20%20%20%20%20%20%20%20.addTo%28map_4f83ec28c3644a08b81ee7ae2f35e559%29%3B%0A%20%20%20%20%20%20%20%20%20%20%20%20%0A%20%20%20%20%0A%20%20%20%20%20%20%20%20%20%20%20%20var%20popup_20c02276418947bb88e9f9dfc9e87e56%20%3D%20L.popup%28%7BmaxWidth%3A%20%27100%25%27%0A%20%20%20%20%20%20%20%20%20%20%20%20%0A%20%20%20%20%20%20%20%20%20%20%20%20%7D%29%3B%0A%0A%20%20%20%20%20%20%20%20%20%20%20%20%0A%20%20%20%20%20%20%20%20%20%20%20%20%20%20%20%20var%20html_710db02ebba049b9b064657aa9a8cc94%20%3D%20%24%28%60%3Cdiv%20id%3D%22html_710db02ebba049b9b064657aa9a8cc94%22%20style%3D%22width%3A%20100.0%25%3B%20height%3A%20100.0%25%3B%22%3EHouse%20of%20Commons%2CPub%3C/div%3E%60%29%5B0%5D%3B%0A%20%20%20%20%20%20%20%20%20%20%20%20%20%20%20%20popup_20c02276418947bb88e9f9dfc9e87e56.setContent%28html_710db02ebba049b9b064657aa9a8cc94%29%3B%0A%20%20%20%20%20%20%20%20%20%20%20%20%0A%0A%20%20%20%20%20%20%20%20%20%20%20%20circle_marker_28e5c188f13147d6b532071e0a27e046.bindPopup%28popup_20c02276418947bb88e9f9dfc9e87e56%29%0A%20%20%20%20%20%20%20%20%20%20%20%20%3B%0A%0A%20%20%20%20%20%20%20%20%20%20%20%20%0A%20%20%20%20%20%20%20%20%0A%20%20%20%20%0A%20%20%20%20%20%20%20%20%20%20%20%20var%20circle_marker_c37394afa8d74790aca5a3a5dd156ff1%20%3D%20L.circleMarker%28%0A%20%20%20%20%20%20%20%20%20%20%20%20%20%20%20%20%5B12.970388002346207%2C%2077.61035835079866%5D%2C%0A%20%20%20%20%20%20%20%20%20%20%20%20%20%20%20%20%7B%0A%20%20%22bubblingMouseEvents%22%3A%20true%2C%0A%20%20%22color%22%3A%20%22blue%22%2C%0A%20%20%22dashArray%22%3A%20null%2C%0A%20%20%22dashOffset%22%3A%20null%2C%0A%20%20%22fill%22%3A%20true%2C%0A%20%20%22fillColor%22%3A%20%22%233186cc%22%2C%0A%20%20%22fillOpacity%22%3A%200.7%2C%0A%20%20%22fillRule%22%3A%20%22evenodd%22%2C%0A%20%20%22lineCap%22%3A%20%22round%22%2C%0A%20%20%22lineJoin%22%3A%20%22round%22%2C%0A%20%20%22opacity%22%3A%201.0%2C%0A%20%20%22radius%22%3A%205%2C%0A%20%20%22stroke%22%3A%20true%2C%0A%20%20%22weight%22%3A%203%0A%7D%0A%20%20%20%20%20%20%20%20%20%20%20%20%20%20%20%20%29%0A%20%20%20%20%20%20%20%20%20%20%20%20%20%20%20%20.addTo%28map_4f83ec28c3644a08b81ee7ae2f35e559%29%3B%0A%20%20%20%20%20%20%20%20%20%20%20%20%0A%20%20%20%20%0A%20%20%20%20%20%20%20%20%20%20%20%20var%20popup_0d50945d17f54282b63eee851de1f4fa%20%3D%20L.popup%28%7BmaxWidth%3A%20%27100%25%27%0A%20%20%20%20%20%20%20%20%20%20%20%20%0A%20%20%20%20%20%20%20%20%20%20%20%20%7D%29%3B%0A%0A%20%20%20%20%20%20%20%20%20%20%20%20%0A%20%20%20%20%20%20%20%20%20%20%20%20%20%20%20%20var%20html_b7fae0322df241819bb8642ad9064fbb%20%3D%20%24%28%60%3Cdiv%20id%3D%22html_b7fae0322df241819bb8642ad9064fbb%22%20style%3D%22width%3A%20100.0%25%3B%20height%3A%20100.0%25%3B%22%3EThe%20Permit%20Room%2CPub%3C/div%3E%60%29%5B0%5D%3B%0A%20%20%20%20%20%20%20%20%20%20%20%20%20%20%20%20popup_0d50945d17f54282b63eee851de1f4fa.setContent%28html_b7fae0322df241819bb8642ad9064fbb%29%3B%0A%20%20%20%20%20%20%20%20%20%20%20%20%0A%0A%20%20%20%20%20%20%20%20%20%20%20%20circle_marker_c37394afa8d74790aca5a3a5dd156ff1.bindPopup%28popup_0d50945d17f54282b63eee851de1f4fa%29%0A%20%20%20%20%20%20%20%20%20%20%20%20%3B%0A%0A%20%20%20%20%20%20%20%20%20%20%20%20%0A%20%20%20%20%20%20%20%20%0A%20%20%20%20%0A%20%20%20%20%20%20%20%20%20%20%20%20var%20circle_marker_be97d6235bf34406bd78041b964daef0%20%3D%20L.circleMarker%28%0A%20%20%20%20%20%20%20%20%20%20%20%20%20%20%20%20%5B12.905577%2C%2077.600966%5D%2C%0A%20%20%20%20%20%20%20%20%20%20%20%20%20%20%20%20%7B%0A%20%20%22bubblingMouseEvents%22%3A%20true%2C%0A%20%20%22color%22%3A%20%22blue%22%2C%0A%20%20%22dashArray%22%3A%20null%2C%0A%20%20%22dashOffset%22%3A%20null%2C%0A%20%20%22fill%22%3A%20true%2C%0A%20%20%22fillColor%22%3A%20%22%233186cc%22%2C%0A%20%20%22fillOpacity%22%3A%200.7%2C%0A%20%20%22fillRule%22%3A%20%22evenodd%22%2C%0A%20%20%22lineCap%22%3A%20%22round%22%2C%0A%20%20%22lineJoin%22%3A%20%22round%22%2C%0A%20%20%22opacity%22%3A%201.0%2C%0A%20%20%22radius%22%3A%205%2C%0A%20%20%22stroke%22%3A%20true%2C%0A%20%20%22weight%22%3A%203%0A%7D%0A%20%20%20%20%20%20%20%20%20%20%20%20%20%20%20%20%29%0A%20%20%20%20%20%20%20%20%20%20%20%20%20%20%20%20.addTo%28map_4f83ec28c3644a08b81ee7ae2f35e559%29%3B%0A%20%20%20%20%20%20%20%20%20%20%20%20%0A%20%20%20%20%0A%20%20%20%20%20%20%20%20%20%20%20%20var%20popup_0fef02a33c714dbca01edcd6b7fd5a87%20%3D%20L.popup%28%7BmaxWidth%3A%20%27100%25%27%0A%20%20%20%20%20%20%20%20%20%20%20%20%0A%20%20%20%20%20%20%20%20%20%20%20%20%7D%29%3B%0A%0A%20%20%20%20%20%20%20%20%20%20%20%20%0A%20%20%20%20%20%20%20%20%20%20%20%20%20%20%20%20var%20html_a2823910f1cd4b74b0c7f13150234e14%20%3D%20%24%28%60%3Cdiv%20id%3D%22html_a2823910f1cd4b74b0c7f13150234e14%22%20style%3D%22width%3A%20100.0%25%3B%20height%3A%20100.0%25%3B%22%3EUru%20Brewpark%2CBrewery%3C/div%3E%60%29%5B0%5D%3B%0A%20%20%20%20%20%20%20%20%20%20%20%20%20%20%20%20popup_0fef02a33c714dbca01edcd6b7fd5a87.setContent%28html_a2823910f1cd4b74b0c7f13150234e14%29%3B%0A%20%20%20%20%20%20%20%20%20%20%20%20%0A%0A%20%20%20%20%20%20%20%20%20%20%20%20circle_marker_be97d6235bf34406bd78041b964daef0.bindPopup%28popup_0fef02a33c714dbca01edcd6b7fd5a87%29%0A%20%20%20%20%20%20%20%20%20%20%20%20%3B%0A%0A%20%20%20%20%20%20%20%20%20%20%20%20%0A%20%20%20%20%20%20%20%20%0A%20%20%20%20%0A%20%20%20%20%20%20%20%20%20%20%20%20var%20circle_marker_f5cdfc025b9c4d3bbcb4afa7a371416f%20%3D%20L.circleMarker%28%0A%20%20%20%20%20%20%20%20%20%20%20%20%20%20%20%20%5B12.971061104390301%2C%2077.59765717697385%5D%2C%0A%20%20%20%20%20%20%20%20%20%20%20%20%20%20%20%20%7B%0A%20%20%22bubblingMouseEvents%22%3A%20true%2C%0A%20%20%22color%22%3A%20%22blue%22%2C%0A%20%20%22dashArray%22%3A%20null%2C%0A%20%20%22dashOffset%22%3A%20null%2C%0A%20%20%22fill%22%3A%20true%2C%0A%20%20%22fillColor%22%3A%20%22%233186cc%22%2C%0A%20%20%22fillOpacity%22%3A%200.7%2C%0A%20%20%22fillRule%22%3A%20%22evenodd%22%2C%0A%20%20%22lineCap%22%3A%20%22round%22%2C%0A%20%20%22lineJoin%22%3A%20%22round%22%2C%0A%20%20%22opacity%22%3A%201.0%2C%0A%20%20%22radius%22%3A%205%2C%0A%20%20%22stroke%22%3A%20true%2C%0A%20%20%22weight%22%3A%203%0A%7D%0A%20%20%20%20%20%20%20%20%20%20%20%20%20%20%20%20%29%0A%20%20%20%20%20%20%20%20%20%20%20%20%20%20%20%20.addTo%28map_4f83ec28c3644a08b81ee7ae2f35e559%29%3B%0A%20%20%20%20%20%20%20%20%20%20%20%20%0A%20%20%20%20%0A%20%20%20%20%20%20%20%20%20%20%20%20var%20popup_c8213e7120b74fcf890180138759c8c4%20%3D%20L.popup%28%7BmaxWidth%3A%20%27100%25%27%0A%20%20%20%20%20%20%20%20%20%20%20%20%0A%20%20%20%20%20%20%20%20%20%20%20%20%7D%29%3B%0A%0A%20%20%20%20%20%20%20%20%20%20%20%20%0A%20%20%20%20%20%20%20%20%20%20%20%20%20%20%20%20var%20html_98bea651c07e43d5ada68d7e92322c4e%20%3D%20%24%28%60%3Cdiv%20id%3D%22html_98bea651c07e43d5ada68d7e92322c4e%22%20style%3D%22width%3A%20100.0%25%3B%20height%3A%20100.0%25%3B%22%3EThe%20Biere%20Club%2CBrewery%3C/div%3E%60%29%5B0%5D%3B%0A%20%20%20%20%20%20%20%20%20%20%20%20%20%20%20%20popup_c8213e7120b74fcf890180138759c8c4.setContent%28html_98bea651c07e43d5ada68d7e92322c4e%29%3B%0A%20%20%20%20%20%20%20%20%20%20%20%20%0A%0A%20%20%20%20%20%20%20%20%20%20%20%20circle_marker_f5cdfc025b9c4d3bbcb4afa7a371416f.bindPopup%28popup_c8213e7120b74fcf890180138759c8c4%29%0A%20%20%20%20%20%20%20%20%20%20%20%20%3B%0A%0A%20%20%20%20%20%20%20%20%20%20%20%20%0A%20%20%20%20%20%20%20%20%0A%20%20%20%20%0A%20%20%20%20%20%20%20%20%20%20%20%20var%20circle_marker_005adbecd9cb4772b84edfd274bb669b%20%3D%20L.circleMarker%28%0A%20%20%20%20%20%20%20%20%20%20%20%20%20%20%20%20%5B12.9627165778515%2C%2077.75081535322659%5D%2C%0A%20%20%20%20%20%20%20%20%20%20%20%20%20%20%20%20%7B%0A%20%20%22bubblingMouseEvents%22%3A%20true%2C%0A%20%20%22color%22%3A%20%22blue%22%2C%0A%20%20%22dashArray%22%3A%20null%2C%0A%20%20%22dashOffset%22%3A%20null%2C%0A%20%20%22fill%22%3A%20true%2C%0A%20%20%22fillColor%22%3A%20%22%233186cc%22%2C%0A%20%20%22fillOpacity%22%3A%200.7%2C%0A%20%20%22fillRule%22%3A%20%22evenodd%22%2C%0A%20%20%22lineCap%22%3A%20%22round%22%2C%0A%20%20%22lineJoin%22%3A%20%22round%22%2C%0A%20%20%22opacity%22%3A%201.0%2C%0A%20%20%22radius%22%3A%205%2C%0A%20%20%22stroke%22%3A%20true%2C%0A%20%20%22weight%22%3A%203%0A%7D%0A%20%20%20%20%20%20%20%20%20%20%20%20%20%20%20%20%29%0A%20%20%20%20%20%20%20%20%20%20%20%20%20%20%20%20.addTo%28map_4f83ec28c3644a08b81ee7ae2f35e559%29%3B%0A%20%20%20%20%20%20%20%20%20%20%20%20%0A%20%20%20%20%0A%20%20%20%20%20%20%20%20%20%20%20%20var%20popup_e348040976a14b33961c079de3af6240%20%3D%20L.popup%28%7BmaxWidth%3A%20%27100%25%27%0A%20%20%20%20%20%20%20%20%20%20%20%20%0A%20%20%20%20%20%20%20%20%20%20%20%20%7D%29%3B%0A%0A%20%20%20%20%20%20%20%20%20%20%20%20%0A%20%20%20%20%20%20%20%20%20%20%20%20%20%20%20%20var%20html_09529d491db4490f9641642a7c98db25%20%3D%20%24%28%60%3Cdiv%20id%3D%22html_09529d491db4490f9641642a7c98db25%22%20style%3D%22width%3A%20100.0%25%3B%20height%3A%20100.0%25%3B%22%3E153%20Biere%20Street%2CBrewery%3C/div%3E%60%29%5B0%5D%3B%0A%20%20%20%20%20%20%20%20%20%20%20%20%20%20%20%20popup_e348040976a14b33961c079de3af6240.setContent%28html_09529d491db4490f9641642a7c98db25%29%3B%0A%20%20%20%20%20%20%20%20%20%20%20%20%0A%0A%20%20%20%20%20%20%20%20%20%20%20%20circle_marker_005adbecd9cb4772b84edfd274bb669b.bindPopup%28popup_e348040976a14b33961c079de3af6240%29%0A%20%20%20%20%20%20%20%20%20%20%20%20%3B%0A%0A%20%20%20%20%20%20%20%20%20%20%20%20%0A%20%20%20%20%20%20%20%20%0A%20%20%20%20%0A%20%20%20%20%20%20%20%20%20%20%20%20var%20circle_marker_3bf8be958acd486dbde337d9654f0d26%20%3D%20L.circleMarker%28%0A%20%20%20%20%20%20%20%20%20%20%20%20%20%20%20%20%5B12.968364852145388%2C%2077.60166199226902%5D%2C%0A%20%20%20%20%20%20%20%20%20%20%20%20%20%20%20%20%7B%0A%20%20%22bubblingMouseEvents%22%3A%20true%2C%0A%20%20%22color%22%3A%20%22blue%22%2C%0A%20%20%22dashArray%22%3A%20null%2C%0A%20%20%22dashOffset%22%3A%20null%2C%0A%20%20%22fill%22%3A%20true%2C%0A%20%20%22fillColor%22%3A%20%22%233186cc%22%2C%0A%20%20%22fillOpacity%22%3A%200.7%2C%0A%20%20%22fillRule%22%3A%20%22evenodd%22%2C%0A%20%20%22lineCap%22%3A%20%22round%22%2C%0A%20%20%22lineJoin%22%3A%20%22round%22%2C%0A%20%20%22opacity%22%3A%201.0%2C%0A%20%20%22radius%22%3A%205%2C%0A%20%20%22stroke%22%3A%20true%2C%0A%20%20%22weight%22%3A%203%0A%7D%0A%20%20%20%20%20%20%20%20%20%20%20%20%20%20%20%20%29%0A%20%20%20%20%20%20%20%20%20%20%20%20%20%20%20%20.addTo%28map_4f83ec28c3644a08b81ee7ae2f35e559%29%3B%0A%20%20%20%20%20%20%20%20%20%20%20%20%0A%20%20%20%20%0A%20%20%20%20%20%20%20%20%20%20%20%20var%20popup_193f800f1bfe4d039322af2930941585%20%3D%20L.popup%28%7BmaxWidth%3A%20%27100%25%27%0A%20%20%20%20%20%20%20%20%20%20%20%20%0A%20%20%20%20%20%20%20%20%20%20%20%20%7D%29%3B%0A%0A%20%20%20%20%20%20%20%20%20%20%20%20%0A%20%20%20%20%20%20%20%20%20%20%20%20%20%20%20%20var%20html_43e2e6489cbd4fbfa7b1a2d2a9591278%20%3D%20%24%28%60%3Cdiv%20id%3D%22html_43e2e6489cbd4fbfa7b1a2d2a9591278%22%20style%3D%22width%3A%20100.0%25%3B%20height%3A%20100.0%25%3B%22%3EBangalore%20Brew%20Works%2CBrewery%3C/div%3E%60%29%5B0%5D%3B%0A%20%20%20%20%20%20%20%20%20%20%20%20%20%20%20%20popup_193f800f1bfe4d039322af2930941585.setContent%28html_43e2e6489cbd4fbfa7b1a2d2a9591278%29%3B%0A%20%20%20%20%20%20%20%20%20%20%20%20%0A%0A%20%20%20%20%20%20%20%20%20%20%20%20circle_marker_3bf8be958acd486dbde337d9654f0d26.bindPopup%28popup_193f800f1bfe4d039322af2930941585%29%0A%20%20%20%20%20%20%20%20%20%20%20%20%3B%0A%0A%20%20%20%20%20%20%20%20%20%20%20%20%0A%20%20%20%20%20%20%20%20%0A%20%20%20%20%0A%20%20%20%20%20%20%20%20%20%20%20%20var%20circle_marker_90dd2fcdc8164dd0bee5e4b5ebdf7578%20%3D%20L.circleMarker%28%0A%20%20%20%20%20%20%20%20%20%20%20%20%20%20%20%20%5B12.935145679916033%2C%2077.61353649944414%5D%2C%0A%20%20%20%20%20%20%20%20%20%20%20%20%20%20%20%20%7B%0A%20%20%22bubblingMouseEvents%22%3A%20true%2C%0A%20%20%22color%22%3A%20%22blue%22%2C%0A%20%20%22dashArray%22%3A%20null%2C%0A%20%20%22dashOffset%22%3A%20null%2C%0A%20%20%22fill%22%3A%20true%2C%0A%20%20%22fillColor%22%3A%20%22%233186cc%22%2C%0A%20%20%22fillOpacity%22%3A%200.7%2C%0A%20%20%22fillRule%22%3A%20%22evenodd%22%2C%0A%20%20%22lineCap%22%3A%20%22round%22%2C%0A%20%20%22lineJoin%22%3A%20%22round%22%2C%0A%20%20%22opacity%22%3A%201.0%2C%0A%20%20%22radius%22%3A%205%2C%0A%20%20%22stroke%22%3A%20true%2C%0A%20%20%22weight%22%3A%203%0A%7D%0A%20%20%20%20%20%20%20%20%20%20%20%20%20%20%20%20%29%0A%20%20%20%20%20%20%20%20%20%20%20%20%20%20%20%20.addTo%28map_4f83ec28c3644a08b81ee7ae2f35e559%29%3B%0A%20%20%20%20%20%20%20%20%20%20%20%20%0A%20%20%20%20%0A%20%20%20%20%20%20%20%20%20%20%20%20var%20popup_f4571f3f4fdb41f59df834d7ad92b02a%20%3D%20L.popup%28%7BmaxWidth%3A%20%27100%25%27%0A%20%20%20%20%20%20%20%20%20%20%20%20%0A%20%20%20%20%20%20%20%20%20%20%20%20%7D%29%3B%0A%0A%20%20%20%20%20%20%20%20%20%20%20%20%0A%20%20%20%20%20%20%20%20%20%20%20%20%20%20%20%20var%20html_1df34d46ca2b4381ab81a8bd10fb7a8c%20%3D%20%24%28%60%3Cdiv%20id%3D%22html_1df34d46ca2b4381ab81a8bd10fb7a8c%22%20style%3D%22width%3A%20100.0%25%3B%20height%3A%20100.0%25%3B%22%3EFenny%26%2339%3Bs%20Lounge%20%26amp%3B%20Kitchen%2CLounge%3C/div%3E%60%29%5B0%5D%3B%0A%20%20%20%20%20%20%20%20%20%20%20%20%20%20%20%20popup_f4571f3f4fdb41f59df834d7ad92b02a.setContent%28html_1df34d46ca2b4381ab81a8bd10fb7a8c%29%3B%0A%20%20%20%20%20%20%20%20%20%20%20%20%0A%0A%20%20%20%20%20%20%20%20%20%20%20%20circle_marker_90dd2fcdc8164dd0bee5e4b5ebdf7578.bindPopup%28popup_f4571f3f4fdb41f59df834d7ad92b02a%29%0A%20%20%20%20%20%20%20%20%20%20%20%20%3B%0A%0A%20%20%20%20%20%20%20%20%20%20%20%20%0A%20%20%20%20%20%20%20%20%0A%20%20%20%20%0A%20%20%20%20%20%20%20%20%20%20%20%20var%20circle_marker_85d7783c93644fd59f677ccbbf8dc856%20%3D%20L.circleMarker%28%0A%20%20%20%20%20%20%20%20%20%20%20%20%20%20%20%20%5B12.973694984076802%2C%2077.64400073279776%5D%2C%0A%20%20%20%20%20%20%20%20%20%20%20%20%20%20%20%20%7B%0A%20%20%22bubblingMouseEvents%22%3A%20true%2C%0A%20%20%22color%22%3A%20%22blue%22%2C%0A%20%20%22dashArray%22%3A%20null%2C%0A%20%20%22dashOffset%22%3A%20null%2C%0A%20%20%22fill%22%3A%20true%2C%0A%20%20%22fillColor%22%3A%20%22%233186cc%22%2C%0A%20%20%22fillOpacity%22%3A%200.7%2C%0A%20%20%22fillRule%22%3A%20%22evenodd%22%2C%0A%20%20%22lineCap%22%3A%20%22round%22%2C%0A%20%20%22lineJoin%22%3A%20%22round%22%2C%0A%20%20%22opacity%22%3A%201.0%2C%0A%20%20%22radius%22%3A%205%2C%0A%20%20%22stroke%22%3A%20true%2C%0A%20%20%22weight%22%3A%203%0A%7D%0A%20%20%20%20%20%20%20%20%20%20%20%20%20%20%20%20%29%0A%20%20%20%20%20%20%20%20%20%20%20%20%20%20%20%20.addTo%28map_4f83ec28c3644a08b81ee7ae2f35e559%29%3B%0A%20%20%20%20%20%20%20%20%20%20%20%20%0A%20%20%20%20%0A%20%20%20%20%20%20%20%20%20%20%20%20var%20popup_0d050a08acb34da19b9f108aa224cacb%20%3D%20L.popup%28%7BmaxWidth%3A%20%27100%25%27%0A%20%20%20%20%20%20%20%20%20%20%20%20%0A%20%20%20%20%20%20%20%20%20%20%20%20%7D%29%3B%0A%0A%20%20%20%20%20%20%20%20%20%20%20%20%0A%20%20%20%20%20%20%20%20%20%20%20%20%20%20%20%20var%20html_d1f2e0f672794fc385263cc71a925dbc%20%3D%20%24%28%60%3Cdiv%20id%3D%22html_d1f2e0f672794fc385263cc71a925dbc%22%20style%3D%22width%3A%20100.0%25%3B%20height%3A%20100.0%25%3B%22%3Eeclipse%20lounge%2CLounge%3C/div%3E%60%29%5B0%5D%3B%0A%20%20%20%20%20%20%20%20%20%20%20%20%20%20%20%20popup_0d050a08acb34da19b9f108aa224cacb.setContent%28html_d1f2e0f672794fc385263cc71a925dbc%29%3B%0A%20%20%20%20%20%20%20%20%20%20%20%20%0A%0A%20%20%20%20%20%20%20%20%20%20%20%20circle_marker_85d7783c93644fd59f677ccbbf8dc856.bindPopup%28popup_0d050a08acb34da19b9f108aa224cacb%29%0A%20%20%20%20%20%20%20%20%20%20%20%20%3B%0A%0A%20%20%20%20%20%20%20%20%20%20%20%20%0A%20%20%20%20%20%20%20%20%0A%20%20%20%20%0A%20%20%20%20%20%20%20%20%20%20%20%20var%20circle_marker_e6808b59fe15448988ec960b5c6cd6eb%20%3D%20L.circleMarker%28%0A%20%20%20%20%20%20%20%20%20%20%20%20%20%20%20%20%5B12.972617926460163%2C%2077.60822458087569%5D%2C%0A%20%20%20%20%20%20%20%20%20%20%20%20%20%20%20%20%7B%0A%20%20%22bubblingMouseEvents%22%3A%20true%2C%0A%20%20%22color%22%3A%20%22blue%22%2C%0A%20%20%22dashArray%22%3A%20null%2C%0A%20%20%22dashOffset%22%3A%20null%2C%0A%20%20%22fill%22%3A%20true%2C%0A%20%20%22fillColor%22%3A%20%22%233186cc%22%2C%0A%20%20%22fillOpacity%22%3A%200.7%2C%0A%20%20%22fillRule%22%3A%20%22evenodd%22%2C%0A%20%20%22lineCap%22%3A%20%22round%22%2C%0A%20%20%22lineJoin%22%3A%20%22round%22%2C%0A%20%20%22opacity%22%3A%201.0%2C%0A%20%20%22radius%22%3A%205%2C%0A%20%20%22stroke%22%3A%20true%2C%0A%20%20%22weight%22%3A%203%0A%7D%0A%20%20%20%20%20%20%20%20%20%20%20%20%20%20%20%20%29%0A%20%20%20%20%20%20%20%20%20%20%20%20%20%20%20%20.addTo%28map_4f83ec28c3644a08b81ee7ae2f35e559%29%3B%0A%20%20%20%20%20%20%20%20%20%20%20%20%0A%20%20%20%20%0A%20%20%20%20%20%20%20%20%20%20%20%20var%20popup_ca33205b78bb44a084c28117cdafd1d9%20%3D%20L.popup%28%7BmaxWidth%3A%20%27100%25%27%0A%20%20%20%20%20%20%20%20%20%20%20%20%0A%20%20%20%20%20%20%20%20%20%20%20%20%7D%29%3B%0A%0A%20%20%20%20%20%20%20%20%20%20%20%20%0A%20%20%20%20%20%20%20%20%20%20%20%20%20%20%20%20var%20html_7dc2464ecbe94043835b1162e6daff60%20%3D%20%24%28%60%3Cdiv%20id%3D%22html_7dc2464ecbe94043835b1162e6daff60%22%20style%3D%22width%3A%20100.0%25%3B%20height%3A%20100.0%25%3B%22%3ECommuniti%2CBrewery%3C/div%3E%60%29%5B0%5D%3B%0A%20%20%20%20%20%20%20%20%20%20%20%20%20%20%20%20popup_ca33205b78bb44a084c28117cdafd1d9.setContent%28html_7dc2464ecbe94043835b1162e6daff60%29%3B%0A%20%20%20%20%20%20%20%20%20%20%20%20%0A%0A%20%20%20%20%20%20%20%20%20%20%20%20circle_marker_e6808b59fe15448988ec960b5c6cd6eb.bindPopup%28popup_ca33205b78bb44a084c28117cdafd1d9%29%0A%20%20%20%20%20%20%20%20%20%20%20%20%3B%0A%0A%20%20%20%20%20%20%20%20%20%20%20%20%0A%20%20%20%20%20%20%20%20%0A%20%20%20%20%0A%20%20%20%20%20%20%20%20%20%20%20%20var%20circle_marker_4e95ccc0ef4a4d088deb839965169f03%20%3D%20L.circleMarker%28%0A%20%20%20%20%20%20%20%20%20%20%20%20%20%20%20%20%5B12.99430093752093%2C%2077.58571184063106%5D%2C%0A%20%20%20%20%20%20%20%20%20%20%20%20%20%20%20%20%7B%0A%20%20%22bubblingMouseEvents%22%3A%20true%2C%0A%20%20%22color%22%3A%20%22blue%22%2C%0A%20%20%22dashArray%22%3A%20null%2C%0A%20%20%22dashOffset%22%3A%20null%2C%0A%20%20%22fill%22%3A%20true%2C%0A%20%20%22fillColor%22%3A%20%22%233186cc%22%2C%0A%20%20%22fillOpacity%22%3A%200.7%2C%0A%20%20%22fillRule%22%3A%20%22evenodd%22%2C%0A%20%20%22lineCap%22%3A%20%22round%22%2C%0A%20%20%22lineJoin%22%3A%20%22round%22%2C%0A%20%20%22opacity%22%3A%201.0%2C%0A%20%20%22radius%22%3A%205%2C%0A%20%20%22stroke%22%3A%20true%2C%0A%20%20%22weight%22%3A%203%0A%7D%0A%20%20%20%20%20%20%20%20%20%20%20%20%20%20%20%20%29%0A%20%20%20%20%20%20%20%20%20%20%20%20%20%20%20%20.addTo%28map_4f83ec28c3644a08b81ee7ae2f35e559%29%3B%0A%20%20%20%20%20%20%20%20%20%20%20%20%0A%20%20%20%20%0A%20%20%20%20%20%20%20%20%20%20%20%20var%20popup_985f7a21cc5642a78e4a5a5d5411c23e%20%3D%20L.popup%28%7BmaxWidth%3A%20%27100%25%27%0A%20%20%20%20%20%20%20%20%20%20%20%20%0A%20%20%20%20%20%20%20%20%20%20%20%20%7D%29%3B%0A%0A%20%20%20%20%20%20%20%20%20%20%20%20%0A%20%20%20%20%20%20%20%20%20%20%20%20%20%20%20%20var%20html_e3b4771587464ca28fd37782d5664d12%20%3D%20%24%28%60%3Cdiv%20id%3D%22html_e3b4771587464ca28fd37782d5664d12%22%20style%3D%22width%3A%20100.0%25%3B%20height%3A%20100.0%25%3B%22%3EDublin%2CPub%3C/div%3E%60%29%5B0%5D%3B%0A%20%20%20%20%20%20%20%20%20%20%20%20%20%20%20%20popup_985f7a21cc5642a78e4a5a5d5411c23e.setContent%28html_e3b4771587464ca28fd37782d5664d12%29%3B%0A%20%20%20%20%20%20%20%20%20%20%20%20%0A%0A%20%20%20%20%20%20%20%20%20%20%20%20circle_marker_4e95ccc0ef4a4d088deb839965169f03.bindPopup%28popup_985f7a21cc5642a78e4a5a5d5411c23e%29%0A%20%20%20%20%20%20%20%20%20%20%20%20%3B%0A%0A%20%20%20%20%20%20%20%20%20%20%20%20%0A%20%20%20%20%20%20%20%20%0A%20%20%20%20%0A%20%20%20%20%20%20%20%20%20%20%20%20var%20circle_marker_b456b3fc770f44bf9eafc501fe09b966%20%3D%20L.circleMarker%28%0A%20%20%20%20%20%20%20%20%20%20%20%20%20%20%20%20%5B12.960101221571014%2C%2077.64694579372205%5D%2C%0A%20%20%20%20%20%20%20%20%20%20%20%20%20%20%20%20%7B%0A%20%20%22bubblingMouseEvents%22%3A%20true%2C%0A%20%20%22color%22%3A%20%22blue%22%2C%0A%20%20%22dashArray%22%3A%20null%2C%0A%20%20%22dashOffset%22%3A%20null%2C%0A%20%20%22fill%22%3A%20true%2C%0A%20%20%22fillColor%22%3A%20%22%233186cc%22%2C%0A%20%20%22fillOpacity%22%3A%200.7%2C%0A%20%20%22fillRule%22%3A%20%22evenodd%22%2C%0A%20%20%22lineCap%22%3A%20%22round%22%2C%0A%20%20%22lineJoin%22%3A%20%22round%22%2C%0A%20%20%22opacity%22%3A%201.0%2C%0A%20%20%22radius%22%3A%205%2C%0A%20%20%22stroke%22%3A%20true%2C%0A%20%20%22weight%22%3A%203%0A%7D%0A%20%20%20%20%20%20%20%20%20%20%20%20%20%20%20%20%29%0A%20%20%20%20%20%20%20%20%20%20%20%20%20%20%20%20.addTo%28map_4f83ec28c3644a08b81ee7ae2f35e559%29%3B%0A%20%20%20%20%20%20%20%20%20%20%20%20%0A%20%20%20%20%0A%20%20%20%20%20%20%20%20%20%20%20%20var%20popup_a76dfa007d744ff9bc68609c50d6b783%20%3D%20L.popup%28%7BmaxWidth%3A%20%27100%25%27%0A%20%20%20%20%20%20%20%20%20%20%20%20%0A%20%20%20%20%20%20%20%20%20%20%20%20%7D%29%3B%0A%0A%20%20%20%20%20%20%20%20%20%20%20%20%0A%20%20%20%20%20%20%20%20%20%20%20%20%20%20%20%20var%20html_3c0ac2361aa84f70ad9583df6c156810%20%3D%20%24%28%60%3Cdiv%20id%3D%22html_3c0ac2361aa84f70ad9583df6c156810%22%20style%3D%22width%3A%20100.0%25%3B%20height%3A%20100.0%25%3B%22%3EBig%20Pitcher%2CBrewery%3C/div%3E%60%29%5B0%5D%3B%0A%20%20%20%20%20%20%20%20%20%20%20%20%20%20%20%20popup_a76dfa007d744ff9bc68609c50d6b783.setContent%28html_3c0ac2361aa84f70ad9583df6c156810%29%3B%0A%20%20%20%20%20%20%20%20%20%20%20%20%0A%0A%20%20%20%20%20%20%20%20%20%20%20%20circle_marker_b456b3fc770f44bf9eafc501fe09b966.bindPopup%28popup_a76dfa007d744ff9bc68609c50d6b783%29%0A%20%20%20%20%20%20%20%20%20%20%20%20%3B%0A%0A%20%20%20%20%20%20%20%20%20%20%20%20%0A%20%20%20%20%20%20%20%20%0A%20%20%20%20%0A%20%20%20%20%20%20%20%20%20%20%20%20var%20circle_marker_9d3e25edb6c74c57a6dcae4bfdbbc025%20%3D%20L.circleMarker%28%0A%20%20%20%20%20%20%20%20%20%20%20%20%20%20%20%20%5B12.982449271364457%2C%2077.70862015273585%5D%2C%0A%20%20%20%20%20%20%20%20%20%20%20%20%20%20%20%20%7B%0A%20%20%22bubblingMouseEvents%22%3A%20true%2C%0A%20%20%22color%22%3A%20%22blue%22%2C%0A%20%20%22dashArray%22%3A%20null%2C%0A%20%20%22dashOffset%22%3A%20null%2C%0A%20%20%22fill%22%3A%20true%2C%0A%20%20%22fillColor%22%3A%20%22%233186cc%22%2C%0A%20%20%22fillOpacity%22%3A%200.7%2C%0A%20%20%22fillRule%22%3A%20%22evenodd%22%2C%0A%20%20%22lineCap%22%3A%20%22round%22%2C%0A%20%20%22lineJoin%22%3A%20%22round%22%2C%0A%20%20%22opacity%22%3A%201.0%2C%0A%20%20%22radius%22%3A%205%2C%0A%20%20%22stroke%22%3A%20true%2C%0A%20%20%22weight%22%3A%203%0A%7D%0A%20%20%20%20%20%20%20%20%20%20%20%20%20%20%20%20%29%0A%20%20%20%20%20%20%20%20%20%20%20%20%20%20%20%20.addTo%28map_4f83ec28c3644a08b81ee7ae2f35e559%29%3B%0A%20%20%20%20%20%20%20%20%20%20%20%20%0A%20%20%20%20%0A%20%20%20%20%20%20%20%20%20%20%20%20var%20popup_1073611f1ba5480290831d5af3ba54a2%20%3D%20L.popup%28%7BmaxWidth%3A%20%27100%25%27%0A%20%20%20%20%20%20%20%20%20%20%20%20%0A%20%20%20%20%20%20%20%20%20%20%20%20%7D%29%3B%0A%0A%20%20%20%20%20%20%20%20%20%20%20%20%0A%20%20%20%20%20%20%20%20%20%20%20%20%20%20%20%20var%20html_8e74a05da3e24552b45ea2fd1e66824a%20%3D%20%24%28%60%3Cdiv%20id%3D%22html_8e74a05da3e24552b45ea2fd1e66824a%22%20style%3D%22width%3A%20100.0%25%3B%20height%3A%20100.0%25%3B%22%3EBiergarten%2CBrewery%3C/div%3E%60%29%5B0%5D%3B%0A%20%20%20%20%20%20%20%20%20%20%20%20%20%20%20%20popup_1073611f1ba5480290831d5af3ba54a2.setContent%28html_8e74a05da3e24552b45ea2fd1e66824a%29%3B%0A%20%20%20%20%20%20%20%20%20%20%20%20%0A%0A%20%20%20%20%20%20%20%20%20%20%20%20circle_marker_9d3e25edb6c74c57a6dcae4bfdbbc025.bindPopup%28popup_1073611f1ba5480290831d5af3ba54a2%29%0A%20%20%20%20%20%20%20%20%20%20%20%20%3B%0A%0A%20%20%20%20%20%20%20%20%20%20%20%20%0A%20%20%20%20%20%20%20%20%0A%20%20%20%20%0A%20%20%20%20%20%20%20%20%20%20%20%20var%20circle_marker_8730e6a5928f49e6bcac5b89e9cf979f%20%3D%20L.circleMarker%28%0A%20%20%20%20%20%20%20%20%20%20%20%20%20%20%20%20%5B12.986382382721553%2C%2077.59515375121238%5D%2C%0A%20%20%20%20%20%20%20%20%20%20%20%20%20%20%20%20%7B%0A%20%20%22bubblingMouseEvents%22%3A%20true%2C%0A%20%20%22color%22%3A%20%22blue%22%2C%0A%20%20%22dashArray%22%3A%20null%2C%0A%20%20%22dashOffset%22%3A%20null%2C%0A%20%20%22fill%22%3A%20true%2C%0A%20%20%22fillColor%22%3A%20%22%233186cc%22%2C%0A%20%20%22fillOpacity%22%3A%200.7%2C%0A%20%20%22fillRule%22%3A%20%22evenodd%22%2C%0A%20%20%22lineCap%22%3A%20%22round%22%2C%0A%20%20%22lineJoin%22%3A%20%22round%22%2C%0A%20%20%22opacity%22%3A%201.0%2C%0A%20%20%22radius%22%3A%205%2C%0A%20%20%22stroke%22%3A%20true%2C%0A%20%20%22weight%22%3A%203%0A%7D%0A%20%20%20%20%20%20%20%20%20%20%20%20%20%20%20%20%29%0A%20%20%20%20%20%20%20%20%20%20%20%20%20%20%20%20.addTo%28map_4f83ec28c3644a08b81ee7ae2f35e559%29%3B%0A%20%20%20%20%20%20%20%20%20%20%20%20%0A%20%20%20%20%0A%20%20%20%20%20%20%20%20%20%20%20%20var%20popup_3757c6ce124d4fa798cbd7390944b0a4%20%3D%20L.popup%28%7BmaxWidth%3A%20%27100%25%27%0A%20%20%20%20%20%20%20%20%20%20%20%20%0A%20%20%20%20%20%20%20%20%20%20%20%20%7D%29%3B%0A%0A%20%20%20%20%20%20%20%20%20%20%20%20%0A%20%20%20%20%20%20%20%20%20%20%20%20%20%20%20%20var%20html_2a99bb14ff3941dbad3c513d81e600aa%20%3D%20%24%28%60%3Cdiv%20id%3D%22html_2a99bb14ff3941dbad3c513d81e600aa%22%20style%3D%22width%3A%20100.0%25%3B%20height%3A%20100.0%25%3B%22%3EHammered%2CHookah%20Bar%3C/div%3E%60%29%5B0%5D%3B%0A%20%20%20%20%20%20%20%20%20%20%20%20%20%20%20%20popup_3757c6ce124d4fa798cbd7390944b0a4.setContent%28html_2a99bb14ff3941dbad3c513d81e600aa%29%3B%0A%20%20%20%20%20%20%20%20%20%20%20%20%0A%0A%20%20%20%20%20%20%20%20%20%20%20%20circle_marker_8730e6a5928f49e6bcac5b89e9cf979f.bindPopup%28popup_3757c6ce124d4fa798cbd7390944b0a4%29%0A%20%20%20%20%20%20%20%20%20%20%20%20%3B%0A%0A%20%20%20%20%20%20%20%20%20%20%20%20%0A%20%20%20%20%20%20%20%20%0A%20%20%20%20%0A%20%20%20%20%20%20%20%20%20%20%20%20var%20circle_marker_bf5a5ea6c66f4468a4a9718dff2a11c2%20%3D%20L.circleMarker%28%0A%20%20%20%20%20%20%20%20%20%20%20%20%20%20%20%20%5B12.972119689569265%2C%2077.5948038156033%5D%2C%0A%20%20%20%20%20%20%20%20%20%20%20%20%20%20%20%20%7B%0A%20%20%22bubblingMouseEvents%22%3A%20true%2C%0A%20%20%22color%22%3A%20%22blue%22%2C%0A%20%20%22dashArray%22%3A%20null%2C%0A%20%20%22dashOffset%22%3A%20null%2C%0A%20%20%22fill%22%3A%20true%2C%0A%20%20%22fillColor%22%3A%20%22%233186cc%22%2C%0A%20%20%22fillOpacity%22%3A%200.7%2C%0A%20%20%22fillRule%22%3A%20%22evenodd%22%2C%0A%20%20%22lineCap%22%3A%20%22round%22%2C%0A%20%20%22lineJoin%22%3A%20%22round%22%2C%0A%20%20%22opacity%22%3A%201.0%2C%0A%20%20%22radius%22%3A%205%2C%0A%20%20%22stroke%22%3A%20true%2C%0A%20%20%22weight%22%3A%203%0A%7D%0A%20%20%20%20%20%20%20%20%20%20%20%20%20%20%20%20%29%0A%20%20%20%20%20%20%20%20%20%20%20%20%20%20%20%20.addTo%28map_4f83ec28c3644a08b81ee7ae2f35e559%29%3B%0A%20%20%20%20%20%20%20%20%20%20%20%20%0A%20%20%20%20%0A%20%20%20%20%20%20%20%20%20%20%20%20var%20popup_c959cbbf68c84b36a7e9d400830cca02%20%3D%20L.popup%28%7BmaxWidth%3A%20%27100%25%27%0A%20%20%20%20%20%20%20%20%20%20%20%20%0A%20%20%20%20%20%20%20%20%20%20%20%20%7D%29%3B%0A%0A%20%20%20%20%20%20%20%20%20%20%20%20%0A%20%20%20%20%20%20%20%20%20%20%20%20%20%20%20%20var%20html_1d60a725632d4640aa794b38a534373a%20%3D%20%24%28%60%3Cdiv%20id%3D%22html_1d60a725632d4640aa794b38a534373a%22%20style%3D%22width%3A%20100.0%25%3B%20height%3A%20100.0%25%3B%22%3EJW%20Marriott%20Executive%20Lounge%2CLounge%3C/div%3E%60%29%5B0%5D%3B%0A%20%20%20%20%20%20%20%20%20%20%20%20%20%20%20%20popup_c959cbbf68c84b36a7e9d400830cca02.setContent%28html_1d60a725632d4640aa794b38a534373a%29%3B%0A%20%20%20%20%20%20%20%20%20%20%20%20%0A%0A%20%20%20%20%20%20%20%20%20%20%20%20circle_marker_bf5a5ea6c66f4468a4a9718dff2a11c2.bindPopup%28popup_c959cbbf68c84b36a7e9d400830cca02%29%0A%20%20%20%20%20%20%20%20%20%20%20%20%3B%0A%0A%20%20%20%20%20%20%20%20%20%20%20%20%0A%20%20%20%20%20%20%20%20%0A%20%20%20%20%0A%20%20%20%20%20%20%20%20%20%20%20%20var%20circle_marker_2a8d926085664b76862cc33fb504cfbb%20%3D%20L.circleMarker%28%0A%20%20%20%20%20%20%20%20%20%20%20%20%20%20%20%20%5B13.070837198061488%2C%2077.65231006064549%5D%2C%0A%20%20%20%20%20%20%20%20%20%20%20%20%20%20%20%20%7B%0A%20%20%22bubblingMouseEvents%22%3A%20true%2C%0A%20%20%22color%22%3A%20%22blue%22%2C%0A%20%20%22dashArray%22%3A%20null%2C%0A%20%20%22dashOffset%22%3A%20null%2C%0A%20%20%22fill%22%3A%20true%2C%0A%20%20%22fillColor%22%3A%20%22%233186cc%22%2C%0A%20%20%22fillOpacity%22%3A%200.7%2C%0A%20%20%22fillRule%22%3A%20%22evenodd%22%2C%0A%20%20%22lineCap%22%3A%20%22round%22%2C%0A%20%20%22lineJoin%22%3A%20%22round%22%2C%0A%20%20%22opacity%22%3A%201.0%2C%0A%20%20%22radius%22%3A%205%2C%0A%20%20%22stroke%22%3A%20true%2C%0A%20%20%22weight%22%3A%203%0A%7D%0A%20%20%20%20%20%20%20%20%20%20%20%20%20%20%20%20%29%0A%20%20%20%20%20%20%20%20%20%20%20%20%20%20%20%20.addTo%28map_4f83ec28c3644a08b81ee7ae2f35e559%29%3B%0A%20%20%20%20%20%20%20%20%20%20%20%20%0A%20%20%20%20%0A%20%20%20%20%20%20%20%20%20%20%20%20var%20popup_3c89fff7137a4e2d94976419dc10260c%20%3D%20L.popup%28%7BmaxWidth%3A%20%27100%25%27%0A%20%20%20%20%20%20%20%20%20%20%20%20%0A%20%20%20%20%20%20%20%20%20%20%20%20%7D%29%3B%0A%0A%20%20%20%20%20%20%20%20%20%20%20%20%0A%20%20%20%20%20%20%20%20%20%20%20%20%20%20%20%20var%20html_8041adf463124571a64074f5070d8c81%20%3D%20%24%28%60%3Cdiv%20id%3D%22html_8041adf463124571a64074f5070d8c81%22%20style%3D%22width%3A%20100.0%25%3B%20height%3A%20100.0%25%3B%22%3EByg%20Brewski%2CBrewery%3C/div%3E%60%29%5B0%5D%3B%0A%20%20%20%20%20%20%20%20%20%20%20%20%20%20%20%20popup_3c89fff7137a4e2d94976419dc10260c.setContent%28html_8041adf463124571a64074f5070d8c81%29%3B%0A%20%20%20%20%20%20%20%20%20%20%20%20%0A%0A%20%20%20%20%20%20%20%20%20%20%20%20circle_marker_2a8d926085664b76862cc33fb504cfbb.bindPopup%28popup_3c89fff7137a4e2d94976419dc10260c%29%0A%20%20%20%20%20%20%20%20%20%20%20%20%3B%0A%0A%20%20%20%20%20%20%20%20%20%20%20%20%0A%20%20%20%20%20%20%20%20%0A%20%20%20%20%0A%20%20%20%20%20%20%20%20%20%20%20%20var%20circle_marker_173c15b001a74cff9cc90a1705c175aa%20%3D%20L.circleMarker%28%0A%20%20%20%20%20%20%20%20%20%20%20%20%20%20%20%20%5B13.021270241290132%2C%2077.64157406580796%5D%2C%0A%20%20%20%20%20%20%20%20%20%20%20%20%20%20%20%20%7B%0A%20%20%22bubblingMouseEvents%22%3A%20true%2C%0A%20%20%22color%22%3A%20%22blue%22%2C%0A%20%20%22dashArray%22%3A%20null%2C%0A%20%20%22dashOffset%22%3A%20null%2C%0A%20%20%22fill%22%3A%20true%2C%0A%20%20%22fillColor%22%3A%20%22%233186cc%22%2C%0A%20%20%22fillOpacity%22%3A%200.7%2C%0A%20%20%22fillRule%22%3A%20%22evenodd%22%2C%0A%20%20%22lineCap%22%3A%20%22round%22%2C%0A%20%20%22lineJoin%22%3A%20%22round%22%2C%0A%20%20%22opacity%22%3A%201.0%2C%0A%20%20%22radius%22%3A%205%2C%0A%20%20%22stroke%22%3A%20true%2C%0A%20%20%22weight%22%3A%203%0A%7D%0A%20%20%20%20%20%20%20%20%20%20%20%20%20%20%20%20%29%0A%20%20%20%20%20%20%20%20%20%20%20%20%20%20%20%20.addTo%28map_4f83ec28c3644a08b81ee7ae2f35e559%29%3B%0A%20%20%20%20%20%20%20%20%20%20%20%20%0A%20%20%20%20%0A%20%20%20%20%20%20%20%20%20%20%20%20var%20popup_d077f518aa4e442aaa592a46053450ed%20%3D%20L.popup%28%7BmaxWidth%3A%20%27100%25%27%0A%20%20%20%20%20%20%20%20%20%20%20%20%0A%20%20%20%20%20%20%20%20%20%20%20%20%7D%29%3B%0A%0A%20%20%20%20%20%20%20%20%20%20%20%20%0A%20%20%20%20%20%20%20%20%20%20%20%20%20%20%20%20var%20html_b7e6c0c60e744eff9b98b00dc06dd941%20%3D%20%24%28%60%3Cdiv%20id%3D%22html_b7e6c0c60e744eff9b98b00dc06dd941%22%20style%3D%22width%3A%20100.0%25%3B%20height%3A%20100.0%25%3B%22%3EThe%20Local%2CPub%3C/div%3E%60%29%5B0%5D%3B%0A%20%20%20%20%20%20%20%20%20%20%20%20%20%20%20%20popup_d077f518aa4e442aaa592a46053450ed.setContent%28html_b7e6c0c60e744eff9b98b00dc06dd941%29%3B%0A%20%20%20%20%20%20%20%20%20%20%20%20%0A%0A%20%20%20%20%20%20%20%20%20%20%20%20circle_marker_173c15b001a74cff9cc90a1705c175aa.bindPopup%28popup_d077f518aa4e442aaa592a46053450ed%29%0A%20%20%20%20%20%20%20%20%20%20%20%20%3B%0A%0A%20%20%20%20%20%20%20%20%20%20%20%20%0A%20%20%20%20%20%20%20%20%0A%20%20%20%20%0A%20%20%20%20%20%20%20%20%20%20%20%20var%20circle_marker_03d65a8ba78f42e18496a98a43a3428f%20%3D%20L.circleMarker%28%0A%20%20%20%20%20%20%20%20%20%20%20%20%20%20%20%20%5B13.012204030484249%2C%2077.55592914848897%5D%2C%0A%20%20%20%20%20%20%20%20%20%20%20%20%20%20%20%20%7B%0A%20%20%22bubblingMouseEvents%22%3A%20true%2C%0A%20%20%22color%22%3A%20%22blue%22%2C%0A%20%20%22dashArray%22%3A%20null%2C%0A%20%20%22dashOffset%22%3A%20null%2C%0A%20%20%22fill%22%3A%20true%2C%0A%20%20%22fillColor%22%3A%20%22%233186cc%22%2C%0A%20%20%22fillOpacity%22%3A%200.7%2C%0A%20%20%22fillRule%22%3A%20%22evenodd%22%2C%0A%20%20%22lineCap%22%3A%20%22round%22%2C%0A%20%20%22lineJoin%22%3A%20%22round%22%2C%0A%20%20%22opacity%22%3A%201.0%2C%0A%20%20%22radius%22%3A%205%2C%0A%20%20%22stroke%22%3A%20true%2C%0A%20%20%22weight%22%3A%203%0A%7D%0A%20%20%20%20%20%20%20%20%20%20%20%20%20%20%20%20%29%0A%20%20%20%20%20%20%20%20%20%20%20%20%20%20%20%20.addTo%28map_4f83ec28c3644a08b81ee7ae2f35e559%29%3B%0A%20%20%20%20%20%20%20%20%20%20%20%20%0A%20%20%20%20%0A%20%20%20%20%20%20%20%20%20%20%20%20var%20popup_a405cf0c18a5484da985143dd60e11eb%20%3D%20L.popup%28%7BmaxWidth%3A%20%27100%25%27%0A%20%20%20%20%20%20%20%20%20%20%20%20%0A%20%20%20%20%20%20%20%20%20%20%20%20%7D%29%3B%0A%0A%20%20%20%20%20%20%20%20%20%20%20%20%0A%20%20%20%20%20%20%20%20%20%20%20%20%20%20%20%20var%20html_9d9fcc4edd4b404f8456e6a44e2bbf4d%20%3D%20%24%28%60%3Cdiv%20id%3D%22html_9d9fcc4edd4b404f8456e6a44e2bbf4d%22%20style%3D%22width%3A%20100.0%25%3B%20height%3A%20100.0%25%3B%22%3EHigh%20Ultra%20Lounge%2CLounge%3C/div%3E%60%29%5B0%5D%3B%0A%20%20%20%20%20%20%20%20%20%20%20%20%20%20%20%20popup_a405cf0c18a5484da985143dd60e11eb.setContent%28html_9d9fcc4edd4b404f8456e6a44e2bbf4d%29%3B%0A%20%20%20%20%20%20%20%20%20%20%20%20%0A%0A%20%20%20%20%20%20%20%20%20%20%20%20circle_marker_03d65a8ba78f42e18496a98a43a3428f.bindPopup%28popup_a405cf0c18a5484da985143dd60e11eb%29%0A%20%20%20%20%20%20%20%20%20%20%20%20%3B%0A%0A%20%20%20%20%20%20%20%20%20%20%20%20%0A%20%20%20%20%20%20%20%20%0A%20%20%20%20%0A%20%20%20%20%20%20%20%20%20%20%20%20var%20circle_marker_7aebec1958d240c1877ba44a6cb21a17%20%3D%20L.circleMarker%28%0A%20%20%20%20%20%20%20%20%20%20%20%20%20%20%20%20%5B12.914369741161927%2C%2077.67738659380073%5D%2C%0A%20%20%20%20%20%20%20%20%20%20%20%20%20%20%20%20%7B%0A%20%20%22bubblingMouseEvents%22%3A%20true%2C%0A%20%20%22color%22%3A%20%22blue%22%2C%0A%20%20%22dashArray%22%3A%20null%2C%0A%20%20%22dashOffset%22%3A%20null%2C%0A%20%20%22fill%22%3A%20true%2C%0A%20%20%22fillColor%22%3A%20%22%233186cc%22%2C%0A%20%20%22fillOpacity%22%3A%200.7%2C%0A%20%20%22fillRule%22%3A%20%22evenodd%22%2C%0A%20%20%22lineCap%22%3A%20%22round%22%2C%0A%20%20%22lineJoin%22%3A%20%22round%22%2C%0A%20%20%22opacity%22%3A%201.0%2C%0A%20%20%22radius%22%3A%205%2C%0A%20%20%22stroke%22%3A%20true%2C%0A%20%20%22weight%22%3A%203%0A%7D%0A%20%20%20%20%20%20%20%20%20%20%20%20%20%20%20%20%29%0A%20%20%20%20%20%20%20%20%20%20%20%20%20%20%20%20.addTo%28map_4f83ec28c3644a08b81ee7ae2f35e559%29%3B%0A%20%20%20%20%20%20%20%20%20%20%20%20%0A%20%20%20%20%0A%20%20%20%20%20%20%20%20%20%20%20%20var%20popup_6c018495991a4cee98fb802e7297c333%20%3D%20L.popup%28%7BmaxWidth%3A%20%27100%25%27%0A%20%20%20%20%20%20%20%20%20%20%20%20%0A%20%20%20%20%20%20%20%20%20%20%20%20%7D%29%3B%0A%0A%20%20%20%20%20%20%20%20%20%20%20%20%0A%20%20%20%20%20%20%20%20%20%20%20%20%20%20%20%20var%20html_ad7d9872d56043e2a82e2a103de24708%20%3D%20%24%28%60%3Cdiv%20id%3D%22html_ad7d9872d56043e2a82e2a103de24708%22%20style%3D%22width%3A%20100.0%25%3B%20height%3A%20100.0%25%3B%22%3EVapour%20-%20Pub%20and%20Brewery%2CPub%3C/div%3E%60%29%5B0%5D%3B%0A%20%20%20%20%20%20%20%20%20%20%20%20%20%20%20%20popup_6c018495991a4cee98fb802e7297c333.setContent%28html_ad7d9872d56043e2a82e2a103de24708%29%3B%0A%20%20%20%20%20%20%20%20%20%20%20%20%0A%0A%20%20%20%20%20%20%20%20%20%20%20%20circle_marker_7aebec1958d240c1877ba44a6cb21a17.bindPopup%28popup_6c018495991a4cee98fb802e7297c333%29%0A%20%20%20%20%20%20%20%20%20%20%20%20%3B%0A%0A%20%20%20%20%20%20%20%20%20%20%20%20%0A%20%20%20%20%20%20%20%20%0A%20%20%20%20%0A%20%20%20%20%20%20%20%20%20%20%20%20var%20circle_marker_7c8054986d3f42a3923cd406585b669a%20%3D%20L.circleMarker%28%0A%20%20%20%20%20%20%20%20%20%20%20%20%20%20%20%20%5B12.967505348132486%2C%2077.60175724365959%5D%2C%0A%20%20%20%20%20%20%20%20%20%20%20%20%20%20%20%20%7B%0A%20%20%22bubblingMouseEvents%22%3A%20true%2C%0A%20%20%22color%22%3A%20%22blue%22%2C%0A%20%20%22dashArray%22%3A%20null%2C%0A%20%20%22dashOffset%22%3A%20null%2C%0A%20%20%22fill%22%3A%20true%2C%0A%20%20%22fillColor%22%3A%20%22%233186cc%22%2C%0A%20%20%22fillOpacity%22%3A%200.7%2C%0A%20%20%22fillRule%22%3A%20%22evenodd%22%2C%0A%20%20%22lineCap%22%3A%20%22round%22%2C%0A%20%20%22lineJoin%22%3A%20%22round%22%2C%0A%20%20%22opacity%22%3A%201.0%2C%0A%20%20%22radius%22%3A%205%2C%0A%20%20%22stroke%22%3A%20true%2C%0A%20%20%22weight%22%3A%203%0A%7D%0A%20%20%20%20%20%20%20%20%20%20%20%20%20%20%20%20%29%0A%20%20%20%20%20%20%20%20%20%20%20%20%20%20%20%20.addTo%28map_4f83ec28c3644a08b81ee7ae2f35e559%29%3B%0A%20%20%20%20%20%20%20%20%20%20%20%20%0A%20%20%20%20%0A%20%20%20%20%20%20%20%20%20%20%20%20var%20popup_bd524eda3c8e48e7a907123b3ac1e7fd%20%3D%20L.popup%28%7BmaxWidth%3A%20%27100%25%27%0A%20%20%20%20%20%20%20%20%20%20%20%20%0A%20%20%20%20%20%20%20%20%20%20%20%20%7D%29%3B%0A%0A%20%20%20%20%20%20%20%20%20%20%20%20%0A%20%20%20%20%20%20%20%20%20%20%20%20%20%20%20%20var%20html_ab0bd7702466430e86e4998b84140401%20%3D%20%24%28%60%3Cdiv%20id%3D%22html_ab0bd7702466430e86e4998b84140401%22%20style%3D%22width%3A%20100.0%25%3B%20height%3A%20100.0%25%3B%22%3EBang%2CLounge%3C/div%3E%60%29%5B0%5D%3B%0A%20%20%20%20%20%20%20%20%20%20%20%20%20%20%20%20popup_bd524eda3c8e48e7a907123b3ac1e7fd.setContent%28html_ab0bd7702466430e86e4998b84140401%29%3B%0A%20%20%20%20%20%20%20%20%20%20%20%20%0A%0A%20%20%20%20%20%20%20%20%20%20%20%20circle_marker_7c8054986d3f42a3923cd406585b669a.bindPopup%28popup_bd524eda3c8e48e7a907123b3ac1e7fd%29%0A%20%20%20%20%20%20%20%20%20%20%20%20%3B%0A%0A%20%20%20%20%20%20%20%20%20%20%20%20%0A%20%20%20%20%20%20%20%20%0A%20%20%20%20%0A%20%20%20%20%20%20%20%20%20%20%20%20var%20circle_marker_9a3ec841149d41a5840e876cedd6cd5e%20%3D%20L.circleMarker%28%0A%20%20%20%20%20%20%20%20%20%20%20%20%20%20%20%20%5B12.99653898466793%2C%2077.69592931626674%5D%2C%0A%20%20%20%20%20%20%20%20%20%20%20%20%20%20%20%20%7B%0A%20%20%22bubblingMouseEvents%22%3A%20true%2C%0A%20%20%22color%22%3A%20%22blue%22%2C%0A%20%20%22dashArray%22%3A%20null%2C%0A%20%20%22dashOffset%22%3A%20null%2C%0A%20%20%22fill%22%3A%20true%2C%0A%20%20%22fillColor%22%3A%20%22%233186cc%22%2C%0A%20%20%22fillOpacity%22%3A%200.7%2C%0A%20%20%22fillRule%22%3A%20%22evenodd%22%2C%0A%20%20%22lineCap%22%3A%20%22round%22%2C%0A%20%20%22lineJoin%22%3A%20%22round%22%2C%0A%20%20%22opacity%22%3A%201.0%2C%0A%20%20%22radius%22%3A%205%2C%0A%20%20%22stroke%22%3A%20true%2C%0A%20%20%22weight%22%3A%203%0A%7D%0A%20%20%20%20%20%20%20%20%20%20%20%20%20%20%20%20%29%0A%20%20%20%20%20%20%20%20%20%20%20%20%20%20%20%20.addTo%28map_4f83ec28c3644a08b81ee7ae2f35e559%29%3B%0A%20%20%20%20%20%20%20%20%20%20%20%20%0A%20%20%20%20%0A%20%20%20%20%20%20%20%20%20%20%20%20var%20popup_4ac443bc95a2441db7b1fd8b8d3e85a7%20%3D%20L.popup%28%7BmaxWidth%3A%20%27100%25%27%0A%20%20%20%20%20%20%20%20%20%20%20%20%0A%20%20%20%20%20%20%20%20%20%20%20%20%7D%29%3B%0A%0A%20%20%20%20%20%20%20%20%20%20%20%20%0A%20%20%20%20%20%20%20%20%20%20%20%20%20%20%20%20var%20html_46c62a3b5f1842d1815a4da2b4466b33%20%3D%20%24%28%60%3Cdiv%20id%3D%22html_46c62a3b5f1842d1815a4da2b4466b33%22%20style%3D%22width%3A%20100.0%25%3B%20height%3A%20100.0%25%3B%22%3EThe%20Whitefield%20Arms%20Caf%C3%A9%2CLounge%3C/div%3E%60%29%5B0%5D%3B%0A%20%20%20%20%20%20%20%20%20%20%20%20%20%20%20%20popup_4ac443bc95a2441db7b1fd8b8d3e85a7.setContent%28html_46c62a3b5f1842d1815a4da2b4466b33%29%3B%0A%20%20%20%20%20%20%20%20%20%20%20%20%0A%0A%20%20%20%20%20%20%20%20%20%20%20%20circle_marker_9a3ec841149d41a5840e876cedd6cd5e.bindPopup%28popup_4ac443bc95a2441db7b1fd8b8d3e85a7%29%0A%20%20%20%20%20%20%20%20%20%20%20%20%3B%0A%0A%20%20%20%20%20%20%20%20%20%20%20%20%0A%20%20%20%20%20%20%20%20%0A%20%20%20%20%0A%20%20%20%20%20%20%20%20%20%20%20%20var%20circle_marker_99beacc96ea94a8bba09067d49f628a5%20%3D%20L.circleMarker%28%0A%20%20%20%20%20%20%20%20%20%20%20%20%20%20%20%20%5B12.973822826489533%2C%2077.61932763072113%5D%2C%0A%20%20%20%20%20%20%20%20%20%20%20%20%20%20%20%20%7B%0A%20%20%22bubblingMouseEvents%22%3A%20true%2C%0A%20%20%22color%22%3A%20%22blue%22%2C%0A%20%20%22dashArray%22%3A%20null%2C%0A%20%20%22dashOffset%22%3A%20null%2C%0A%20%20%22fill%22%3A%20true%2C%0A%20%20%22fillColor%22%3A%20%22%233186cc%22%2C%0A%20%20%22fillOpacity%22%3A%200.7%2C%0A%20%20%22fillRule%22%3A%20%22evenodd%22%2C%0A%20%20%22lineCap%22%3A%20%22round%22%2C%0A%20%20%22lineJoin%22%3A%20%22round%22%2C%0A%20%20%22opacity%22%3A%201.0%2C%0A%20%20%22radius%22%3A%205%2C%0A%20%20%22stroke%22%3A%20true%2C%0A%20%20%22weight%22%3A%203%0A%7D%0A%20%20%20%20%20%20%20%20%20%20%20%20%20%20%20%20%29%0A%20%20%20%20%20%20%20%20%20%20%20%20%20%20%20%20.addTo%28map_4f83ec28c3644a08b81ee7ae2f35e559%29%3B%0A%20%20%20%20%20%20%20%20%20%20%20%20%0A%20%20%20%20%0A%20%20%20%20%20%20%20%20%20%20%20%20var%20popup_d1aaf66bb82942acb171f6919a150d89%20%3D%20L.popup%28%7BmaxWidth%3A%20%27100%25%27%0A%20%20%20%20%20%20%20%20%20%20%20%20%0A%20%20%20%20%20%20%20%20%20%20%20%20%7D%29%3B%0A%0A%20%20%20%20%20%20%20%20%20%20%20%20%0A%20%20%20%20%20%20%20%20%20%20%20%20%20%20%20%20var%20html_85021828535e413cb1fef3536f14fcb7%20%3D%20%24%28%60%3Cdiv%20id%3D%22html_85021828535e413cb1fef3536f14fcb7%22%20style%3D%22width%3A%20100.0%25%3B%20height%3A%20100.0%25%3B%22%3Ei-BAR%2CHotel%20Bar%3C/div%3E%60%29%5B0%5D%3B%0A%20%20%20%20%20%20%20%20%20%20%20%20%20%20%20%20popup_d1aaf66bb82942acb171f6919a150d89.setContent%28html_85021828535e413cb1fef3536f14fcb7%29%3B%0A%20%20%20%20%20%20%20%20%20%20%20%20%0A%0A%20%20%20%20%20%20%20%20%20%20%20%20circle_marker_99beacc96ea94a8bba09067d49f628a5.bindPopup%28popup_d1aaf66bb82942acb171f6919a150d89%29%0A%20%20%20%20%20%20%20%20%20%20%20%20%3B%0A%0A%20%20%20%20%20%20%20%20%20%20%20%20%0A%20%20%20%20%20%20%20%20%0A%20%20%20%20%0A%20%20%20%20%20%20%20%20%20%20%20%20var%20circle_marker_52eada23bf05499fad1489aa9385f25a%20%3D%20L.circleMarker%28%0A%20%20%20%20%20%20%20%20%20%20%20%20%20%20%20%20%5B12.906654113952998%2C%2077.58218444836054%5D%2C%0A%20%20%20%20%20%20%20%20%20%20%20%20%20%20%20%20%7B%0A%20%20%22bubblingMouseEvents%22%3A%20true%2C%0A%20%20%22color%22%3A%20%22blue%22%2C%0A%20%20%22dashArray%22%3A%20null%2C%0A%20%20%22dashOffset%22%3A%20null%2C%0A%20%20%22fill%22%3A%20true%2C%0A%20%20%22fillColor%22%3A%20%22%233186cc%22%2C%0A%20%20%22fillOpacity%22%3A%200.7%2C%0A%20%20%22fillRule%22%3A%20%22evenodd%22%2C%0A%20%20%22lineCap%22%3A%20%22round%22%2C%0A%20%20%22lineJoin%22%3A%20%22round%22%2C%0A%20%20%22opacity%22%3A%201.0%2C%0A%20%20%22radius%22%3A%205%2C%0A%20%20%22stroke%22%3A%20true%2C%0A%20%20%22weight%22%3A%203%0A%7D%0A%20%20%20%20%20%20%20%20%20%20%20%20%20%20%20%20%29%0A%20%20%20%20%20%20%20%20%20%20%20%20%20%20%20%20.addTo%28map_4f83ec28c3644a08b81ee7ae2f35e559%29%3B%0A%20%20%20%20%20%20%20%20%20%20%20%20%0A%20%20%20%20%0A%20%20%20%20%20%20%20%20%20%20%20%20var%20popup_d00f2d2bc27b445db756c4380207185c%20%3D%20L.popup%28%7BmaxWidth%3A%20%27100%25%27%0A%20%20%20%20%20%20%20%20%20%20%20%20%0A%20%20%20%20%20%20%20%20%20%20%20%20%7D%29%3B%0A%0A%20%20%20%20%20%20%20%20%20%20%20%20%0A%20%20%20%20%20%20%20%20%20%20%20%20%20%20%20%20var%20html_8326bb86b945483e80788f3a5e2fdf67%20%3D%20%24%28%60%3Cdiv%20id%3D%22html_8326bb86b945483e80788f3a5e2fdf67%22%20style%3D%22width%3A%20100.0%25%3B%20height%3A%20100.0%25%3B%22%3EThe%20Pump%20House%2CBrewery%3C/div%3E%60%29%5B0%5D%3B%0A%20%20%20%20%20%20%20%20%20%20%20%20%20%20%20%20popup_d00f2d2bc27b445db756c4380207185c.setContent%28html_8326bb86b945483e80788f3a5e2fdf67%29%3B%0A%20%20%20%20%20%20%20%20%20%20%20%20%0A%0A%20%20%20%20%20%20%20%20%20%20%20%20circle_marker_52eada23bf05499fad1489aa9385f25a.bindPopup%28popup_d00f2d2bc27b445db756c4380207185c%29%0A%20%20%20%20%20%20%20%20%20%20%20%20%3B%0A%0A%20%20%20%20%20%20%20%20%20%20%20%20%0A%20%20%20%20%20%20%20%20%0A%20%20%20%20%0A%20%20%20%20%20%20%20%20%20%20%20%20var%20circle_marker_6f18d5c7b8cf46dc80a3e340bbf7949c%20%3D%20L.circleMarker%28%0A%20%20%20%20%20%20%20%20%20%20%20%20%20%20%20%20%5B12.973722472653884%2C%2077.60697151460171%5D%2C%0A%20%20%20%20%20%20%20%20%20%20%20%20%20%20%20%20%7B%0A%20%20%22bubblingMouseEvents%22%3A%20true%2C%0A%20%20%22color%22%3A%20%22blue%22%2C%0A%20%20%22dashArray%22%3A%20null%2C%0A%20%20%22dashOffset%22%3A%20null%2C%0A%20%20%22fill%22%3A%20true%2C%0A%20%20%22fillColor%22%3A%20%22%233186cc%22%2C%0A%20%20%22fillOpacity%22%3A%200.7%2C%0A%20%20%22fillRule%22%3A%20%22evenodd%22%2C%0A%20%20%22lineCap%22%3A%20%22round%22%2C%0A%20%20%22lineJoin%22%3A%20%22round%22%2C%0A%20%20%22opacity%22%3A%201.0%2C%0A%20%20%22radius%22%3A%205%2C%0A%20%20%22stroke%22%3A%20true%2C%0A%20%20%22weight%22%3A%203%0A%7D%0A%20%20%20%20%20%20%20%20%20%20%20%20%20%20%20%20%29%0A%20%20%20%20%20%20%20%20%20%20%20%20%20%20%20%20.addTo%28map_4f83ec28c3644a08b81ee7ae2f35e559%29%3B%0A%20%20%20%20%20%20%20%20%20%20%20%20%0A%20%20%20%20%0A%20%20%20%20%20%20%20%20%20%20%20%20var%20popup_60622a0ea64446948e3790e41ac4812a%20%3D%20L.popup%28%7BmaxWidth%3A%20%27100%25%27%0A%20%20%20%20%20%20%20%20%20%20%20%20%0A%20%20%20%20%20%20%20%20%20%20%20%20%7D%29%3B%0A%0A%20%20%20%20%20%20%20%20%20%20%20%20%0A%20%20%20%20%20%20%20%20%20%20%20%20%20%20%20%20var%20html_8c3427666d45404d875c3223333798cd%20%3D%20%24%28%60%3Cdiv%20id%3D%22html_8c3427666d45404d875c3223333798cd%22%20style%3D%22width%3A%20100.0%25%3B%20height%3A%20100.0%25%3B%22%3EGuzzlers%20Inn%2CPub%3C/div%3E%60%29%5B0%5D%3B%0A%20%20%20%20%20%20%20%20%20%20%20%20%20%20%20%20popup_60622a0ea64446948e3790e41ac4812a.setContent%28html_8c3427666d45404d875c3223333798cd%29%3B%0A%20%20%20%20%20%20%20%20%20%20%20%20%0A%0A%20%20%20%20%20%20%20%20%20%20%20%20circle_marker_6f18d5c7b8cf46dc80a3e340bbf7949c.bindPopup%28popup_60622a0ea64446948e3790e41ac4812a%29%0A%20%20%20%20%20%20%20%20%20%20%20%20%3B%0A%0A%20%20%20%20%20%20%20%20%20%20%20%20%0A%20%20%20%20%20%20%20%20%0A%20%20%20%20%0A%20%20%20%20%20%20%20%20%20%20%20%20var%20circle_marker_cc73f8a4386240ddbe06f79ac520f63f%20%3D%20L.circleMarker%28%0A%20%20%20%20%20%20%20%20%20%20%20%20%20%20%20%20%5B12.893477%2C%2077.58662%5D%2C%0A%20%20%20%20%20%20%20%20%20%20%20%20%20%20%20%20%7B%0A%20%20%22bubblingMouseEvents%22%3A%20true%2C%0A%20%20%22color%22%3A%20%22blue%22%2C%0A%20%20%22dashArray%22%3A%20null%2C%0A%20%20%22dashOffset%22%3A%20null%2C%0A%20%20%22fill%22%3A%20true%2C%0A%20%20%22fillColor%22%3A%20%22%233186cc%22%2C%0A%20%20%22fillOpacity%22%3A%200.7%2C%0A%20%20%22fillRule%22%3A%20%22evenodd%22%2C%0A%20%20%22lineCap%22%3A%20%22round%22%2C%0A%20%20%22lineJoin%22%3A%20%22round%22%2C%0A%20%20%22opacity%22%3A%201.0%2C%0A%20%20%22radius%22%3A%205%2C%0A%20%20%22stroke%22%3A%20true%2C%0A%20%20%22weight%22%3A%203%0A%7D%0A%20%20%20%20%20%20%20%20%20%20%20%20%20%20%20%20%29%0A%20%20%20%20%20%20%20%20%20%20%20%20%20%20%20%20.addTo%28map_4f83ec28c3644a08b81ee7ae2f35e559%29%3B%0A%20%20%20%20%20%20%20%20%20%20%20%20%0A%20%20%20%20%0A%20%20%20%20%20%20%20%20%20%20%20%20var%20popup_ea4a2b88020f440db2a0fd355c829d05%20%3D%20L.popup%28%7BmaxWidth%3A%20%27100%25%27%0A%20%20%20%20%20%20%20%20%20%20%20%20%0A%20%20%20%20%20%20%20%20%20%20%20%20%7D%29%3B%0A%0A%20%20%20%20%20%20%20%20%20%20%20%20%0A%20%20%20%20%20%20%20%20%20%20%20%20%20%20%20%20var%20html_de374d24a3e3487dbaf41eea10b7efac%20%3D%20%24%28%60%3Cdiv%20id%3D%22html_de374d24a3e3487dbaf41eea10b7efac%22%20style%3D%22width%3A%20100.0%25%3B%20height%3A%20100.0%25%3B%22%3EBrahma%20Brews%2CBrewery%3C/div%3E%60%29%5B0%5D%3B%0A%20%20%20%20%20%20%20%20%20%20%20%20%20%20%20%20popup_ea4a2b88020f440db2a0fd355c829d05.setContent%28html_de374d24a3e3487dbaf41eea10b7efac%29%3B%0A%20%20%20%20%20%20%20%20%20%20%20%20%0A%0A%20%20%20%20%20%20%20%20%20%20%20%20circle_marker_cc73f8a4386240ddbe06f79ac520f63f.bindPopup%28popup_ea4a2b88020f440db2a0fd355c829d05%29%0A%20%20%20%20%20%20%20%20%20%20%20%20%3B%0A%0A%20%20%20%20%20%20%20%20%20%20%20%20%0A%20%20%20%20%20%20%20%20%0A%20%20%20%20%0A%20%20%20%20%20%20%20%20%20%20%20%20var%20circle_marker_af2eaad774c8484d84e5f27245ee61a1%20%3D%20L.circleMarker%28%0A%20%20%20%20%20%20%20%20%20%20%20%20%20%20%20%20%5B12.971166660789011%2C%2077.64120278594287%5D%2C%0A%20%20%20%20%20%20%20%20%20%20%20%20%20%20%20%20%7B%0A%20%20%22bubblingMouseEvents%22%3A%20true%2C%0A%20%20%22color%22%3A%20%22blue%22%2C%0A%20%20%22dashArray%22%3A%20null%2C%0A%20%20%22dashOffset%22%3A%20null%2C%0A%20%20%22fill%22%3A%20true%2C%0A%20%20%22fillColor%22%3A%20%22%233186cc%22%2C%0A%20%20%22fillOpacity%22%3A%200.7%2C%0A%20%20%22fillRule%22%3A%20%22evenodd%22%2C%0A%20%20%22lineCap%22%3A%20%22round%22%2C%0A%20%20%22lineJoin%22%3A%20%22round%22%2C%0A%20%20%22opacity%22%3A%201.0%2C%0A%20%20%22radius%22%3A%205%2C%0A%20%20%22stroke%22%3A%20true%2C%0A%20%20%22weight%22%3A%203%0A%7D%0A%20%20%20%20%20%20%20%20%20%20%20%20%20%20%20%20%29%0A%20%20%20%20%20%20%20%20%20%20%20%20%20%20%20%20.addTo%28map_4f83ec28c3644a08b81ee7ae2f35e559%29%3B%0A%20%20%20%20%20%20%20%20%20%20%20%20%0A%20%20%20%20%0A%20%20%20%20%20%20%20%20%20%20%20%20var%20popup_9c46c66751054a1fbbe27e27fc0982a5%20%3D%20L.popup%28%7BmaxWidth%3A%20%27100%25%27%0A%20%20%20%20%20%20%20%20%20%20%20%20%0A%20%20%20%20%20%20%20%20%20%20%20%20%7D%29%3B%0A%0A%20%20%20%20%20%20%20%20%20%20%20%20%0A%20%20%20%20%20%20%20%20%20%20%20%20%20%20%20%20var%20html_4bf1cb24b06b469694ed4ed0d3d017ab%20%3D%20%24%28%60%3Cdiv%20id%3D%22html_4bf1cb24b06b469694ed4ed0d3d017ab%22%20style%3D%22width%3A%20100.0%25%3B%20height%3A%20100.0%25%3B%22%3ELOFT%2038%2CLounge%3C/div%3E%60%29%5B0%5D%3B%0A%20%20%20%20%20%20%20%20%20%20%20%20%20%20%20%20popup_9c46c66751054a1fbbe27e27fc0982a5.setContent%28html_4bf1cb24b06b469694ed4ed0d3d017ab%29%3B%0A%20%20%20%20%20%20%20%20%20%20%20%20%0A%0A%20%20%20%20%20%20%20%20%20%20%20%20circle_marker_af2eaad774c8484d84e5f27245ee61a1.bindPopup%28popup_9c46c66751054a1fbbe27e27fc0982a5%29%0A%20%20%20%20%20%20%20%20%20%20%20%20%3B%0A%0A%20%20%20%20%20%20%20%20%20%20%20%20%0A%20%20%20%20%20%20%20%20%0A%20%20%20%20%0A%20%20%20%20%20%20%20%20%20%20%20%20var%20circle_marker_fce96cf05ad349679a355c9b9053ce13%20%3D%20L.circleMarker%28%0A%20%20%20%20%20%20%20%20%20%20%20%20%20%20%20%20%5B12.914441017794678%2C%2077.66638356331697%5D%2C%0A%20%20%20%20%20%20%20%20%20%20%20%20%20%20%20%20%7B%0A%20%20%22bubblingMouseEvents%22%3A%20true%2C%0A%20%20%22color%22%3A%20%22blue%22%2C%0A%20%20%22dashArray%22%3A%20null%2C%0A%20%20%22dashOffset%22%3A%20null%2C%0A%20%20%22fill%22%3A%20true%2C%0A%20%20%22fillColor%22%3A%20%22%233186cc%22%2C%0A%20%20%22fillOpacity%22%3A%200.7%2C%0A%20%20%22fillRule%22%3A%20%22evenodd%22%2C%0A%20%20%22lineCap%22%3A%20%22round%22%2C%0A%20%20%22lineJoin%22%3A%20%22round%22%2C%0A%20%20%22opacity%22%3A%201.0%2C%0A%20%20%22radius%22%3A%205%2C%0A%20%20%22stroke%22%3A%20true%2C%0A%20%20%22weight%22%3A%203%0A%7D%0A%20%20%20%20%20%20%20%20%20%20%20%20%20%20%20%20%29%0A%20%20%20%20%20%20%20%20%20%20%20%20%20%20%20%20.addTo%28map_4f83ec28c3644a08b81ee7ae2f35e559%29%3B%0A%20%20%20%20%20%20%20%20%20%20%20%20%0A%20%20%20%20%0A%20%20%20%20%20%20%20%20%20%20%20%20var%20popup_6a77ed8d57ea464b9bb88b7a4c16f008%20%3D%20L.popup%28%7BmaxWidth%3A%20%27100%25%27%0A%20%20%20%20%20%20%20%20%20%20%20%20%0A%20%20%20%20%20%20%20%20%20%20%20%20%7D%29%3B%0A%0A%20%20%20%20%20%20%20%20%20%20%20%20%0A%20%20%20%20%20%20%20%20%20%20%20%20%20%20%20%20var%20html_932225586614461096ecdf99feb50263%20%3D%20%24%28%60%3Cdiv%20id%3D%22html_932225586614461096ecdf99feb50263%22%20style%3D%22width%3A%20100.0%25%3B%20height%3A%20100.0%25%3B%22%3EThe%20Fisherman%26%2339%3Bs%20Wharf%2CSeafood%20Restaurant%3C/div%3E%60%29%5B0%5D%3B%0A%20%20%20%20%20%20%20%20%20%20%20%20%20%20%20%20popup_6a77ed8d57ea464b9bb88b7a4c16f008.setContent%28html_932225586614461096ecdf99feb50263%29%3B%0A%20%20%20%20%20%20%20%20%20%20%20%20%0A%0A%20%20%20%20%20%20%20%20%20%20%20%20circle_marker_fce96cf05ad349679a355c9b9053ce13.bindPopup%28popup_6a77ed8d57ea464b9bb88b7a4c16f008%29%0A%20%20%20%20%20%20%20%20%20%20%20%20%3B%0A%0A%20%20%20%20%20%20%20%20%20%20%20%20%0A%20%20%20%20%20%20%20%20%0A%20%20%20%20%0A%20%20%20%20%20%20%20%20%20%20%20%20var%20circle_marker_c65e72af240c4616a6bbfaa3f1bad134%20%3D%20L.circleMarker%28%0A%20%20%20%20%20%20%20%20%20%20%20%20%20%20%20%20%5B12.970631843289116%2C%2077.6006424109597%5D%2C%0A%20%20%20%20%20%20%20%20%20%20%20%20%20%20%20%20%7B%0A%20%20%22bubblingMouseEvents%22%3A%20true%2C%0A%20%20%22color%22%3A%20%22blue%22%2C%0A%20%20%22dashArray%22%3A%20null%2C%0A%20%20%22dashOffset%22%3A%20null%2C%0A%20%20%22fill%22%3A%20true%2C%0A%20%20%22fillColor%22%3A%20%22%233186cc%22%2C%0A%20%20%22fillOpacity%22%3A%200.7%2C%0A%20%20%22fillRule%22%3A%20%22evenodd%22%2C%0A%20%20%22lineCap%22%3A%20%22round%22%2C%0A%20%20%22lineJoin%22%3A%20%22round%22%2C%0A%20%20%22opacity%22%3A%201.0%2C%0A%20%20%22radius%22%3A%205%2C%0A%20%20%22stroke%22%3A%20true%2C%0A%20%20%22weight%22%3A%203%0A%7D%0A%20%20%20%20%20%20%20%20%20%20%20%20%20%20%20%20%29%0A%20%20%20%20%20%20%20%20%20%20%20%20%20%20%20%20.addTo%28map_4f83ec28c3644a08b81ee7ae2f35e559%29%3B%0A%20%20%20%20%20%20%20%20%20%20%20%20%0A%20%20%20%20%0A%20%20%20%20%20%20%20%20%20%20%20%20var%20popup_d33eaf2edb084018916bd4bf98a6d1cb%20%3D%20L.popup%28%7BmaxWidth%3A%20%27100%25%27%0A%20%20%20%20%20%20%20%20%20%20%20%20%0A%20%20%20%20%20%20%20%20%20%20%20%20%7D%29%3B%0A%0A%20%20%20%20%20%20%20%20%20%20%20%20%0A%20%20%20%20%20%20%20%20%20%20%20%20%20%20%20%20var%20html_7cd752711bdb486eb7099f5dd0359d80%20%3D%20%24%28%60%3Cdiv%20id%3D%22html_7cd752711bdb486eb7099f5dd0359d80%22%20style%3D%22width%3A%20100.0%25%3B%20height%3A%20100.0%25%3B%22%3EThe%20Open%20Box%2CPub%3C/div%3E%60%29%5B0%5D%3B%0A%20%20%20%20%20%20%20%20%20%20%20%20%20%20%20%20popup_d33eaf2edb084018916bd4bf98a6d1cb.setContent%28html_7cd752711bdb486eb7099f5dd0359d80%29%3B%0A%20%20%20%20%20%20%20%20%20%20%20%20%0A%0A%20%20%20%20%20%20%20%20%20%20%20%20circle_marker_c65e72af240c4616a6bbfaa3f1bad134.bindPopup%28popup_d33eaf2edb084018916bd4bf98a6d1cb%29%0A%20%20%20%20%20%20%20%20%20%20%20%20%3B%0A%0A%20%20%20%20%20%20%20%20%20%20%20%20%0A%20%20%20%20%20%20%20%20%0A%20%20%20%20%0A%20%20%20%20%20%20%20%20%20%20%20%20var%20circle_marker_233101c1e2064953881344155fb1c8b6%20%3D%20L.circleMarker%28%0A%20%20%20%20%20%20%20%20%20%20%20%20%20%20%20%20%5B12.929161556238974%2C%2077.62904110741958%5D%2C%0A%20%20%20%20%20%20%20%20%20%20%20%20%20%20%20%20%7B%0A%20%20%22bubblingMouseEvents%22%3A%20true%2C%0A%20%20%22color%22%3A%20%22blue%22%2C%0A%20%20%22dashArray%22%3A%20null%2C%0A%20%20%22dashOffset%22%3A%20null%2C%0A%20%20%22fill%22%3A%20true%2C%0A%20%20%22fillColor%22%3A%20%22%233186cc%22%2C%0A%20%20%22fillOpacity%22%3A%200.7%2C%0A%20%20%22fillRule%22%3A%20%22evenodd%22%2C%0A%20%20%22lineCap%22%3A%20%22round%22%2C%0A%20%20%22lineJoin%22%3A%20%22round%22%2C%0A%20%20%22opacity%22%3A%201.0%2C%0A%20%20%22radius%22%3A%205%2C%0A%20%20%22stroke%22%3A%20true%2C%0A%20%20%22weight%22%3A%203%0A%7D%0A%20%20%20%20%20%20%20%20%20%20%20%20%20%20%20%20%29%0A%20%20%20%20%20%20%20%20%20%20%20%20%20%20%20%20.addTo%28map_4f83ec28c3644a08b81ee7ae2f35e559%29%3B%0A%20%20%20%20%20%20%20%20%20%20%20%20%0A%20%20%20%20%0A%20%20%20%20%20%20%20%20%20%20%20%20var%20popup_0e1e8c0f32b244da94f054a5ed048c52%20%3D%20L.popup%28%7BmaxWidth%3A%20%27100%25%27%0A%20%20%20%20%20%20%20%20%20%20%20%20%0A%20%20%20%20%20%20%20%20%20%20%20%20%7D%29%3B%0A%0A%20%20%20%20%20%20%20%20%20%20%20%20%0A%20%20%20%20%20%20%20%20%20%20%20%20%20%20%20%20var%20html_4bb71febc23849d28dc14014f07eac0f%20%3D%20%24%28%60%3Cdiv%20id%3D%22html_4bb71febc23849d28dc14014f07eac0f%22%20style%3D%22width%3A%20100.0%25%3B%20height%3A%20100.0%25%3B%22%3ESathya%26%2339%3Bs%2CHotel%20Bar%3C/div%3E%60%29%5B0%5D%3B%0A%20%20%20%20%20%20%20%20%20%20%20%20%20%20%20%20popup_0e1e8c0f32b244da94f054a5ed048c52.setContent%28html_4bb71febc23849d28dc14014f07eac0f%29%3B%0A%20%20%20%20%20%20%20%20%20%20%20%20%0A%0A%20%20%20%20%20%20%20%20%20%20%20%20circle_marker_233101c1e2064953881344155fb1c8b6.bindPopup%28popup_0e1e8c0f32b244da94f054a5ed048c52%29%0A%20%20%20%20%20%20%20%20%20%20%20%20%3B%0A%0A%20%20%20%20%20%20%20%20%20%20%20%20%0A%20%20%20%20%20%20%20%20%0A%20%20%20%20%0A%20%20%20%20%20%20%20%20%20%20%20%20var%20circle_marker_7c4dec9c0714493d9fd8bc0d4ae7029d%20%3D%20L.circleMarker%28%0A%20%20%20%20%20%20%20%20%20%20%20%20%20%20%20%20%5B13.010935035196486%2C%2077.55501700952307%5D%2C%0A%20%20%20%20%20%20%20%20%20%20%20%20%20%20%20%20%7B%0A%20%20%22bubblingMouseEvents%22%3A%20true%2C%0A%20%20%22color%22%3A%20%22blue%22%2C%0A%20%20%22dashArray%22%3A%20null%2C%0A%20%20%22dashOffset%22%3A%20null%2C%0A%20%20%22fill%22%3A%20true%2C%0A%20%20%22fillColor%22%3A%20%22%233186cc%22%2C%0A%20%20%22fillOpacity%22%3A%200.7%2C%0A%20%20%22fillRule%22%3A%20%22evenodd%22%2C%0A%20%20%22lineCap%22%3A%20%22round%22%2C%0A%20%20%22lineJoin%22%3A%20%22round%22%2C%0A%20%20%22opacity%22%3A%201.0%2C%0A%20%20%22radius%22%3A%205%2C%0A%20%20%22stroke%22%3A%20true%2C%0A%20%20%22weight%22%3A%203%0A%7D%0A%20%20%20%20%20%20%20%20%20%20%20%20%20%20%20%20%29%0A%20%20%20%20%20%20%20%20%20%20%20%20%20%20%20%20.addTo%28map_4f83ec28c3644a08b81ee7ae2f35e559%29%3B%0A%20%20%20%20%20%20%20%20%20%20%20%20%0A%20%20%20%20%0A%20%20%20%20%20%20%20%20%20%20%20%20var%20popup_99f94b4d1fb74bbb8d42f7da4258471b%20%3D%20L.popup%28%7BmaxWidth%3A%20%27100%25%27%0A%20%20%20%20%20%20%20%20%20%20%20%20%0A%20%20%20%20%20%20%20%20%20%20%20%20%7D%29%3B%0A%0A%20%20%20%20%20%20%20%20%20%20%20%20%0A%20%20%20%20%20%20%20%20%20%20%20%20%20%20%20%20var%20html_1effa6685e5b4c999fde39a9dae444b6%20%3D%20%24%28%60%3Cdiv%20id%3D%22html_1effa6685e5b4c999fde39a9dae444b6%22%20style%3D%22width%3A%20100.0%25%3B%20height%3A%20100.0%25%3B%22%3EThe%20Studio%20Bar%2CLounge%3C/div%3E%60%29%5B0%5D%3B%0A%20%20%20%20%20%20%20%20%20%20%20%20%20%20%20%20popup_99f94b4d1fb74bbb8d42f7da4258471b.setContent%28html_1effa6685e5b4c999fde39a9dae444b6%29%3B%0A%20%20%20%20%20%20%20%20%20%20%20%20%0A%0A%20%20%20%20%20%20%20%20%20%20%20%20circle_marker_7c4dec9c0714493d9fd8bc0d4ae7029d.bindPopup%28popup_99f94b4d1fb74bbb8d42f7da4258471b%29%0A%20%20%20%20%20%20%20%20%20%20%20%20%3B%0A%0A%20%20%20%20%20%20%20%20%20%20%20%20%0A%20%20%20%20%20%20%20%20%0A%20%20%20%20%0A%20%20%20%20%20%20%20%20%20%20%20%20var%20circle_marker_46de3b723fbc46eca75718c5a5a20c1d%20%3D%20L.circleMarker%28%0A%20%20%20%20%20%20%20%20%20%20%20%20%20%20%20%20%5B13.001184829743625%2C%2077.62923942810777%5D%2C%0A%20%20%20%20%20%20%20%20%20%20%20%20%20%20%20%20%7B%0A%20%20%22bubblingMouseEvents%22%3A%20true%2C%0A%20%20%22color%22%3A%20%22blue%22%2C%0A%20%20%22dashArray%22%3A%20null%2C%0A%20%20%22dashOffset%22%3A%20null%2C%0A%20%20%22fill%22%3A%20true%2C%0A%20%20%22fillColor%22%3A%20%22%233186cc%22%2C%0A%20%20%22fillOpacity%22%3A%200.7%2C%0A%20%20%22fillRule%22%3A%20%22evenodd%22%2C%0A%20%20%22lineCap%22%3A%20%22round%22%2C%0A%20%20%22lineJoin%22%3A%20%22round%22%2C%0A%20%20%22opacity%22%3A%201.0%2C%0A%20%20%22radius%22%3A%205%2C%0A%20%20%22stroke%22%3A%20true%2C%0A%20%20%22weight%22%3A%203%0A%7D%0A%20%20%20%20%20%20%20%20%20%20%20%20%20%20%20%20%29%0A%20%20%20%20%20%20%20%20%20%20%20%20%20%20%20%20.addTo%28map_4f83ec28c3644a08b81ee7ae2f35e559%29%3B%0A%20%20%20%20%20%20%20%20%20%20%20%20%0A%20%20%20%20%0A%20%20%20%20%20%20%20%20%20%20%20%20var%20popup_281a909eb51841149dfce7dcea27f74a%20%3D%20L.popup%28%7BmaxWidth%3A%20%27100%25%27%0A%20%20%20%20%20%20%20%20%20%20%20%20%0A%20%20%20%20%20%20%20%20%20%20%20%20%7D%29%3B%0A%0A%20%20%20%20%20%20%20%20%20%20%20%20%0A%20%20%20%20%20%20%20%20%20%20%20%20%20%20%20%20var%20html_b2307c686833457a882e827fdfa49e33%20%3D%20%24%28%60%3Cdiv%20id%3D%22html_b2307c686833457a882e827fdfa49e33%22%20style%3D%22width%3A%20100.0%25%3B%20height%3A%20100.0%25%3B%22%3EUpbeat%2CLounge%3C/div%3E%60%29%5B0%5D%3B%0A%20%20%20%20%20%20%20%20%20%20%20%20%20%20%20%20popup_281a909eb51841149dfce7dcea27f74a.setContent%28html_b2307c686833457a882e827fdfa49e33%29%3B%0A%20%20%20%20%20%20%20%20%20%20%20%20%0A%0A%20%20%20%20%20%20%20%20%20%20%20%20circle_marker_46de3b723fbc46eca75718c5a5a20c1d.bindPopup%28popup_281a909eb51841149dfce7dcea27f74a%29%0A%20%20%20%20%20%20%20%20%20%20%20%20%3B%0A%0A%20%20%20%20%20%20%20%20%20%20%20%20%0A%20%20%20%20%20%20%20%20%0A%20%20%20%20%0A%20%20%20%20%20%20%20%20%20%20%20%20var%20circle_marker_3f310abd113240b2974233d9e0d75946%20%3D%20L.circleMarker%28%0A%20%20%20%20%20%20%20%20%20%20%20%20%20%20%20%20%5B12.964480895955553%2C%2077.6416910954984%5D%2C%0A%20%20%20%20%20%20%20%20%20%20%20%20%20%20%20%20%7B%0A%20%20%22bubblingMouseEvents%22%3A%20true%2C%0A%20%20%22color%22%3A%20%22blue%22%2C%0A%20%20%22dashArray%22%3A%20null%2C%0A%20%20%22dashOffset%22%3A%20null%2C%0A%20%20%22fill%22%3A%20true%2C%0A%20%20%22fillColor%22%3A%20%22%233186cc%22%2C%0A%20%20%22fillOpacity%22%3A%200.7%2C%0A%20%20%22fillRule%22%3A%20%22evenodd%22%2C%0A%20%20%22lineCap%22%3A%20%22round%22%2C%0A%20%20%22lineJoin%22%3A%20%22round%22%2C%0A%20%20%22opacity%22%3A%201.0%2C%0A%20%20%22radius%22%3A%205%2C%0A%20%20%22stroke%22%3A%20true%2C%0A%20%20%22weight%22%3A%203%0A%7D%0A%20%20%20%20%20%20%20%20%20%20%20%20%20%20%20%20%29%0A%20%20%20%20%20%20%20%20%20%20%20%20%20%20%20%20.addTo%28map_4f83ec28c3644a08b81ee7ae2f35e559%29%3B%0A%20%20%20%20%20%20%20%20%20%20%20%20%0A%20%20%20%20%0A%20%20%20%20%20%20%20%20%20%20%20%20var%20popup_1d0871e2e16f49ca813f624c525c15b4%20%3D%20L.popup%28%7BmaxWidth%3A%20%27100%25%27%0A%20%20%20%20%20%20%20%20%20%20%20%20%0A%20%20%20%20%20%20%20%20%20%20%20%20%7D%29%3B%0A%0A%20%20%20%20%20%20%20%20%20%20%20%20%0A%20%20%20%20%20%20%20%20%20%20%20%20%20%20%20%20var%20html_738bf22453a247ce8d5583dd0e61af60%20%3D%20%24%28%60%3Cdiv%20id%3D%22html_738bf22453a247ce8d5583dd0e61af60%22%20style%3D%22width%3A%20100.0%25%3B%20height%3A%20100.0%25%3B%22%3EHarry%26%2339%3Bs%20Singapore%2CSports%20Bar%3C/div%3E%60%29%5B0%5D%3B%0A%20%20%20%20%20%20%20%20%20%20%20%20%20%20%20%20popup_1d0871e2e16f49ca813f624c525c15b4.setContent%28html_738bf22453a247ce8d5583dd0e61af60%29%3B%0A%20%20%20%20%20%20%20%20%20%20%20%20%0A%0A%20%20%20%20%20%20%20%20%20%20%20%20circle_marker_3f310abd113240b2974233d9e0d75946.bindPopup%28popup_1d0871e2e16f49ca813f624c525c15b4%29%0A%20%20%20%20%20%20%20%20%20%20%20%20%3B%0A%0A%20%20%20%20%20%20%20%20%20%20%20%20%0A%20%20%20%20%20%20%20%20%0A%20%20%20%20%0A%20%20%20%20%20%20%20%20%20%20%20%20var%20circle_marker_301a41c0b65f46f5b031d6d1060186dc%20%3D%20L.circleMarker%28%0A%20%20%20%20%20%20%20%20%20%20%20%20%20%20%20%20%5B12.973604477208664%2C%2077.60710281355085%5D%2C%0A%20%20%20%20%20%20%20%20%20%20%20%20%20%20%20%20%7B%0A%20%20%22bubblingMouseEvents%22%3A%20true%2C%0A%20%20%22color%22%3A%20%22blue%22%2C%0A%20%20%22dashArray%22%3A%20null%2C%0A%20%20%22dashOffset%22%3A%20null%2C%0A%20%20%22fill%22%3A%20true%2C%0A%20%20%22fillColor%22%3A%20%22%233186cc%22%2C%0A%20%20%22fillOpacity%22%3A%200.7%2C%0A%20%20%22fillRule%22%3A%20%22evenodd%22%2C%0A%20%20%22lineCap%22%3A%20%22round%22%2C%0A%20%20%22lineJoin%22%3A%20%22round%22%2C%0A%20%20%22opacity%22%3A%201.0%2C%0A%20%20%22radius%22%3A%205%2C%0A%20%20%22stroke%22%3A%20true%2C%0A%20%20%22weight%22%3A%203%0A%7D%0A%20%20%20%20%20%20%20%20%20%20%20%20%20%20%20%20%29%0A%20%20%20%20%20%20%20%20%20%20%20%20%20%20%20%20.addTo%28map_4f83ec28c3644a08b81ee7ae2f35e559%29%3B%0A%20%20%20%20%20%20%20%20%20%20%20%20%0A%20%20%20%20%0A%20%20%20%20%20%20%20%20%20%20%20%20var%20popup_2830745048bc4cfc8aff938367aeb9ad%20%3D%20L.popup%28%7BmaxWidth%3A%20%27100%25%27%0A%20%20%20%20%20%20%20%20%20%20%20%20%0A%20%20%20%20%20%20%20%20%20%20%20%20%7D%29%3B%0A%0A%20%20%20%20%20%20%20%20%20%20%20%20%0A%20%20%20%20%20%20%20%20%20%20%20%20%20%20%20%20var%20html_1dcf5df8859f4127abe0c9a0ad8be14e%20%3D%20%24%28%60%3Cdiv%20id%3D%22html_1dcf5df8859f4127abe0c9a0ad8be14e%22%20style%3D%22width%3A%20100.0%25%3B%20height%3A%20100.0%25%3B%22%3ELe%20Rock%2CPub%3C/div%3E%60%29%5B0%5D%3B%0A%20%20%20%20%20%20%20%20%20%20%20%20%20%20%20%20popup_2830745048bc4cfc8aff938367aeb9ad.setContent%28html_1dcf5df8859f4127abe0c9a0ad8be14e%29%3B%0A%20%20%20%20%20%20%20%20%20%20%20%20%0A%0A%20%20%20%20%20%20%20%20%20%20%20%20circle_marker_301a41c0b65f46f5b031d6d1060186dc.bindPopup%28popup_2830745048bc4cfc8aff938367aeb9ad%29%0A%20%20%20%20%20%20%20%20%20%20%20%20%3B%0A%0A%20%20%20%20%20%20%20%20%20%20%20%20%0A%20%20%20%20%20%20%20%20%0A%20%20%20%20%0A%20%20%20%20%20%20%20%20%20%20%20%20var%20circle_marker_1b42a52d33e64bb8b6e09c9e545434ec%20%3D%20L.circleMarker%28%0A%20%20%20%20%20%20%20%20%20%20%20%20%20%20%20%20%5B12.93314719695822%2C%2077.63076614292017%5D%2C%0A%20%20%20%20%20%20%20%20%20%20%20%20%20%20%20%20%7B%0A%20%20%22bubblingMouseEvents%22%3A%20true%2C%0A%20%20%22color%22%3A%20%22blue%22%2C%0A%20%20%22dashArray%22%3A%20null%2C%0A%20%20%22dashOffset%22%3A%20null%2C%0A%20%20%22fill%22%3A%20true%2C%0A%20%20%22fillColor%22%3A%20%22%233186cc%22%2C%0A%20%20%22fillOpacity%22%3A%200.7%2C%0A%20%20%22fillRule%22%3A%20%22evenodd%22%2C%0A%20%20%22lineCap%22%3A%20%22round%22%2C%0A%20%20%22lineJoin%22%3A%20%22round%22%2C%0A%20%20%22opacity%22%3A%201.0%2C%0A%20%20%22radius%22%3A%205%2C%0A%20%20%22stroke%22%3A%20true%2C%0A%20%20%22weight%22%3A%203%0A%7D%0A%20%20%20%20%20%20%20%20%20%20%20%20%20%20%20%20%29%0A%20%20%20%20%20%20%20%20%20%20%20%20%20%20%20%20.addTo%28map_4f83ec28c3644a08b81ee7ae2f35e559%29%3B%0A%20%20%20%20%20%20%20%20%20%20%20%20%0A%20%20%20%20%0A%20%20%20%20%20%20%20%20%20%20%20%20var%20popup_b34d574a65e74409958550f2ad465e40%20%3D%20L.popup%28%7BmaxWidth%3A%20%27100%25%27%0A%20%20%20%20%20%20%20%20%20%20%20%20%0A%20%20%20%20%20%20%20%20%20%20%20%20%7D%29%3B%0A%0A%20%20%20%20%20%20%20%20%20%20%20%20%0A%20%20%20%20%20%20%20%20%20%20%20%20%20%20%20%20var%20html_b27d7d6b469e492ea0721e668c36f371%20%3D%20%24%28%60%3Cdiv%20id%3D%22html_b27d7d6b469e492ea0721e668c36f371%22%20style%3D%22width%3A%20100.0%25%3B%20height%3A%20100.0%25%3B%22%3EProst%2CBeer%20Garden%3C/div%3E%60%29%5B0%5D%3B%0A%20%20%20%20%20%20%20%20%20%20%20%20%20%20%20%20popup_b34d574a65e74409958550f2ad465e40.setContent%28html_b27d7d6b469e492ea0721e668c36f371%29%3B%0A%20%20%20%20%20%20%20%20%20%20%20%20%0A%0A%20%20%20%20%20%20%20%20%20%20%20%20circle_marker_1b42a52d33e64bb8b6e09c9e545434ec.bindPopup%28popup_b34d574a65e74409958550f2ad465e40%29%0A%20%20%20%20%20%20%20%20%20%20%20%20%3B%0A%0A%20%20%20%20%20%20%20%20%20%20%20%20%0A%20%20%20%20%20%20%20%20%0A%20%20%20%20%0A%20%20%20%20%20%20%20%20%20%20%20%20var%20circle_marker_ca2853e945f446828aaf8b6e4f8a05c8%20%3D%20L.circleMarker%28%0A%20%20%20%20%20%20%20%20%20%20%20%20%20%20%20%20%5B13.026253129949524%2C%2077.63621928365221%5D%2C%0A%20%20%20%20%20%20%20%20%20%20%20%20%20%20%20%20%7B%0A%20%20%22bubblingMouseEvents%22%3A%20true%2C%0A%20%20%22color%22%3A%20%22blue%22%2C%0A%20%20%22dashArray%22%3A%20null%2C%0A%20%20%22dashOffset%22%3A%20null%2C%0A%20%20%22fill%22%3A%20true%2C%0A%20%20%22fillColor%22%3A%20%22%233186cc%22%2C%0A%20%20%22fillOpacity%22%3A%200.7%2C%0A%20%20%22fillRule%22%3A%20%22evenodd%22%2C%0A%20%20%22lineCap%22%3A%20%22round%22%2C%0A%20%20%22lineJoin%22%3A%20%22round%22%2C%0A%20%20%22opacity%22%3A%201.0%2C%0A%20%20%22radius%22%3A%205%2C%0A%20%20%22stroke%22%3A%20true%2C%0A%20%20%22weight%22%3A%203%0A%7D%0A%20%20%20%20%20%20%20%20%20%20%20%20%20%20%20%20%29%0A%20%20%20%20%20%20%20%20%20%20%20%20%20%20%20%20.addTo%28map_4f83ec28c3644a08b81ee7ae2f35e559%29%3B%0A%20%20%20%20%20%20%20%20%20%20%20%20%0A%20%20%20%20%0A%20%20%20%20%20%20%20%20%20%20%20%20var%20popup_7bfd7087845c400494eee05fc6a40692%20%3D%20L.popup%28%7BmaxWidth%3A%20%27100%25%27%0A%20%20%20%20%20%20%20%20%20%20%20%20%0A%20%20%20%20%20%20%20%20%20%20%20%20%7D%29%3B%0A%0A%20%20%20%20%20%20%20%20%20%20%20%20%0A%20%20%20%20%20%20%20%20%20%20%20%20%20%20%20%20var%20html_59ab8acd5b78478c8e2bc7b3e77b01a9%20%3D%20%24%28%60%3Cdiv%20id%3D%22html_59ab8acd5b78478c8e2bc7b3e77b01a9%22%20style%3D%22width%3A%20100.0%25%3B%20height%3A%20100.0%25%3B%22%3EFirehouse%2CLounge%3C/div%3E%60%29%5B0%5D%3B%0A%20%20%20%20%20%20%20%20%20%20%20%20%20%20%20%20popup_7bfd7087845c400494eee05fc6a40692.setContent%28html_59ab8acd5b78478c8e2bc7b3e77b01a9%29%3B%0A%20%20%20%20%20%20%20%20%20%20%20%20%0A%0A%20%20%20%20%20%20%20%20%20%20%20%20circle_marker_ca2853e945f446828aaf8b6e4f8a05c8.bindPopup%28popup_7bfd7087845c400494eee05fc6a40692%29%0A%20%20%20%20%20%20%20%20%20%20%20%20%3B%0A%0A%20%20%20%20%20%20%20%20%20%20%20%20%0A%20%20%20%20%20%20%20%20%0A%20%20%20%20%0A%20%20%20%20%20%20%20%20%20%20%20%20var%20circle_marker_0bf47efc08ae4fa7a65faf9b52b91e85%20%3D%20L.circleMarker%28%0A%20%20%20%20%20%20%20%20%20%20%20%20%20%20%20%20%5B12.933387554638834%2C%2077.62352536231694%5D%2C%0A%20%20%20%20%20%20%20%20%20%20%20%20%20%20%20%20%7B%0A%20%20%22bubblingMouseEvents%22%3A%20true%2C%0A%20%20%22color%22%3A%20%22blue%22%2C%0A%20%20%22dashArray%22%3A%20null%2C%0A%20%20%22dashOffset%22%3A%20null%2C%0A%20%20%22fill%22%3A%20true%2C%0A%20%20%22fillColor%22%3A%20%22%233186cc%22%2C%0A%20%20%22fillOpacity%22%3A%200.7%2C%0A%20%20%22fillRule%22%3A%20%22evenodd%22%2C%0A%20%20%22lineCap%22%3A%20%22round%22%2C%0A%20%20%22lineJoin%22%3A%20%22round%22%2C%0A%20%20%22opacity%22%3A%201.0%2C%0A%20%20%22radius%22%3A%205%2C%0A%20%20%22stroke%22%3A%20true%2C%0A%20%20%22weight%22%3A%203%0A%7D%0A%20%20%20%20%20%20%20%20%20%20%20%20%20%20%20%20%29%0A%20%20%20%20%20%20%20%20%20%20%20%20%20%20%20%20.addTo%28map_4f83ec28c3644a08b81ee7ae2f35e559%29%3B%0A%20%20%20%20%20%20%20%20%20%20%20%20%0A%20%20%20%20%0A%20%20%20%20%20%20%20%20%20%20%20%20var%20popup_19b6f77321884d22a036e8770a4a2ca2%20%3D%20L.popup%28%7BmaxWidth%3A%20%27100%25%27%0A%20%20%20%20%20%20%20%20%20%20%20%20%0A%20%20%20%20%20%20%20%20%20%20%20%20%7D%29%3B%0A%0A%20%20%20%20%20%20%20%20%20%20%20%20%0A%20%20%20%20%20%20%20%20%20%20%20%20%20%20%20%20var%20html_85ccb671f03242bc8f3bea397ec499ae%20%3D%20%24%28%60%3Cdiv%20id%3D%22html_85ccb671f03242bc8f3bea397ec499ae%22%20style%3D%22width%3A%20100.0%25%3B%20height%3A%20100.0%25%3B%22%3EGilly%E2%80%99s%20Redefined%2CPub%3C/div%3E%60%29%5B0%5D%3B%0A%20%20%20%20%20%20%20%20%20%20%20%20%20%20%20%20popup_19b6f77321884d22a036e8770a4a2ca2.setContent%28html_85ccb671f03242bc8f3bea397ec499ae%29%3B%0A%20%20%20%20%20%20%20%20%20%20%20%20%0A%0A%20%20%20%20%20%20%20%20%20%20%20%20circle_marker_0bf47efc08ae4fa7a65faf9b52b91e85.bindPopup%28popup_19b6f77321884d22a036e8770a4a2ca2%29%0A%20%20%20%20%20%20%20%20%20%20%20%20%3B%0A%0A%20%20%20%20%20%20%20%20%20%20%20%20%0A%20%20%20%20%20%20%20%20%0A%20%20%20%20%0A%20%20%20%20%20%20%20%20%20%20%20%20var%20circle_marker_cff339138ee445bb8626697286935501%20%3D%20L.circleMarker%28%0A%20%20%20%20%20%20%20%20%20%20%20%20%20%20%20%20%5B12.914136158004263%2C%2077.67859633599043%5D%2C%0A%20%20%20%20%20%20%20%20%20%20%20%20%20%20%20%20%7B%0A%20%20%22bubblingMouseEvents%22%3A%20true%2C%0A%20%20%22color%22%3A%20%22blue%22%2C%0A%20%20%22dashArray%22%3A%20null%2C%0A%20%20%22dashOffset%22%3A%20null%2C%0A%20%20%22fill%22%3A%20true%2C%0A%20%20%22fillColor%22%3A%20%22%233186cc%22%2C%0A%20%20%22fillOpacity%22%3A%200.7%2C%0A%20%20%22fillRule%22%3A%20%22evenodd%22%2C%0A%20%20%22lineCap%22%3A%20%22round%22%2C%0A%20%20%22lineJoin%22%3A%20%22round%22%2C%0A%20%20%22opacity%22%3A%201.0%2C%0A%20%20%22radius%22%3A%205%2C%0A%20%20%22stroke%22%3A%20true%2C%0A%20%20%22weight%22%3A%203%0A%7D%0A%20%20%20%20%20%20%20%20%20%20%20%20%20%20%20%20%29%0A%20%20%20%20%20%20%20%20%20%20%20%20%20%20%20%20.addTo%28map_4f83ec28c3644a08b81ee7ae2f35e559%29%3B%0A%20%20%20%20%20%20%20%20%20%20%20%20%0A%20%20%20%20%0A%20%20%20%20%20%20%20%20%20%20%20%20var%20popup_9b3e7308154442d99e7fcf6facb72a86%20%3D%20L.popup%28%7BmaxWidth%3A%20%27100%25%27%0A%20%20%20%20%20%20%20%20%20%20%20%20%0A%20%20%20%20%20%20%20%20%20%20%20%20%7D%29%3B%0A%0A%20%20%20%20%20%20%20%20%20%20%20%20%0A%20%20%20%20%20%20%20%20%20%20%20%20%20%20%20%20var%20html_21e6829419ab42e88a23b30f29cb50e6%20%3D%20%24%28%60%3Cdiv%20id%3D%22html_21e6829419ab42e88a23b30f29cb50e6%22%20style%3D%22width%3A%20100.0%25%3B%20height%3A%20100.0%25%3B%22%3EHoot%2CLounge%3C/div%3E%60%29%5B0%5D%3B%0A%20%20%20%20%20%20%20%20%20%20%20%20%20%20%20%20popup_9b3e7308154442d99e7fcf6facb72a86.setContent%28html_21e6829419ab42e88a23b30f29cb50e6%29%3B%0A%20%20%20%20%20%20%20%20%20%20%20%20%0A%0A%20%20%20%20%20%20%20%20%20%20%20%20circle_marker_cff339138ee445bb8626697286935501.bindPopup%28popup_9b3e7308154442d99e7fcf6facb72a86%29%0A%20%20%20%20%20%20%20%20%20%20%20%20%3B%0A%0A%20%20%20%20%20%20%20%20%20%20%20%20%0A%20%20%20%20%20%20%20%20%0A%20%20%20%20%0A%20%20%20%20%20%20%20%20%20%20%20%20var%20circle_marker_da7db5941e7c4c58a31e9bcf3fb7293c%20%3D%20L.circleMarker%28%0A%20%20%20%20%20%20%20%20%20%20%20%20%20%20%20%20%5B12.970072650700706%2C%2077.6384866075003%5D%2C%0A%20%20%20%20%20%20%20%20%20%20%20%20%20%20%20%20%7B%0A%20%20%22bubblingMouseEvents%22%3A%20true%2C%0A%20%20%22color%22%3A%20%22blue%22%2C%0A%20%20%22dashArray%22%3A%20null%2C%0A%20%20%22dashOffset%22%3A%20null%2C%0A%20%20%22fill%22%3A%20true%2C%0A%20%20%22fillColor%22%3A%20%22%233186cc%22%2C%0A%20%20%22fillOpacity%22%3A%200.7%2C%0A%20%20%22fillRule%22%3A%20%22evenodd%22%2C%0A%20%20%22lineCap%22%3A%20%22round%22%2C%0A%20%20%22lineJoin%22%3A%20%22round%22%2C%0A%20%20%22opacity%22%3A%201.0%2C%0A%20%20%22radius%22%3A%205%2C%0A%20%20%22stroke%22%3A%20true%2C%0A%20%20%22weight%22%3A%203%0A%7D%0A%20%20%20%20%20%20%20%20%20%20%20%20%20%20%20%20%29%0A%20%20%20%20%20%20%20%20%20%20%20%20%20%20%20%20.addTo%28map_4f83ec28c3644a08b81ee7ae2f35e559%29%3B%0A%20%20%20%20%20%20%20%20%20%20%20%20%0A%20%20%20%20%0A%20%20%20%20%20%20%20%20%20%20%20%20var%20popup_3131f68a83994069ba0f2a9ce46fa9fd%20%3D%20L.popup%28%7BmaxWidth%3A%20%27100%25%27%0A%20%20%20%20%20%20%20%20%20%20%20%20%0A%20%20%20%20%20%20%20%20%20%20%20%20%7D%29%3B%0A%0A%20%20%20%20%20%20%20%20%20%20%20%20%0A%20%20%20%20%20%20%20%20%20%20%20%20%20%20%20%20var%20html_265fd7e66256495492ec70239d673b0a%20%3D%20%24%28%60%3Cdiv%20id%3D%22html_265fd7e66256495492ec70239d673b0a%22%20style%3D%22width%3A%20100.0%25%3B%20height%3A%20100.0%25%3B%22%3EJimi%26%2339%3Bs%20Beer%20Cafe%2CPub%3C/div%3E%60%29%5B0%5D%3B%0A%20%20%20%20%20%20%20%20%20%20%20%20%20%20%20%20popup_3131f68a83994069ba0f2a9ce46fa9fd.setContent%28html_265fd7e66256495492ec70239d673b0a%29%3B%0A%20%20%20%20%20%20%20%20%20%20%20%20%0A%0A%20%20%20%20%20%20%20%20%20%20%20%20circle_marker_da7db5941e7c4c58a31e9bcf3fb7293c.bindPopup%28popup_3131f68a83994069ba0f2a9ce46fa9fd%29%0A%20%20%20%20%20%20%20%20%20%20%20%20%3B%0A%0A%20%20%20%20%20%20%20%20%20%20%20%20%0A%20%20%20%20%20%20%20%20%0A%20%20%20%20%0A%20%20%20%20%20%20%20%20%20%20%20%20var%20circle_marker_cbf0c1dce92b4e008b2630159632e137%20%3D%20L.circleMarker%28%0A%20%20%20%20%20%20%20%20%20%20%20%20%20%20%20%20%5B12.925806523905111%2C%2077.56402306251381%5D%2C%0A%20%20%20%20%20%20%20%20%20%20%20%20%20%20%20%20%7B%0A%20%20%22bubblingMouseEvents%22%3A%20true%2C%0A%20%20%22color%22%3A%20%22blue%22%2C%0A%20%20%22dashArray%22%3A%20null%2C%0A%20%20%22dashOffset%22%3A%20null%2C%0A%20%20%22fill%22%3A%20true%2C%0A%20%20%22fillColor%22%3A%20%22%233186cc%22%2C%0A%20%20%22fillOpacity%22%3A%200.7%2C%0A%20%20%22fillRule%22%3A%20%22evenodd%22%2C%0A%20%20%22lineCap%22%3A%20%22round%22%2C%0A%20%20%22lineJoin%22%3A%20%22round%22%2C%0A%20%20%22opacity%22%3A%201.0%2C%0A%20%20%22radius%22%3A%205%2C%0A%20%20%22stroke%22%3A%20true%2C%0A%20%20%22weight%22%3A%203%0A%7D%0A%20%20%20%20%20%20%20%20%20%20%20%20%20%20%20%20%29%0A%20%20%20%20%20%20%20%20%20%20%20%20%20%20%20%20.addTo%28map_4f83ec28c3644a08b81ee7ae2f35e559%29%3B%0A%20%20%20%20%20%20%20%20%20%20%20%20%0A%20%20%20%20%0A%20%20%20%20%20%20%20%20%20%20%20%20var%20popup_00b45e95e40f4f478bc2fbe192e32f7e%20%3D%20L.popup%28%7BmaxWidth%3A%20%27100%25%27%0A%20%20%20%20%20%20%20%20%20%20%20%20%0A%20%20%20%20%20%20%20%20%20%20%20%20%7D%29%3B%0A%0A%20%20%20%20%20%20%20%20%20%20%20%20%0A%20%20%20%20%20%20%20%20%20%20%20%20%20%20%20%20var%20html_4e1a659572ea43a9b0172df8c69142c7%20%3D%20%24%28%60%3Cdiv%20id%3D%22html_4e1a659572ea43a9b0172df8c69142c7%22%20style%3D%22width%3A%20100.0%25%3B%20height%3A%20100.0%25%3B%22%3EJ%20Cubez%2CPub%3C/div%3E%60%29%5B0%5D%3B%0A%20%20%20%20%20%20%20%20%20%20%20%20%20%20%20%20popup_00b45e95e40f4f478bc2fbe192e32f7e.setContent%28html_4e1a659572ea43a9b0172df8c69142c7%29%3B%0A%20%20%20%20%20%20%20%20%20%20%20%20%0A%0A%20%20%20%20%20%20%20%20%20%20%20%20circle_marker_cbf0c1dce92b4e008b2630159632e137.bindPopup%28popup_00b45e95e40f4f478bc2fbe192e32f7e%29%0A%20%20%20%20%20%20%20%20%20%20%20%20%3B%0A%0A%20%20%20%20%20%20%20%20%20%20%20%20%0A%20%20%20%20%20%20%20%20%0A%20%20%20%20%0A%20%20%20%20%20%20%20%20%20%20%20%20var%20circle_marker_65ba683d1058413b8a8fc6a4681cd0eb%20%3D%20L.circleMarker%28%0A%20%20%20%20%20%20%20%20%20%20%20%20%20%20%20%20%5B12.991019001510596%2C%2077.72318957910197%5D%2C%0A%20%20%20%20%20%20%20%20%20%20%20%20%20%20%20%20%7B%0A%20%20%22bubblingMouseEvents%22%3A%20true%2C%0A%20%20%22color%22%3A%20%22blue%22%2C%0A%20%20%22dashArray%22%3A%20null%2C%0A%20%20%22dashOffset%22%3A%20null%2C%0A%20%20%22fill%22%3A%20true%2C%0A%20%20%22fillColor%22%3A%20%22%233186cc%22%2C%0A%20%20%22fillOpacity%22%3A%200.7%2C%0A%20%20%22fillRule%22%3A%20%22evenodd%22%2C%0A%20%20%22lineCap%22%3A%20%22round%22%2C%0A%20%20%22lineJoin%22%3A%20%22round%22%2C%0A%20%20%22opacity%22%3A%201.0%2C%0A%20%20%22radius%22%3A%205%2C%0A%20%20%22stroke%22%3A%20true%2C%0A%20%20%22weight%22%3A%203%0A%7D%0A%20%20%20%20%20%20%20%20%20%20%20%20%20%20%20%20%29%0A%20%20%20%20%20%20%20%20%20%20%20%20%20%20%20%20.addTo%28map_4f83ec28c3644a08b81ee7ae2f35e559%29%3B%0A%20%20%20%20%20%20%20%20%20%20%20%20%0A%20%20%20%20%0A%20%20%20%20%20%20%20%20%20%20%20%20var%20popup_31749f8efd67458fb45448f1ee6c2c6d%20%3D%20L.popup%28%7BmaxWidth%3A%20%27100%25%27%0A%20%20%20%20%20%20%20%20%20%20%20%20%0A%20%20%20%20%20%20%20%20%20%20%20%20%7D%29%3B%0A%0A%20%20%20%20%20%20%20%20%20%20%20%20%0A%20%20%20%20%20%20%20%20%20%20%20%20%20%20%20%20var%20html_170189a9591943e9af50894ee137ccc7%20%3D%20%24%28%60%3Cdiv%20id%3D%22html_170189a9591943e9af50894ee137ccc7%22%20style%3D%22width%3A%20100.0%25%3B%20height%3A%20100.0%25%3B%22%3EThe%20Pallet%20-%20Brewhouse%20%26amp%3B%20Kitchen%2CBrewery%3C/div%3E%60%29%5B0%5D%3B%0A%20%20%20%20%20%20%20%20%20%20%20%20%20%20%20%20popup_31749f8efd67458fb45448f1ee6c2c6d.setContent%28html_170189a9591943e9af50894ee137ccc7%29%3B%0A%20%20%20%20%20%20%20%20%20%20%20%20%0A%0A%20%20%20%20%20%20%20%20%20%20%20%20circle_marker_65ba683d1058413b8a8fc6a4681cd0eb.bindPopup%28popup_31749f8efd67458fb45448f1ee6c2c6d%29%0A%20%20%20%20%20%20%20%20%20%20%20%20%3B%0A%0A%20%20%20%20%20%20%20%20%20%20%20%20%0A%20%20%20%20%20%20%20%20%0A%20%20%20%20%0A%20%20%20%20%20%20%20%20%20%20%20%20var%20circle_marker_0ec5634d0636443d96059325e2ce8885%20%3D%20L.circleMarker%28%0A%20%20%20%20%20%20%20%20%20%20%20%20%20%20%20%20%5B13.020464369291084%2C%2077.64316683813263%5D%2C%0A%20%20%20%20%20%20%20%20%20%20%20%20%20%20%20%20%7B%0A%20%20%22bubblingMouseEvents%22%3A%20true%2C%0A%20%20%22color%22%3A%20%22blue%22%2C%0A%20%20%22dashArray%22%3A%20null%2C%0A%20%20%22dashOffset%22%3A%20null%2C%0A%20%20%22fill%22%3A%20true%2C%0A%20%20%22fillColor%22%3A%20%22%233186cc%22%2C%0A%20%20%22fillOpacity%22%3A%200.7%2C%0A%20%20%22fillRule%22%3A%20%22evenodd%22%2C%0A%20%20%22lineCap%22%3A%20%22round%22%2C%0A%20%20%22lineJoin%22%3A%20%22round%22%2C%0A%20%20%22opacity%22%3A%201.0%2C%0A%20%20%22radius%22%3A%205%2C%0A%20%20%22stroke%22%3A%20true%2C%0A%20%20%22weight%22%3A%203%0A%7D%0A%20%20%20%20%20%20%20%20%20%20%20%20%20%20%20%20%29%0A%20%20%20%20%20%20%20%20%20%20%20%20%20%20%20%20.addTo%28map_4f83ec28c3644a08b81ee7ae2f35e559%29%3B%0A%20%20%20%20%20%20%20%20%20%20%20%20%0A%20%20%20%20%0A%20%20%20%20%20%20%20%20%20%20%20%20var%20popup_2dbc84d5ea41446eafd7e85f7bab217b%20%3D%20L.popup%28%7BmaxWidth%3A%20%27100%25%27%0A%20%20%20%20%20%20%20%20%20%20%20%20%0A%20%20%20%20%20%20%20%20%20%20%20%20%7D%29%3B%0A%0A%20%20%20%20%20%20%20%20%20%20%20%20%0A%20%20%20%20%20%20%20%20%20%20%20%20%20%20%20%20var%20html_d30f5e1869714ec3af1e6a82c9df6fb0%20%3D%20%24%28%60%3Cdiv%20id%3D%22html_d30f5e1869714ec3af1e6a82c9df6fb0%22%20style%3D%22width%3A%20100.0%25%3B%20height%3A%20100.0%25%3B%22%3ERasta%20S02E01%2CLounge%3C/div%3E%60%29%5B0%5D%3B%0A%20%20%20%20%20%20%20%20%20%20%20%20%20%20%20%20popup_2dbc84d5ea41446eafd7e85f7bab217b.setContent%28html_d30f5e1869714ec3af1e6a82c9df6fb0%29%3B%0A%20%20%20%20%20%20%20%20%20%20%20%20%0A%0A%20%20%20%20%20%20%20%20%20%20%20%20circle_marker_0ec5634d0636443d96059325e2ce8885.bindPopup%28popup_2dbc84d5ea41446eafd7e85f7bab217b%29%0A%20%20%20%20%20%20%20%20%20%20%20%20%3B%0A%0A%20%20%20%20%20%20%20%20%20%20%20%20%0A%20%20%20%20%20%20%20%20%0A%20%20%20%20%0A%20%20%20%20%20%20%20%20%20%20%20%20var%20circle_marker_2b03ca71c6fd458d8905dfa0a1dc5acf%20%3D%20L.circleMarker%28%0A%20%20%20%20%20%20%20%20%20%20%20%20%20%20%20%20%5B12.937644409043696%2C%2077.62702167074663%5D%2C%0A%20%20%20%20%20%20%20%20%20%20%20%20%20%20%20%20%7B%0A%20%20%22bubblingMouseEvents%22%3A%20true%2C%0A%20%20%22color%22%3A%20%22blue%22%2C%0A%20%20%22dashArray%22%3A%20null%2C%0A%20%20%22dashOffset%22%3A%20null%2C%0A%20%20%22fill%22%3A%20true%2C%0A%20%20%22fillColor%22%3A%20%22%233186cc%22%2C%0A%20%20%22fillOpacity%22%3A%200.7%2C%0A%20%20%22fillRule%22%3A%20%22evenodd%22%2C%0A%20%20%22lineCap%22%3A%20%22round%22%2C%0A%20%20%22lineJoin%22%3A%20%22round%22%2C%0A%20%20%22opacity%22%3A%201.0%2C%0A%20%20%22radius%22%3A%205%2C%0A%20%20%22stroke%22%3A%20true%2C%0A%20%20%22weight%22%3A%203%0A%7D%0A%20%20%20%20%20%20%20%20%20%20%20%20%20%20%20%20%29%0A%20%20%20%20%20%20%20%20%20%20%20%20%20%20%20%20.addTo%28map_4f83ec28c3644a08b81ee7ae2f35e559%29%3B%0A%20%20%20%20%20%20%20%20%20%20%20%20%0A%20%20%20%20%0A%20%20%20%20%20%20%20%20%20%20%20%20var%20popup_c7ab5e2a648047c4a9b3d67c86f2be71%20%3D%20L.popup%28%7BmaxWidth%3A%20%27100%25%27%0A%20%20%20%20%20%20%20%20%20%20%20%20%0A%20%20%20%20%20%20%20%20%20%20%20%20%7D%29%3B%0A%0A%20%20%20%20%20%20%20%20%20%20%20%20%0A%20%20%20%20%20%20%20%20%20%20%20%20%20%20%20%20var%20html_47b6715373584b81ad88424d837baf5c%20%3D%20%24%28%60%3Cdiv%20id%3D%22html_47b6715373584b81ad88424d837baf5c%22%20style%3D%22width%3A%20100.0%25%3B%20height%3A%20100.0%25%3B%22%3EBarleyz%20-%20The%20Brew%20House%2CBeer%20Garden%3C/div%3E%60%29%5B0%5D%3B%0A%20%20%20%20%20%20%20%20%20%20%20%20%20%20%20%20popup_c7ab5e2a648047c4a9b3d67c86f2be71.setContent%28html_47b6715373584b81ad88424d837baf5c%29%3B%0A%20%20%20%20%20%20%20%20%20%20%20%20%0A%0A%20%20%20%20%20%20%20%20%20%20%20%20circle_marker_2b03ca71c6fd458d8905dfa0a1dc5acf.bindPopup%28popup_c7ab5e2a648047c4a9b3d67c86f2be71%29%0A%20%20%20%20%20%20%20%20%20%20%20%20%3B%0A%0A%20%20%20%20%20%20%20%20%20%20%20%20%0A%20%20%20%20%20%20%20%20%0A%20%20%20%20%0A%20%20%20%20%20%20%20%20%20%20%20%20var%20circle_marker_70564243d3be4658998122460a5fb849%20%3D%20L.circleMarker%28%0A%20%20%20%20%20%20%20%20%20%20%20%20%20%20%20%20%5B12.911460559791585%2C%2077.67631041711029%5D%2C%0A%20%20%20%20%20%20%20%20%20%20%20%20%20%20%20%20%7B%0A%20%20%22bubblingMouseEvents%22%3A%20true%2C%0A%20%20%22color%22%3A%20%22blue%22%2C%0A%20%20%22dashArray%22%3A%20null%2C%0A%20%20%22dashOffset%22%3A%20null%2C%0A%20%20%22fill%22%3A%20true%2C%0A%20%20%22fillColor%22%3A%20%22%233186cc%22%2C%0A%20%20%22fillOpacity%22%3A%200.7%2C%0A%20%20%22fillRule%22%3A%20%22evenodd%22%2C%0A%20%20%22lineCap%22%3A%20%22round%22%2C%0A%20%20%22lineJoin%22%3A%20%22round%22%2C%0A%20%20%22opacity%22%3A%201.0%2C%0A%20%20%22radius%22%3A%205%2C%0A%20%20%22stroke%22%3A%20true%2C%0A%20%20%22weight%22%3A%203%0A%7D%0A%20%20%20%20%20%20%20%20%20%20%20%20%20%20%20%20%29%0A%20%20%20%20%20%20%20%20%20%20%20%20%20%20%20%20.addTo%28map_4f83ec28c3644a08b81ee7ae2f35e559%29%3B%0A%20%20%20%20%20%20%20%20%20%20%20%20%0A%20%20%20%20%0A%20%20%20%20%20%20%20%20%20%20%20%20var%20popup_8eddedab7e444b9a83f3f1e6ab3e8851%20%3D%20L.popup%28%7BmaxWidth%3A%20%27100%25%27%0A%20%20%20%20%20%20%20%20%20%20%20%20%0A%20%20%20%20%20%20%20%20%20%20%20%20%7D%29%3B%0A%0A%20%20%20%20%20%20%20%20%20%20%20%20%0A%20%20%20%20%20%20%20%20%20%20%20%20%20%20%20%20var%20html_c168aeaa0a424136a552caf5d4139f2e%20%3D%20%24%28%60%3Cdiv%20id%3D%22html_c168aeaa0a424136a552caf5d4139f2e%22%20style%3D%22width%3A%20100.0%25%3B%20height%3A%20100.0%25%3B%22%3EExtreme%20Sports%20Bar%20%28Play%20Arena%29%2CSports%20Bar%3C/div%3E%60%29%5B0%5D%3B%0A%20%20%20%20%20%20%20%20%20%20%20%20%20%20%20%20popup_8eddedab7e444b9a83f3f1e6ab3e8851.setContent%28html_c168aeaa0a424136a552caf5d4139f2e%29%3B%0A%20%20%20%20%20%20%20%20%20%20%20%20%0A%0A%20%20%20%20%20%20%20%20%20%20%20%20circle_marker_70564243d3be4658998122460a5fb849.bindPopup%28popup_8eddedab7e444b9a83f3f1e6ab3e8851%29%0A%20%20%20%20%20%20%20%20%20%20%20%20%3B%0A%0A%20%20%20%20%20%20%20%20%20%20%20%20%0A%20%20%20%20%20%20%20%20%0A%20%20%20%20%0A%20%20%20%20%20%20%20%20%20%20%20%20var%20circle_marker_782d6a3027474ff686d1099e71131c5a%20%3D%20L.circleMarker%28%0A%20%20%20%20%20%20%20%20%20%20%20%20%20%20%20%20%5B12.99478378514896%2C%2077.6151336460519%5D%2C%0A%20%20%20%20%20%20%20%20%20%20%20%20%20%20%20%20%7B%0A%20%20%22bubblingMouseEvents%22%3A%20true%2C%0A%20%20%22color%22%3A%20%22blue%22%2C%0A%20%20%22dashArray%22%3A%20null%2C%0A%20%20%22dashOffset%22%3A%20null%2C%0A%20%20%22fill%22%3A%20true%2C%0A%20%20%22fillColor%22%3A%20%22%233186cc%22%2C%0A%20%20%22fillOpacity%22%3A%200.7%2C%0A%20%20%22fillRule%22%3A%20%22evenodd%22%2C%0A%20%20%22lineCap%22%3A%20%22round%22%2C%0A%20%20%22lineJoin%22%3A%20%22round%22%2C%0A%20%20%22opacity%22%3A%201.0%2C%0A%20%20%22radius%22%3A%205%2C%0A%20%20%22stroke%22%3A%20true%2C%0A%20%20%22weight%22%3A%203%0A%7D%0A%20%20%20%20%20%20%20%20%20%20%20%20%20%20%20%20%29%0A%20%20%20%20%20%20%20%20%20%20%20%20%20%20%20%20.addTo%28map_4f83ec28c3644a08b81ee7ae2f35e559%29%3B%0A%20%20%20%20%20%20%20%20%20%20%20%20%0A%20%20%20%20%0A%20%20%20%20%20%20%20%20%20%20%20%20var%20popup_2c9278822e2f41aaa2198217e2e9074c%20%3D%20L.popup%28%7BmaxWidth%3A%20%27100%25%27%0A%20%20%20%20%20%20%20%20%20%20%20%20%0A%20%20%20%20%20%20%20%20%20%20%20%20%7D%29%3B%0A%0A%20%20%20%20%20%20%20%20%20%20%20%20%0A%20%20%20%20%20%20%20%20%20%20%20%20%20%20%20%20var%20html_cae1fa98af5a4c5cae3606f8aecf2a25%20%3D%20%24%28%60%3Cdiv%20id%3D%22html_cae1fa98af5a4c5cae3606f8aecf2a25%22%20style%3D%22width%3A%20100.0%25%3B%20height%3A%20100.0%25%3B%22%3ESherlock%20Holmes%2CPub%3C/div%3E%60%29%5B0%5D%3B%0A%20%20%20%20%20%20%20%20%20%20%20%20%20%20%20%20popup_2c9278822e2f41aaa2198217e2e9074c.setContent%28html_cae1fa98af5a4c5cae3606f8aecf2a25%29%3B%0A%20%20%20%20%20%20%20%20%20%20%20%20%0A%0A%20%20%20%20%20%20%20%20%20%20%20%20circle_marker_782d6a3027474ff686d1099e71131c5a.bindPopup%28popup_2c9278822e2f41aaa2198217e2e9074c%29%0A%20%20%20%20%20%20%20%20%20%20%20%20%3B%0A%0A%20%20%20%20%20%20%20%20%20%20%20%20%0A%20%20%20%20%20%20%20%20%0A%20%20%20%20%0A%20%20%20%20%20%20%20%20%20%20%20%20var%20circle_marker_5b602af6dcf544b086e9d58135eccf59%20%3D%20L.circleMarker%28%0A%20%20%20%20%20%20%20%20%20%20%20%20%20%20%20%20%5B12.934601490664914%2C%2077.61593368344947%5D%2C%0A%20%20%20%20%20%20%20%20%20%20%20%20%20%20%20%20%7B%0A%20%20%22bubblingMouseEvents%22%3A%20true%2C%0A%20%20%22color%22%3A%20%22blue%22%2C%0A%20%20%22dashArray%22%3A%20null%2C%0A%20%20%22dashOffset%22%3A%20null%2C%0A%20%20%22fill%22%3A%20true%2C%0A%20%20%22fillColor%22%3A%20%22%233186cc%22%2C%0A%20%20%22fillOpacity%22%3A%200.7%2C%0A%20%20%22fillRule%22%3A%20%22evenodd%22%2C%0A%20%20%22lineCap%22%3A%20%22round%22%2C%0A%20%20%22lineJoin%22%3A%20%22round%22%2C%0A%20%20%22opacity%22%3A%201.0%2C%0A%20%20%22radius%22%3A%205%2C%0A%20%20%22stroke%22%3A%20true%2C%0A%20%20%22weight%22%3A%203%0A%7D%0A%20%20%20%20%20%20%20%20%20%20%20%20%20%20%20%20%29%0A%20%20%20%20%20%20%20%20%20%20%20%20%20%20%20%20.addTo%28map_4f83ec28c3644a08b81ee7ae2f35e559%29%3B%0A%20%20%20%20%20%20%20%20%20%20%20%20%0A%20%20%20%20%0A%20%20%20%20%20%20%20%20%20%20%20%20var%20popup_f74e6b6473f4435e8d5d2663df088a5a%20%3D%20L.popup%28%7BmaxWidth%3A%20%27100%25%27%0A%20%20%20%20%20%20%20%20%20%20%20%20%0A%20%20%20%20%20%20%20%20%20%20%20%20%7D%29%3B%0A%0A%20%20%20%20%20%20%20%20%20%20%20%20%0A%20%20%20%20%20%20%20%20%20%20%20%20%20%20%20%20var%20html_abe9e83cac6943bdb33e2c4e4a38fffc%20%3D%20%24%28%60%3Cdiv%20id%3D%22html_abe9e83cac6943bdb33e2c4e4a38fffc%22%20style%3D%22width%3A%20100.0%25%3B%20height%3A%20100.0%25%3B%22%3EHungry%20Hippie%2CHookah%20Bar%3C/div%3E%60%29%5B0%5D%3B%0A%20%20%20%20%20%20%20%20%20%20%20%20%20%20%20%20popup_f74e6b6473f4435e8d5d2663df088a5a.setContent%28html_abe9e83cac6943bdb33e2c4e4a38fffc%29%3B%0A%20%20%20%20%20%20%20%20%20%20%20%20%0A%0A%20%20%20%20%20%20%20%20%20%20%20%20circle_marker_5b602af6dcf544b086e9d58135eccf59.bindPopup%28popup_f74e6b6473f4435e8d5d2663df088a5a%29%0A%20%20%20%20%20%20%20%20%20%20%20%20%3B%0A%0A%20%20%20%20%20%20%20%20%20%20%20%20%0A%20%20%20%20%20%20%20%20%0A%20%20%20%20%0A%20%20%20%20%20%20%20%20%20%20%20%20var%20circle_marker_dc04cad0add54e4db3fc8f16e8e1122c%20%3D%20L.circleMarker%28%0A%20%20%20%20%20%20%20%20%20%20%20%20%20%20%20%20%5B12.991907599378855%2C%2077.5822964188521%5D%2C%0A%20%20%20%20%20%20%20%20%20%20%20%20%20%20%20%20%7B%0A%20%20%22bubblingMouseEvents%22%3A%20true%2C%0A%20%20%22color%22%3A%20%22blue%22%2C%0A%20%20%22dashArray%22%3A%20null%2C%0A%20%20%22dashOffset%22%3A%20null%2C%0A%20%20%22fill%22%3A%20true%2C%0A%20%20%22fillColor%22%3A%20%22%233186cc%22%2C%0A%20%20%22fillOpacity%22%3A%200.7%2C%0A%20%20%22fillRule%22%3A%20%22evenodd%22%2C%0A%20%20%22lineCap%22%3A%20%22round%22%2C%0A%20%20%22lineJoin%22%3A%20%22round%22%2C%0A%20%20%22opacity%22%3A%201.0%2C%0A%20%20%22radius%22%3A%205%2C%0A%20%20%22stroke%22%3A%20true%2C%0A%20%20%22weight%22%3A%203%0A%7D%0A%20%20%20%20%20%20%20%20%20%20%20%20%20%20%20%20%29%0A%20%20%20%20%20%20%20%20%20%20%20%20%20%20%20%20.addTo%28map_4f83ec28c3644a08b81ee7ae2f35e559%29%3B%0A%20%20%20%20%20%20%20%20%20%20%20%20%0A%20%20%20%20%0A%20%20%20%20%20%20%20%20%20%20%20%20var%20popup_db61bdd4b6724f279e44a380ddf0bbce%20%3D%20L.popup%28%7BmaxWidth%3A%20%27100%25%27%0A%20%20%20%20%20%20%20%20%20%20%20%20%0A%20%20%20%20%20%20%20%20%20%20%20%20%7D%29%3B%0A%0A%20%20%20%20%20%20%20%20%20%20%20%20%0A%20%20%20%20%20%20%20%20%20%20%20%20%20%20%20%20var%20html_b217a4a5d87440f2a6cf96e99a7ab9dc%20%3D%20%24%28%60%3Cdiv%20id%3D%22html_b217a4a5d87440f2a6cf96e99a7ab9dc%22%20style%3D%22width%3A%20100.0%25%3B%20height%3A%20100.0%25%3B%22%3ESutra%2CLounge%3C/div%3E%60%29%5B0%5D%3B%0A%20%20%20%20%20%20%20%20%20%20%20%20%20%20%20%20popup_db61bdd4b6724f279e44a380ddf0bbce.setContent%28html_b217a4a5d87440f2a6cf96e99a7ab9dc%29%3B%0A%20%20%20%20%20%20%20%20%20%20%20%20%0A%0A%20%20%20%20%20%20%20%20%20%20%20%20circle_marker_dc04cad0add54e4db3fc8f16e8e1122c.bindPopup%28popup_db61bdd4b6724f279e44a380ddf0bbce%29%0A%20%20%20%20%20%20%20%20%20%20%20%20%3B%0A%0A%20%20%20%20%20%20%20%20%20%20%20%20%0A%20%20%20%20%20%20%20%20%0A%20%20%20%20%0A%20%20%20%20%20%20%20%20%20%20%20%20var%20circle_marker_16cdf0fa5291400c95b357615e28437a%20%3D%20L.circleMarker%28%0A%20%20%20%20%20%20%20%20%20%20%20%20%20%20%20%20%5B12.94082272510145%2C%2077.62441840218301%5D%2C%0A%20%20%20%20%20%20%20%20%20%20%20%20%20%20%20%20%7B%0A%20%20%22bubblingMouseEvents%22%3A%20true%2C%0A%20%20%22color%22%3A%20%22blue%22%2C%0A%20%20%22dashArray%22%3A%20null%2C%0A%20%20%22dashOffset%22%3A%20null%2C%0A%20%20%22fill%22%3A%20true%2C%0A%20%20%22fillColor%22%3A%20%22%233186cc%22%2C%0A%20%20%22fillOpacity%22%3A%200.7%2C%0A%20%20%22fillRule%22%3A%20%22evenodd%22%2C%0A%20%20%22lineCap%22%3A%20%22round%22%2C%0A%20%20%22lineJoin%22%3A%20%22round%22%2C%0A%20%20%22opacity%22%3A%201.0%2C%0A%20%20%22radius%22%3A%205%2C%0A%20%20%22stroke%22%3A%20true%2C%0A%20%20%22weight%22%3A%203%0A%7D%0A%20%20%20%20%20%20%20%20%20%20%20%20%20%20%20%20%29%0A%20%20%20%20%20%20%20%20%20%20%20%20%20%20%20%20.addTo%28map_4f83ec28c3644a08b81ee7ae2f35e559%29%3B%0A%20%20%20%20%20%20%20%20%20%20%20%20%0A%20%20%20%20%0A%20%20%20%20%20%20%20%20%20%20%20%20var%20popup_20a10f67db0a4f7a82eb9264ae9533d3%20%3D%20L.popup%28%7BmaxWidth%3A%20%27100%25%27%0A%20%20%20%20%20%20%20%20%20%20%20%20%0A%20%20%20%20%20%20%20%20%20%20%20%20%7D%29%3B%0A%0A%20%20%20%20%20%20%20%20%20%20%20%20%0A%20%20%20%20%20%20%20%20%20%20%20%20%20%20%20%20var%20html_b4413df780e347c091a2d476e3882e20%20%3D%20%24%28%60%3Cdiv%20id%3D%22html_b4413df780e347c091a2d476e3882e20%22%20style%3D%22width%3A%20100.0%25%3B%20height%3A%20100.0%25%3B%22%3EJimis%20Beer%20Cafe%2CBeer%20Garden%3C/div%3E%60%29%5B0%5D%3B%0A%20%20%20%20%20%20%20%20%20%20%20%20%20%20%20%20popup_20a10f67db0a4f7a82eb9264ae9533d3.setContent%28html_b4413df780e347c091a2d476e3882e20%29%3B%0A%20%20%20%20%20%20%20%20%20%20%20%20%0A%0A%20%20%20%20%20%20%20%20%20%20%20%20circle_marker_16cdf0fa5291400c95b357615e28437a.bindPopup%28popup_20a10f67db0a4f7a82eb9264ae9533d3%29%0A%20%20%20%20%20%20%20%20%20%20%20%20%3B%0A%0A%20%20%20%20%20%20%20%20%20%20%20%20%0A%20%20%20%20%20%20%20%20%0A%20%20%20%20%0A%20%20%20%20%20%20%20%20%20%20%20%20var%20circle_marker_92305f8213344ff9bd09ddfb155d230e%20%3D%20L.circleMarker%28%0A%20%20%20%20%20%20%20%20%20%20%20%20%20%20%20%20%5B12.934193313970827%2C%2077.62364843581581%5D%2C%0A%20%20%20%20%20%20%20%20%20%20%20%20%20%20%20%20%7B%0A%20%20%22bubblingMouseEvents%22%3A%20true%2C%0A%20%20%22color%22%3A%20%22blue%22%2C%0A%20%20%22dashArray%22%3A%20null%2C%0A%20%20%22dashOffset%22%3A%20null%2C%0A%20%20%22fill%22%3A%20true%2C%0A%20%20%22fillColor%22%3A%20%22%233186cc%22%2C%0A%20%20%22fillOpacity%22%3A%200.7%2C%0A%20%20%22fillRule%22%3A%20%22evenodd%22%2C%0A%20%20%22lineCap%22%3A%20%22round%22%2C%0A%20%20%22lineJoin%22%3A%20%22round%22%2C%0A%20%20%22opacity%22%3A%201.0%2C%0A%20%20%22radius%22%3A%205%2C%0A%20%20%22stroke%22%3A%20true%2C%0A%20%20%22weight%22%3A%203%0A%7D%0A%20%20%20%20%20%20%20%20%20%20%20%20%20%20%20%20%29%0A%20%20%20%20%20%20%20%20%20%20%20%20%20%20%20%20.addTo%28map_4f83ec28c3644a08b81ee7ae2f35e559%29%3B%0A%20%20%20%20%20%20%20%20%20%20%20%20%0A%20%20%20%20%0A%20%20%20%20%20%20%20%20%20%20%20%20var%20popup_3ee9d668b79e4e3e9c9b533f9614c7c5%20%3D%20L.popup%28%7BmaxWidth%3A%20%27100%25%27%0A%20%20%20%20%20%20%20%20%20%20%20%20%0A%20%20%20%20%20%20%20%20%20%20%20%20%7D%29%3B%0A%0A%20%20%20%20%20%20%20%20%20%20%20%20%0A%20%20%20%20%20%20%20%20%20%20%20%20%20%20%20%20var%20html_18e0fdc8a5184128989cc6614c98b667%20%3D%20%24%28%60%3Cdiv%20id%3D%22html_18e0fdc8a5184128989cc6614c98b667%22%20style%3D%22width%3A%20100.0%25%3B%20height%3A%20100.0%25%3B%22%3EEnigma%20-%20The%20Pub%2CPub%3C/div%3E%60%29%5B0%5D%3B%0A%20%20%20%20%20%20%20%20%20%20%20%20%20%20%20%20popup_3ee9d668b79e4e3e9c9b533f9614c7c5.setContent%28html_18e0fdc8a5184128989cc6614c98b667%29%3B%0A%20%20%20%20%20%20%20%20%20%20%20%20%0A%0A%20%20%20%20%20%20%20%20%20%20%20%20circle_marker_92305f8213344ff9bd09ddfb155d230e.bindPopup%28popup_3ee9d668b79e4e3e9c9b533f9614c7c5%29%0A%20%20%20%20%20%20%20%20%20%20%20%20%3B%0A%0A%20%20%20%20%20%20%20%20%20%20%20%20%0A%20%20%20%20%20%20%20%20%0A%20%20%20%20%0A%20%20%20%20%20%20%20%20%20%20%20%20var%20circle_marker_96212fd5de2b41cfb67e20715da35201%20%3D%20L.circleMarker%28%0A%20%20%20%20%20%20%20%20%20%20%20%20%20%20%20%20%5B12.810227768838917%2C%2077.40294437496712%5D%2C%0A%20%20%20%20%20%20%20%20%20%20%20%20%20%20%20%20%7B%0A%20%20%22bubblingMouseEvents%22%3A%20true%2C%0A%20%20%22color%22%3A%20%22blue%22%2C%0A%20%20%22dashArray%22%3A%20null%2C%0A%20%20%22dashOffset%22%3A%20null%2C%0A%20%20%22fill%22%3A%20true%2C%0A%20%20%22fillColor%22%3A%20%22%233186cc%22%2C%0A%20%20%22fillOpacity%22%3A%200.7%2C%0A%20%20%22fillRule%22%3A%20%22evenodd%22%2C%0A%20%20%22lineCap%22%3A%20%22round%22%2C%0A%20%20%22lineJoin%22%3A%20%22round%22%2C%0A%20%20%22opacity%22%3A%201.0%2C%0A%20%20%22radius%22%3A%205%2C%0A%20%20%22stroke%22%3A%20true%2C%0A%20%20%22weight%22%3A%203%0A%7D%0A%20%20%20%20%20%20%20%20%20%20%20%20%20%20%20%20%29%0A%20%20%20%20%20%20%20%20%20%20%20%20%20%20%20%20.addTo%28map_4f83ec28c3644a08b81ee7ae2f35e559%29%3B%0A%20%20%20%20%20%20%20%20%20%20%20%20%0A%20%20%20%20%0A%20%20%20%20%20%20%20%20%20%20%20%20var%20popup_8744a9656c1445ac96678e44c21fbfaa%20%3D%20L.popup%28%7BmaxWidth%3A%20%27100%25%27%0A%20%20%20%20%20%20%20%20%20%20%20%20%0A%20%20%20%20%20%20%20%20%20%20%20%20%7D%29%3B%0A%0A%20%20%20%20%20%20%20%20%20%20%20%20%0A%20%20%20%20%20%20%20%20%20%20%20%20%20%20%20%20var%20html_d797a354e8c74b34aa75a63aacd3d4cd%20%3D%20%24%28%60%3Cdiv%20id%3D%22html_d797a354e8c74b34aa75a63aacd3d4cd%22%20style%3D%22width%3A%20100.0%25%3B%20height%3A%20100.0%25%3B%22%3ESH%2017%20Restaurant%2CCaf%C3%A9%3C/div%3E%60%29%5B0%5D%3B%0A%20%20%20%20%20%20%20%20%20%20%20%20%20%20%20%20popup_8744a9656c1445ac96678e44c21fbfaa.setContent%28html_d797a354e8c74b34aa75a63aacd3d4cd%29%3B%0A%20%20%20%20%20%20%20%20%20%20%20%20%0A%0A%20%20%20%20%20%20%20%20%20%20%20%20circle_marker_96212fd5de2b41cfb67e20715da35201.bindPopup%28popup_8744a9656c1445ac96678e44c21fbfaa%29%0A%20%20%20%20%20%20%20%20%20%20%20%20%3B%0A%0A%20%20%20%20%20%20%20%20%20%20%20%20%0A%20%20%20%20%20%20%20%20%0A%20%20%20%20%0A%20%20%20%20%20%20%20%20%20%20%20%20var%20circle_marker_d87cb8817ca84320a9ce3df9ca85b6ed%20%3D%20L.circleMarker%28%0A%20%20%20%20%20%20%20%20%20%20%20%20%20%20%20%20%5B12.940829838856931%2C%2077.62445461983086%5D%2C%0A%20%20%20%20%20%20%20%20%20%20%20%20%20%20%20%20%7B%0A%20%20%22bubblingMouseEvents%22%3A%20true%2C%0A%20%20%22color%22%3A%20%22blue%22%2C%0A%20%20%22dashArray%22%3A%20null%2C%0A%20%20%22dashOffset%22%3A%20null%2C%0A%20%20%22fill%22%3A%20true%2C%0A%20%20%22fillColor%22%3A%20%22%233186cc%22%2C%0A%20%20%22fillOpacity%22%3A%200.7%2C%0A%20%20%22fillRule%22%3A%20%22evenodd%22%2C%0A%20%20%22lineCap%22%3A%20%22round%22%2C%0A%20%20%22lineJoin%22%3A%20%22round%22%2C%0A%20%20%22opacity%22%3A%201.0%2C%0A%20%20%22radius%22%3A%205%2C%0A%20%20%22stroke%22%3A%20true%2C%0A%20%20%22weight%22%3A%203%0A%7D%0A%20%20%20%20%20%20%20%20%20%20%20%20%20%20%20%20%29%0A%20%20%20%20%20%20%20%20%20%20%20%20%20%20%20%20.addTo%28map_4f83ec28c3644a08b81ee7ae2f35e559%29%3B%0A%20%20%20%20%20%20%20%20%20%20%20%20%0A%20%20%20%20%0A%20%20%20%20%20%20%20%20%20%20%20%20var%20popup_58511db5a14d4d46a948071b553d14aa%20%3D%20L.popup%28%7BmaxWidth%3A%20%27100%25%27%0A%20%20%20%20%20%20%20%20%20%20%20%20%0A%20%20%20%20%20%20%20%20%20%20%20%20%7D%29%3B%0A%0A%20%20%20%20%20%20%20%20%20%20%20%20%0A%20%20%20%20%20%20%20%20%20%20%20%20%20%20%20%20var%20html_afb20161cc8247bcb3d4f0e90449cc0b%20%3D%20%24%28%60%3Cdiv%20id%3D%22html_afb20161cc8247bcb3d4f0e90449cc0b%22%20style%3D%22width%3A%20100.0%25%3B%20height%3A%20100.0%25%3B%22%3EThe%20Local%20-%20Terrace%20Drinkery%2CBar%3C/div%3E%60%29%5B0%5D%3B%0A%20%20%20%20%20%20%20%20%20%20%20%20%20%20%20%20popup_58511db5a14d4d46a948071b553d14aa.setContent%28html_afb20161cc8247bcb3d4f0e90449cc0b%29%3B%0A%20%20%20%20%20%20%20%20%20%20%20%20%0A%0A%20%20%20%20%20%20%20%20%20%20%20%20circle_marker_d87cb8817ca84320a9ce3df9ca85b6ed.bindPopup%28popup_58511db5a14d4d46a948071b553d14aa%29%0A%20%20%20%20%20%20%20%20%20%20%20%20%3B%0A%0A%20%20%20%20%20%20%20%20%20%20%20%20%0A%20%20%20%20%20%20%20%20%0A%20%20%20%20%0A%20%20%20%20%20%20%20%20%20%20%20%20var%20circle_marker_47c58f10b82c41fbae49d2752d4b5108%20%3D%20L.circleMarker%28%0A%20%20%20%20%20%20%20%20%20%20%20%20%20%20%20%20%5B12.923387357940952%2C%2077.58535334094385%5D%2C%0A%20%20%20%20%20%20%20%20%20%20%20%20%20%20%20%20%7B%0A%20%20%22bubblingMouseEvents%22%3A%20true%2C%0A%20%20%22color%22%3A%20%22blue%22%2C%0A%20%20%22dashArray%22%3A%20null%2C%0A%20%20%22dashOffset%22%3A%20null%2C%0A%20%20%22fill%22%3A%20true%2C%0A%20%20%22fillColor%22%3A%20%22%233186cc%22%2C%0A%20%20%22fillOpacity%22%3A%200.7%2C%0A%20%20%22fillRule%22%3A%20%22evenodd%22%2C%0A%20%20%22lineCap%22%3A%20%22round%22%2C%0A%20%20%22lineJoin%22%3A%20%22round%22%2C%0A%20%20%22opacity%22%3A%201.0%2C%0A%20%20%22radius%22%3A%205%2C%0A%20%20%22stroke%22%3A%20true%2C%0A%20%20%22weight%22%3A%203%0A%7D%0A%20%20%20%20%20%20%20%20%20%20%20%20%20%20%20%20%29%0A%20%20%20%20%20%20%20%20%20%20%20%20%20%20%20%20.addTo%28map_4f83ec28c3644a08b81ee7ae2f35e559%29%3B%0A%20%20%20%20%20%20%20%20%20%20%20%20%0A%20%20%20%20%0A%20%20%20%20%20%20%20%20%20%20%20%20var%20popup_9e9bf01a54234dd98e76e4809abc8087%20%3D%20L.popup%28%7BmaxWidth%3A%20%27100%25%27%0A%20%20%20%20%20%20%20%20%20%20%20%20%0A%20%20%20%20%20%20%20%20%20%20%20%20%7D%29%3B%0A%0A%20%20%20%20%20%20%20%20%20%20%20%20%0A%20%20%20%20%20%20%20%20%20%20%20%20%20%20%20%20var%20html_21fc114496094c4ca07e45d048f8bc40%20%3D%20%24%28%60%3Cdiv%20id%3D%22html_21fc114496094c4ca07e45d048f8bc40%22%20style%3D%22width%3A%20100.0%25%3B%20height%3A%20100.0%25%3B%22%3EEden%20Park%20-%20The%20Lounge%2CLounge%3C/div%3E%60%29%5B0%5D%3B%0A%20%20%20%20%20%20%20%20%20%20%20%20%20%20%20%20popup_9e9bf01a54234dd98e76e4809abc8087.setContent%28html_21fc114496094c4ca07e45d048f8bc40%29%3B%0A%20%20%20%20%20%20%20%20%20%20%20%20%0A%0A%20%20%20%20%20%20%20%20%20%20%20%20circle_marker_47c58f10b82c41fbae49d2752d4b5108.bindPopup%28popup_9e9bf01a54234dd98e76e4809abc8087%29%0A%20%20%20%20%20%20%20%20%20%20%20%20%3B%0A%0A%20%20%20%20%20%20%20%20%20%20%20%20%0A%20%20%20%20%20%20%20%20%0A%20%20%20%20%0A%20%20%20%20%20%20%20%20%20%20%20%20var%20circle_marker_4b8fe4a7e9b24fc6b3f239c2815e7325%20%3D%20L.circleMarker%28%0A%20%20%20%20%20%20%20%20%20%20%20%20%20%20%20%20%5B12.934148240772732%2C%2077.62339561196282%5D%2C%0A%20%20%20%20%20%20%20%20%20%20%20%20%20%20%20%20%7B%0A%20%20%22bubblingMouseEvents%22%3A%20true%2C%0A%20%20%22color%22%3A%20%22blue%22%2C%0A%20%20%22dashArray%22%3A%20null%2C%0A%20%20%22dashOffset%22%3A%20null%2C%0A%20%20%22fill%22%3A%20true%2C%0A%20%20%22fillColor%22%3A%20%22%233186cc%22%2C%0A%20%20%22fillOpacity%22%3A%200.7%2C%0A%20%20%22fillRule%22%3A%20%22evenodd%22%2C%0A%20%20%22lineCap%22%3A%20%22round%22%2C%0A%20%20%22lineJoin%22%3A%20%22round%22%2C%0A%20%20%22opacity%22%3A%201.0%2C%0A%20%20%22radius%22%3A%205%2C%0A%20%20%22stroke%22%3A%20true%2C%0A%20%20%22weight%22%3A%203%0A%7D%0A%20%20%20%20%20%20%20%20%20%20%20%20%20%20%20%20%29%0A%20%20%20%20%20%20%20%20%20%20%20%20%20%20%20%20.addTo%28map_4f83ec28c3644a08b81ee7ae2f35e559%29%3B%0A%20%20%20%20%20%20%20%20%20%20%20%20%0A%20%20%20%20%0A%20%20%20%20%20%20%20%20%20%20%20%20var%20popup_0bdd7288e0284a8e9fb072acb07d38dc%20%3D%20L.popup%28%7BmaxWidth%3A%20%27100%25%27%0A%20%20%20%20%20%20%20%20%20%20%20%20%0A%20%20%20%20%20%20%20%20%20%20%20%20%7D%29%3B%0A%0A%20%20%20%20%20%20%20%20%20%20%20%20%0A%20%20%20%20%20%20%20%20%20%20%20%20%20%20%20%20var%20html_916f52edddd04cc5b738e798b46baa12%20%3D%20%24%28%60%3Cdiv%20id%3D%22html_916f52edddd04cc5b738e798b46baa12%22%20style%3D%22width%3A%20100.0%25%3B%20height%3A%20100.0%25%3B%22%3EBrooks%20And%20Bonds%2CBrewery%3C/div%3E%60%29%5B0%5D%3B%0A%20%20%20%20%20%20%20%20%20%20%20%20%20%20%20%20popup_0bdd7288e0284a8e9fb072acb07d38dc.setContent%28html_916f52edddd04cc5b738e798b46baa12%29%3B%0A%20%20%20%20%20%20%20%20%20%20%20%20%0A%0A%20%20%20%20%20%20%20%20%20%20%20%20circle_marker_4b8fe4a7e9b24fc6b3f239c2815e7325.bindPopup%28popup_0bdd7288e0284a8e9fb072acb07d38dc%29%0A%20%20%20%20%20%20%20%20%20%20%20%20%3B%0A%0A%20%20%20%20%20%20%20%20%20%20%20%20%0A%20%20%20%20%20%20%20%20%0A%20%20%20%20%0A%20%20%20%20%20%20%20%20%20%20%20%20var%20circle_marker_79257c1f562241f68ab2c5b2f8d7d041%20%3D%20L.circleMarker%28%0A%20%20%20%20%20%20%20%20%20%20%20%20%20%20%20%20%5B12.926405272791483%2C%2077.58467628044113%5D%2C%0A%20%20%20%20%20%20%20%20%20%20%20%20%20%20%20%20%7B%0A%20%20%22bubblingMouseEvents%22%3A%20true%2C%0A%20%20%22color%22%3A%20%22blue%22%2C%0A%20%20%22dashArray%22%3A%20null%2C%0A%20%20%22dashOffset%22%3A%20null%2C%0A%20%20%22fill%22%3A%20true%2C%0A%20%20%22fillColor%22%3A%20%22%233186cc%22%2C%0A%20%20%22fillOpacity%22%3A%200.7%2C%0A%20%20%22fillRule%22%3A%20%22evenodd%22%2C%0A%20%20%22lineCap%22%3A%20%22round%22%2C%0A%20%20%22lineJoin%22%3A%20%22round%22%2C%0A%20%20%22opacity%22%3A%201.0%2C%0A%20%20%22radius%22%3A%205%2C%0A%20%20%22stroke%22%3A%20true%2C%0A%20%20%22weight%22%3A%203%0A%7D%0A%20%20%20%20%20%20%20%20%20%20%20%20%20%20%20%20%29%0A%20%20%20%20%20%20%20%20%20%20%20%20%20%20%20%20.addTo%28map_4f83ec28c3644a08b81ee7ae2f35e559%29%3B%0A%20%20%20%20%20%20%20%20%20%20%20%20%0A%20%20%20%20%0A%20%20%20%20%20%20%20%20%20%20%20%20var%20popup_0f8cfe508a1c460f813137afe229014a%20%3D%20L.popup%28%7BmaxWidth%3A%20%27100%25%27%0A%20%20%20%20%20%20%20%20%20%20%20%20%0A%20%20%20%20%20%20%20%20%20%20%20%20%7D%29%3B%0A%0A%20%20%20%20%20%20%20%20%20%20%20%20%0A%20%20%20%20%20%20%20%20%20%20%20%20%20%20%20%20var%20html_fc37722e360d47bd8680aef70eb9deeb%20%3D%20%24%28%60%3Cdiv%20id%3D%22html_fc37722e360d47bd8680aef70eb9deeb%22%20style%3D%22width%3A%20100.0%25%3B%20height%3A%20100.0%25%3B%22%3EBrewmeister%2CBrewery%3C/div%3E%60%29%5B0%5D%3B%0A%20%20%20%20%20%20%20%20%20%20%20%20%20%20%20%20popup_0f8cfe508a1c460f813137afe229014a.setContent%28html_fc37722e360d47bd8680aef70eb9deeb%29%3B%0A%20%20%20%20%20%20%20%20%20%20%20%20%0A%0A%20%20%20%20%20%20%20%20%20%20%20%20circle_marker_79257c1f562241f68ab2c5b2f8d7d041.bindPopup%28popup_0f8cfe508a1c460f813137afe229014a%29%0A%20%20%20%20%20%20%20%20%20%20%20%20%3B%0A%0A%20%20%20%20%20%20%20%20%20%20%20%20%0A%20%20%20%20%20%20%20%20%0A%20%20%20%20%0A%20%20%20%20%20%20%20%20%20%20%20%20var%20circle_marker_41a9870f0f8b43f795b1c7bdb14eecd9%20%3D%20L.circleMarker%28%0A%20%20%20%20%20%20%20%20%20%20%20%20%20%20%20%20%5B12.915569204158189%2C%2077.5857175211511%5D%2C%0A%20%20%20%20%20%20%20%20%20%20%20%20%20%20%20%20%7B%0A%20%20%22bubblingMouseEvents%22%3A%20true%2C%0A%20%20%22color%22%3A%20%22blue%22%2C%0A%20%20%22dashArray%22%3A%20null%2C%0A%20%20%22dashOffset%22%3A%20null%2C%0A%20%20%22fill%22%3A%20true%2C%0A%20%20%22fillColor%22%3A%20%22%233186cc%22%2C%0A%20%20%22fillOpacity%22%3A%200.7%2C%0A%20%20%22fillRule%22%3A%20%22evenodd%22%2C%0A%20%20%22lineCap%22%3A%20%22round%22%2C%0A%20%20%22lineJoin%22%3A%20%22round%22%2C%0A%20%20%22opacity%22%3A%201.0%2C%0A%20%20%22radius%22%3A%205%2C%0A%20%20%22stroke%22%3A%20true%2C%0A%20%20%22weight%22%3A%203%0A%7D%0A%20%20%20%20%20%20%20%20%20%20%20%20%20%20%20%20%29%0A%20%20%20%20%20%20%20%20%20%20%20%20%20%20%20%20.addTo%28map_4f83ec28c3644a08b81ee7ae2f35e559%29%3B%0A%20%20%20%20%20%20%20%20%20%20%20%20%0A%20%20%20%20%0A%20%20%20%20%20%20%20%20%20%20%20%20var%20popup_929a3b6728474d6bb04ed1b2a7241783%20%3D%20L.popup%28%7BmaxWidth%3A%20%27100%25%27%0A%20%20%20%20%20%20%20%20%20%20%20%20%0A%20%20%20%20%20%20%20%20%20%20%20%20%7D%29%3B%0A%0A%20%20%20%20%20%20%20%20%20%20%20%20%0A%20%20%20%20%20%20%20%20%20%20%20%20%20%20%20%20var%20html_d10ea484700b4ad19887ba6ab6c88b45%20%3D%20%24%28%60%3Cdiv%20id%3D%22html_d10ea484700b4ad19887ba6ab6c88b45%22%20style%3D%22width%3A%20100.0%25%3B%20height%3A%20100.0%25%3B%22%3EMockaholic%20Restro%20Beer%20Cafe%2CBeer%20Garden%3C/div%3E%60%29%5B0%5D%3B%0A%20%20%20%20%20%20%20%20%20%20%20%20%20%20%20%20popup_929a3b6728474d6bb04ed1b2a7241783.setContent%28html_d10ea484700b4ad19887ba6ab6c88b45%29%3B%0A%20%20%20%20%20%20%20%20%20%20%20%20%0A%0A%20%20%20%20%20%20%20%20%20%20%20%20circle_marker_41a9870f0f8b43f795b1c7bdb14eecd9.bindPopup%28popup_929a3b6728474d6bb04ed1b2a7241783%29%0A%20%20%20%20%20%20%20%20%20%20%20%20%3B%0A%0A%20%20%20%20%20%20%20%20%20%20%20%20%0A%20%20%20%20%20%20%20%20%0A%20%20%20%20%0A%20%20%20%20%20%20%20%20%20%20%20%20var%20circle_marker_50f6e2df2f1e4b78a4ed91e2f256b9a8%20%3D%20L.circleMarker%28%0A%20%20%20%20%20%20%20%20%20%20%20%20%20%20%20%20%5B12.952691686440184%2C%2077.64019347742666%5D%2C%0A%20%20%20%20%20%20%20%20%20%20%20%20%20%20%20%20%7B%0A%20%20%22bubblingMouseEvents%22%3A%20true%2C%0A%20%20%22color%22%3A%20%22blue%22%2C%0A%20%20%22dashArray%22%3A%20null%2C%0A%20%20%22dashOffset%22%3A%20null%2C%0A%20%20%22fill%22%3A%20true%2C%0A%20%20%22fillColor%22%3A%20%22%233186cc%22%2C%0A%20%20%22fillOpacity%22%3A%200.7%2C%0A%20%20%22fillRule%22%3A%20%22evenodd%22%2C%0A%20%20%22lineCap%22%3A%20%22round%22%2C%0A%20%20%22lineJoin%22%3A%20%22round%22%2C%0A%20%20%22opacity%22%3A%201.0%2C%0A%20%20%22radius%22%3A%205%2C%0A%20%20%22stroke%22%3A%20true%2C%0A%20%20%22weight%22%3A%203%0A%7D%0A%20%20%20%20%20%20%20%20%20%20%20%20%20%20%20%20%29%0A%20%20%20%20%20%20%20%20%20%20%20%20%20%20%20%20.addTo%28map_4f83ec28c3644a08b81ee7ae2f35e559%29%3B%0A%20%20%20%20%20%20%20%20%20%20%20%20%0A%20%20%20%20%0A%20%20%20%20%20%20%20%20%20%20%20%20var%20popup_221fc7eef08147648ee56a13c711b8be%20%3D%20L.popup%28%7BmaxWidth%3A%20%27100%25%27%0A%20%20%20%20%20%20%20%20%20%20%20%20%0A%20%20%20%20%20%20%20%20%20%20%20%20%7D%29%3B%0A%0A%20%20%20%20%20%20%20%20%20%20%20%20%0A%20%20%20%20%20%20%20%20%20%20%20%20%20%20%20%20var%20html_fadcae6f6ac340738a41b508fd9ebf05%20%3D%20%24%28%60%3Cdiv%20id%3D%22html_fadcae6f6ac340738a41b508fd9ebf05%22%20style%3D%22width%3A%20100.0%25%3B%20height%3A%20100.0%25%3B%22%3ELoveshack%2CLounge%3C/div%3E%60%29%5B0%5D%3B%0A%20%20%20%20%20%20%20%20%20%20%20%20%20%20%20%20popup_221fc7eef08147648ee56a13c711b8be.setContent%28html_fadcae6f6ac340738a41b508fd9ebf05%29%3B%0A%20%20%20%20%20%20%20%20%20%20%20%20%0A%0A%20%20%20%20%20%20%20%20%20%20%20%20circle_marker_50f6e2df2f1e4b78a4ed91e2f256b9a8.bindPopup%28popup_221fc7eef08147648ee56a13c711b8be%29%0A%20%20%20%20%20%20%20%20%20%20%20%20%3B%0A%0A%20%20%20%20%20%20%20%20%20%20%20%20%0A%20%20%20%20%20%20%20%20%0A%20%20%20%20%0A%20%20%20%20%20%20%20%20%20%20%20%20var%20circle_marker_ca6bc0cc269a4cdf9e8b95faa88ddfdc%20%3D%20L.circleMarker%28%0A%20%20%20%20%20%20%20%20%20%20%20%20%20%20%20%20%5B12.932721635953861%2C%2077.6231126468059%5D%2C%0A%20%20%20%20%20%20%20%20%20%20%20%20%20%20%20%20%7B%0A%20%20%22bubblingMouseEvents%22%3A%20true%2C%0A%20%20%22color%22%3A%20%22blue%22%2C%0A%20%20%22dashArray%22%3A%20null%2C%0A%20%20%22dashOffset%22%3A%20null%2C%0A%20%20%22fill%22%3A%20true%2C%0A%20%20%22fillColor%22%3A%20%22%233186cc%22%2C%0A%20%20%22fillOpacity%22%3A%200.7%2C%0A%20%20%22fillRule%22%3A%20%22evenodd%22%2C%0A%20%20%22lineCap%22%3A%20%22round%22%2C%0A%20%20%22lineJoin%22%3A%20%22round%22%2C%0A%20%20%22opacity%22%3A%201.0%2C%0A%20%20%22radius%22%3A%205%2C%0A%20%20%22stroke%22%3A%20true%2C%0A%20%20%22weight%22%3A%203%0A%7D%0A%20%20%20%20%20%20%20%20%20%20%20%20%20%20%20%20%29%0A%20%20%20%20%20%20%20%20%20%20%20%20%20%20%20%20.addTo%28map_4f83ec28c3644a08b81ee7ae2f35e559%29%3B%0A%20%20%20%20%20%20%20%20%20%20%20%20%0A%20%20%20%20%0A%20%20%20%20%20%20%20%20%20%20%20%20var%20popup_dd5f5bd8612e4f5887e1fc07edc25a67%20%3D%20L.popup%28%7BmaxWidth%3A%20%27100%25%27%0A%20%20%20%20%20%20%20%20%20%20%20%20%0A%20%20%20%20%20%20%20%20%20%20%20%20%7D%29%3B%0A%0A%20%20%20%20%20%20%20%20%20%20%20%20%0A%20%20%20%20%20%20%20%20%20%20%20%20%20%20%20%20var%20html_ae79e1ac95c548139488414cfe4f05ef%20%3D%20%24%28%60%3Cdiv%20id%3D%22html_ae79e1ac95c548139488414cfe4f05ef%22%20style%3D%22width%3A%20100.0%25%3B%20height%3A%20100.0%25%3B%22%3ECafe%20Coffee%20Day%2CCoffee%20Shop%3C/div%3E%60%29%5B0%5D%3B%0A%20%20%20%20%20%20%20%20%20%20%20%20%20%20%20%20popup_dd5f5bd8612e4f5887e1fc07edc25a67.setContent%28html_ae79e1ac95c548139488414cfe4f05ef%29%3B%0A%20%20%20%20%20%20%20%20%20%20%20%20%0A%0A%20%20%20%20%20%20%20%20%20%20%20%20circle_marker_ca6bc0cc269a4cdf9e8b95faa88ddfdc.bindPopup%28popup_dd5f5bd8612e4f5887e1fc07edc25a67%29%0A%20%20%20%20%20%20%20%20%20%20%20%20%3B%0A%0A%20%20%20%20%20%20%20%20%20%20%20%20%0A%20%20%20%20%20%20%20%20%0A%20%20%20%20%0A%20%20%20%20%20%20%20%20%20%20%20%20var%20circle_marker_1e53b2b287124b608a0bad61f433587c%20%3D%20L.circleMarker%28%0A%20%20%20%20%20%20%20%20%20%20%20%20%20%20%20%20%5B12.932535928241%2C%2077.6138652592157%5D%2C%0A%20%20%20%20%20%20%20%20%20%20%20%20%20%20%20%20%7B%0A%20%20%22bubblingMouseEvents%22%3A%20true%2C%0A%20%20%22color%22%3A%20%22blue%22%2C%0A%20%20%22dashArray%22%3A%20null%2C%0A%20%20%22dashOffset%22%3A%20null%2C%0A%20%20%22fill%22%3A%20true%2C%0A%20%20%22fillColor%22%3A%20%22%233186cc%22%2C%0A%20%20%22fillOpacity%22%3A%200.7%2C%0A%20%20%22fillRule%22%3A%20%22evenodd%22%2C%0A%20%20%22lineCap%22%3A%20%22round%22%2C%0A%20%20%22lineJoin%22%3A%20%22round%22%2C%0A%20%20%22opacity%22%3A%201.0%2C%0A%20%20%22radius%22%3A%205%2C%0A%20%20%22stroke%22%3A%20true%2C%0A%20%20%22weight%22%3A%203%0A%7D%0A%20%20%20%20%20%20%20%20%20%20%20%20%20%20%20%20%29%0A%20%20%20%20%20%20%20%20%20%20%20%20%20%20%20%20.addTo%28map_4f83ec28c3644a08b81ee7ae2f35e559%29%3B%0A%20%20%20%20%20%20%20%20%20%20%20%20%0A%20%20%20%20%0A%20%20%20%20%20%20%20%20%20%20%20%20var%20popup_7e5d63233071404cbf50089e77a040b9%20%3D%20L.popup%28%7BmaxWidth%3A%20%27100%25%27%0A%20%20%20%20%20%20%20%20%20%20%20%20%0A%20%20%20%20%20%20%20%20%20%20%20%20%7D%29%3B%0A%0A%20%20%20%20%20%20%20%20%20%20%20%20%0A%20%20%20%20%20%20%20%20%20%20%20%20%20%20%20%20var%20html_07e335e6eb4f47e9b6372ade9dc67c5d%20%3D%20%24%28%60%3Cdiv%20id%3D%22html_07e335e6eb4f47e9b6372ade9dc67c5d%22%20style%3D%22width%3A%20100.0%25%3B%20height%3A%20100.0%25%3B%22%3EDug%20Out%20Sports%20Bar%2CSports%20Bar%3C/div%3E%60%29%5B0%5D%3B%0A%20%20%20%20%20%20%20%20%20%20%20%20%20%20%20%20popup_7e5d63233071404cbf50089e77a040b9.setContent%28html_07e335e6eb4f47e9b6372ade9dc67c5d%29%3B%0A%20%20%20%20%20%20%20%20%20%20%20%20%0A%0A%20%20%20%20%20%20%20%20%20%20%20%20circle_marker_1e53b2b287124b608a0bad61f433587c.bindPopup%28popup_7e5d63233071404cbf50089e77a040b9%29%0A%20%20%20%20%20%20%20%20%20%20%20%20%3B%0A%0A%20%20%20%20%20%20%20%20%20%20%20%20%0A%20%20%20%20%20%20%20%20%0A%20%20%20%20%0A%20%20%20%20%20%20%20%20%20%20%20%20var%20circle_marker_25aa2168396945adb1a972e88af75659%20%3D%20L.circleMarker%28%0A%20%20%20%20%20%20%20%20%20%20%20%20%20%20%20%20%5B12.979570877721429%2C%2077.69453015980629%5D%2C%0A%20%20%20%20%20%20%20%20%20%20%20%20%20%20%20%20%7B%0A%20%20%22bubblingMouseEvents%22%3A%20true%2C%0A%20%20%22color%22%3A%20%22blue%22%2C%0A%20%20%22dashArray%22%3A%20null%2C%0A%20%20%22dashOffset%22%3A%20null%2C%0A%20%20%22fill%22%3A%20true%2C%0A%20%20%22fillColor%22%3A%20%22%233186cc%22%2C%0A%20%20%22fillOpacity%22%3A%200.7%2C%0A%20%20%22fillRule%22%3A%20%22evenodd%22%2C%0A%20%20%22lineCap%22%3A%20%22round%22%2C%0A%20%20%22lineJoin%22%3A%20%22round%22%2C%0A%20%20%22opacity%22%3A%201.0%2C%0A%20%20%22radius%22%3A%205%2C%0A%20%20%22stroke%22%3A%20true%2C%0A%20%20%22weight%22%3A%203%0A%7D%0A%20%20%20%20%20%20%20%20%20%20%20%20%20%20%20%20%29%0A%20%20%20%20%20%20%20%20%20%20%20%20%20%20%20%20.addTo%28map_4f83ec28c3644a08b81ee7ae2f35e559%29%3B%0A%20%20%20%20%20%20%20%20%20%20%20%20%0A%20%20%20%20%0A%20%20%20%20%20%20%20%20%20%20%20%20var%20popup_8c4238620fe941d3b1c0872f36146131%20%3D%20L.popup%28%7BmaxWidth%3A%20%27100%25%27%0A%20%20%20%20%20%20%20%20%20%20%20%20%0A%20%20%20%20%20%20%20%20%20%20%20%20%7D%29%3B%0A%0A%20%20%20%20%20%20%20%20%20%20%20%20%0A%20%20%20%20%20%20%20%20%20%20%20%20%20%20%20%20var%20html_2059fa1f52494261bf9ba298da1de762%20%3D%20%24%28%60%3Cdiv%20id%3D%22html_2059fa1f52494261bf9ba298da1de762%22%20style%3D%22width%3A%20100.0%25%3B%20height%3A%20100.0%25%3B%22%3ESBX%20Sports%20%26amp%3B%20Music%20Cafe%2CSports%20Bar%3C/div%3E%60%29%5B0%5D%3B%0A%20%20%20%20%20%20%20%20%20%20%20%20%20%20%20%20popup_8c4238620fe941d3b1c0872f36146131.setContent%28html_2059fa1f52494261bf9ba298da1de762%29%3B%0A%20%20%20%20%20%20%20%20%20%20%20%20%0A%0A%20%20%20%20%20%20%20%20%20%20%20%20circle_marker_25aa2168396945adb1a972e88af75659.bindPopup%28popup_8c4238620fe941d3b1c0872f36146131%29%0A%20%20%20%20%20%20%20%20%20%20%20%20%3B%0A%0A%20%20%20%20%20%20%20%20%20%20%20%20%0A%20%20%20%20%20%20%20%20%0A%20%20%20%20%0A%20%20%20%20%20%20%20%20%20%20%20%20var%20circle_marker_81670607801c4f689ef1065afaf7cfde%20%3D%20L.circleMarker%28%0A%20%20%20%20%20%20%20%20%20%20%20%20%20%20%20%20%5B12.964522696319984%2C%2077.641648815942%5D%2C%0A%20%20%20%20%20%20%20%20%20%20%20%20%20%20%20%20%7B%0A%20%20%22bubblingMouseEvents%22%3A%20true%2C%0A%20%20%22color%22%3A%20%22blue%22%2C%0A%20%20%22dashArray%22%3A%20null%2C%0A%20%20%22dashOffset%22%3A%20null%2C%0A%20%20%22fill%22%3A%20true%2C%0A%20%20%22fillColor%22%3A%20%22%233186cc%22%2C%0A%20%20%22fillOpacity%22%3A%200.7%2C%0A%20%20%22fillRule%22%3A%20%22evenodd%22%2C%0A%20%20%22lineCap%22%3A%20%22round%22%2C%0A%20%20%22lineJoin%22%3A%20%22round%22%2C%0A%20%20%22opacity%22%3A%201.0%2C%0A%20%20%22radius%22%3A%205%2C%0A%20%20%22stroke%22%3A%20true%2C%0A%20%20%22weight%22%3A%203%0A%7D%0A%20%20%20%20%20%20%20%20%20%20%20%20%20%20%20%20%29%0A%20%20%20%20%20%20%20%20%20%20%20%20%20%20%20%20.addTo%28map_4f83ec28c3644a08b81ee7ae2f35e559%29%3B%0A%20%20%20%20%20%20%20%20%20%20%20%20%0A%20%20%20%20%0A%20%20%20%20%20%20%20%20%20%20%20%20var%20popup_91c5a8881cb34383bae159dad5375e42%20%3D%20L.popup%28%7BmaxWidth%3A%20%27100%25%27%0A%20%20%20%20%20%20%20%20%20%20%20%20%0A%20%20%20%20%20%20%20%20%20%20%20%20%7D%29%3B%0A%0A%20%20%20%20%20%20%20%20%20%20%20%20%0A%20%20%20%20%20%20%20%20%20%20%20%20%20%20%20%20var%20html_8f6da49a1a784cd6bdf23ab512b2d23a%20%3D%20%24%28%60%3Cdiv%20id%3D%22html_8f6da49a1a784cd6bdf23ab512b2d23a%22%20style%3D%22width%3A%20100.0%25%3B%20height%3A%20100.0%25%3B%22%3EHarry%26%2339%3Bs%2CSports%20Bar%3C/div%3E%60%29%5B0%5D%3B%0A%20%20%20%20%20%20%20%20%20%20%20%20%20%20%20%20popup_91c5a8881cb34383bae159dad5375e42.setContent%28html_8f6da49a1a784cd6bdf23ab512b2d23a%29%3B%0A%20%20%20%20%20%20%20%20%20%20%20%20%0A%0A%20%20%20%20%20%20%20%20%20%20%20%20circle_marker_81670607801c4f689ef1065afaf7cfde.bindPopup%28popup_91c5a8881cb34383bae159dad5375e42%29%0A%20%20%20%20%20%20%20%20%20%20%20%20%3B%0A%0A%20%20%20%20%20%20%20%20%20%20%20%20%0A%20%20%20%20%20%20%20%20%0A%20%20%20%20%0A%20%20%20%20%20%20%20%20%20%20%20%20var%20circle_marker_c081d8c05f214815bd6d29acd314d95c%20%3D%20L.circleMarker%28%0A%20%20%20%20%20%20%20%20%20%20%20%20%20%20%20%20%5B12.975029563160218%2C%2077.60455666814788%5D%2C%0A%20%20%20%20%20%20%20%20%20%20%20%20%20%20%20%20%7B%0A%20%20%22bubblingMouseEvents%22%3A%20true%2C%0A%20%20%22color%22%3A%20%22blue%22%2C%0A%20%20%22dashArray%22%3A%20null%2C%0A%20%20%22dashOffset%22%3A%20null%2C%0A%20%20%22fill%22%3A%20true%2C%0A%20%20%22fillColor%22%3A%20%22%233186cc%22%2C%0A%20%20%22fillOpacity%22%3A%200.7%2C%0A%20%20%22fillRule%22%3A%20%22evenodd%22%2C%0A%20%20%22lineCap%22%3A%20%22round%22%2C%0A%20%20%22lineJoin%22%3A%20%22round%22%2C%0A%20%20%22opacity%22%3A%201.0%2C%0A%20%20%22radius%22%3A%205%2C%0A%20%20%22stroke%22%3A%20true%2C%0A%20%20%22weight%22%3A%203%0A%7D%0A%20%20%20%20%20%20%20%20%20%20%20%20%20%20%20%20%29%0A%20%20%20%20%20%20%20%20%20%20%20%20%20%20%20%20.addTo%28map_4f83ec28c3644a08b81ee7ae2f35e559%29%3B%0A%20%20%20%20%20%20%20%20%20%20%20%20%0A%20%20%20%20%0A%20%20%20%20%20%20%20%20%20%20%20%20var%20popup_6718aa9e42924131a355a0359387fcb1%20%3D%20L.popup%28%7BmaxWidth%3A%20%27100%25%27%0A%20%20%20%20%20%20%20%20%20%20%20%20%0A%20%20%20%20%20%20%20%20%20%20%20%20%7D%29%3B%0A%0A%20%20%20%20%20%20%20%20%20%20%20%20%0A%20%20%20%20%20%20%20%20%20%20%20%20%20%20%20%20var%20html_bdabf8ee1c044009a6a1e165458b6a08%20%3D%20%24%28%60%3Cdiv%20id%3D%22html_bdabf8ee1c044009a6a1e165458b6a08%22%20style%3D%22width%3A%20100.0%25%3B%20height%3A%20100.0%25%3B%22%3ECoconut%20Grove%2CBeer%20Garden%3C/div%3E%60%29%5B0%5D%3B%0A%20%20%20%20%20%20%20%20%20%20%20%20%20%20%20%20popup_6718aa9e42924131a355a0359387fcb1.setContent%28html_bdabf8ee1c044009a6a1e165458b6a08%29%3B%0A%20%20%20%20%20%20%20%20%20%20%20%20%0A%0A%20%20%20%20%20%20%20%20%20%20%20%20circle_marker_c081d8c05f214815bd6d29acd314d95c.bindPopup%28popup_6718aa9e42924131a355a0359387fcb1%29%0A%20%20%20%20%20%20%20%20%20%20%20%20%3B%0A%0A%20%20%20%20%20%20%20%20%20%20%20%20%0A%20%20%20%20%20%20%20%20%0A%20%20%20%20%0A%20%20%20%20%20%20%20%20%20%20%20%20var%20circle_marker_5a27e4300f0d49bca762a8a6ef75a538%20%3D%20L.circleMarker%28%0A%20%20%20%20%20%20%20%20%20%20%20%20%20%20%20%20%5B12.99310027502387%2C%2077.66113438768825%5D%2C%0A%20%20%20%20%20%20%20%20%20%20%20%20%20%20%20%20%7B%0A%20%20%22bubblingMouseEvents%22%3A%20true%2C%0A%20%20%22color%22%3A%20%22blue%22%2C%0A%20%20%22dashArray%22%3A%20null%2C%0A%20%20%22dashOffset%22%3A%20null%2C%0A%20%20%22fill%22%3A%20true%2C%0A%20%20%22fillColor%22%3A%20%22%233186cc%22%2C%0A%20%20%22fillOpacity%22%3A%200.7%2C%0A%20%20%22fillRule%22%3A%20%22evenodd%22%2C%0A%20%20%22lineCap%22%3A%20%22round%22%2C%0A%20%20%22lineJoin%22%3A%20%22round%22%2C%0A%20%20%22opacity%22%3A%201.0%2C%0A%20%20%22radius%22%3A%205%2C%0A%20%20%22stroke%22%3A%20true%2C%0A%20%20%22weight%22%3A%203%0A%7D%0A%20%20%20%20%20%20%20%20%20%20%20%20%20%20%20%20%29%0A%20%20%20%20%20%20%20%20%20%20%20%20%20%20%20%20.addTo%28map_4f83ec28c3644a08b81ee7ae2f35e559%29%3B%0A%20%20%20%20%20%20%20%20%20%20%20%20%0A%20%20%20%20%0A%20%20%20%20%20%20%20%20%20%20%20%20var%20popup_e82bf7b591b2423ea6db075e03654691%20%3D%20L.popup%28%7BmaxWidth%3A%20%27100%25%27%0A%20%20%20%20%20%20%20%20%20%20%20%20%0A%20%20%20%20%20%20%20%20%20%20%20%20%7D%29%3B%0A%0A%20%20%20%20%20%20%20%20%20%20%20%20%0A%20%20%20%20%20%20%20%20%20%20%20%20%20%20%20%20var%20html_2a565db607b24400a0ec3acfa74ca1e1%20%3D%20%24%28%60%3Cdiv%20id%3D%22html_2a565db607b24400a0ec3acfa74ca1e1%22%20style%3D%22width%3A%20100.0%25%3B%20height%3A%20100.0%25%3B%22%3E3%20Monkeys%20BrewPub%2CBrewery%3C/div%3E%60%29%5B0%5D%3B%0A%20%20%20%20%20%20%20%20%20%20%20%20%20%20%20%20popup_e82bf7b591b2423ea6db075e03654691.setContent%28html_2a565db607b24400a0ec3acfa74ca1e1%29%3B%0A%20%20%20%20%20%20%20%20%20%20%20%20%0A%0A%20%20%20%20%20%20%20%20%20%20%20%20circle_marker_5a27e4300f0d49bca762a8a6ef75a538.bindPopup%28popup_e82bf7b591b2423ea6db075e03654691%29%0A%20%20%20%20%20%20%20%20%20%20%20%20%3B%0A%0A%20%20%20%20%20%20%20%20%20%20%20%20%0A%20%20%20%20%20%20%20%20%0A%3C/script%3E onload=\"this.contentDocument.open();this.contentDocument.write(    decodeURIComponent(this.getAttribute('data-html')));this.contentDocument.close();\" allowfullscreen webkitallowfullscreen mozallowfullscreen></iframe></div></div>"
            ],
            "text/plain": [
              "<folium.folium.Map at 0x7f8a89b5af50>"
            ]
          },
          "metadata": {
            "tags": []
          },
          "execution_count": 23
        }
      ]
    },
    {
      "cell_type": "markdown",
      "metadata": {
        "id": "962znEc-pSDk"
      },
      "source": [
        "#**Methodology**\n",
        "\n",
        "This section of the notebook, explores the method used to cluster the neighborhood. I decided to go forward with sklearn library's Kmeans algorithm.\n",
        "\n",
        "But first, It required conversting all the input variables into numeric variables. Since the price column has three parameteres, I used one hot encoding method to convert them to binary variables. "
      ]
    },
    {
      "cell_type": "code",
      "metadata": {
        "id": "vNhXH_OGQ1S0",
        "colab": {
          "base_uri": "https://localhost:8080/",
          "height": 204
        },
        "outputId": "e149f4a8-92d1-47f5-c76c-9018d4c3b20b"
      },
      "source": [
        "# one hot encoding\n",
        "venues_data_onehot = pd.get_dummies(venues_data[['Price']], prefix=\"\", prefix_sep=\"\")\n",
        "\n",
        "# adding venues column back to dataframe\n",
        "venues_data_onehot['venue'] = venues_data['name'] \n",
        "\n",
        "# moving venues column to the first column\n",
        "fixed_columns = [venues_data_onehot.columns[-1]] + list(venues_data_onehot.columns[:-1])\n",
        "venues_data_onehot = venues_data_onehot[fixed_columns]\n",
        "\n",
        "venues_data_onehot.head()"
      ],
      "execution_count": null,
      "outputs": [
        {
          "output_type": "execute_result",
          "data": {
            "text/html": [
              "<div>\n",
              "<style scoped>\n",
              "    .dataframe tbody tr th:only-of-type {\n",
              "        vertical-align: middle;\n",
              "    }\n",
              "\n",
              "    .dataframe tbody tr th {\n",
              "        vertical-align: top;\n",
              "    }\n",
              "\n",
              "    .dataframe thead th {\n",
              "        text-align: right;\n",
              "    }\n",
              "</style>\n",
              "<table border=\"1\" class=\"dataframe\">\n",
              "  <thead>\n",
              "    <tr style=\"text-align: right;\">\n",
              "      <th></th>\n",
              "      <th>venue</th>\n",
              "      <th>Cheap</th>\n",
              "      <th>Expensive</th>\n",
              "      <th>Moderate</th>\n",
              "    </tr>\n",
              "  </thead>\n",
              "  <tbody>\n",
              "    <tr>\n",
              "      <th>0</th>\n",
              "      <td>Windmills Craftworks</td>\n",
              "      <td>0</td>\n",
              "      <td>0</td>\n",
              "      <td>1</td>\n",
              "    </tr>\n",
              "    <tr>\n",
              "      <th>1</th>\n",
              "      <td>Toit Brewpub</td>\n",
              "      <td>0</td>\n",
              "      <td>1</td>\n",
              "      <td>0</td>\n",
              "    </tr>\n",
              "    <tr>\n",
              "      <th>2</th>\n",
              "      <td>Arbor Brewing Company</td>\n",
              "      <td>0</td>\n",
              "      <td>1</td>\n",
              "      <td>0</td>\n",
              "    </tr>\n",
              "    <tr>\n",
              "      <th>3</th>\n",
              "      <td>Whitefield Social</td>\n",
              "      <td>0</td>\n",
              "      <td>1</td>\n",
              "      <td>0</td>\n",
              "    </tr>\n",
              "    <tr>\n",
              "      <th>4</th>\n",
              "      <td>Windmills Craftswork</td>\n",
              "      <td>0</td>\n",
              "      <td>0</td>\n",
              "      <td>1</td>\n",
              "    </tr>\n",
              "  </tbody>\n",
              "</table>\n",
              "</div>"
            ],
            "text/plain": [
              "                   venue  Cheap  Expensive  Moderate\n",
              "0   Windmills Craftworks      0          0         1\n",
              "1           Toit Brewpub      0          1         0\n",
              "2  Arbor Brewing Company      0          1         0\n",
              "3      Whitefield Social      0          1         0\n",
              "4   Windmills Craftswork      0          0         1"
            ]
          },
          "metadata": {
            "tags": []
          },
          "execution_count": 13
        }
      ]
    },
    {
      "cell_type": "code",
      "metadata": {
        "colab": {
          "base_uri": "https://localhost:8080/",
          "height": 204
        },
        "id": "Kx7o4hSzRuk5",
        "outputId": "0eeb3c4b-f583-4840-825b-e43a18f20fcb"
      },
      "source": [
        "# merging the one hot encoded price variable with the other variables\n",
        "final_venues_data = pd.merge(venues_data, venues_data_onehot, left_on = 'name', right_on= 'venue') \n",
        "final_venues_data.drop('venue', axis = 1, inplace = True) #droping the venues columns \n",
        "final_venues_data.head()"
      ],
      "execution_count": null,
      "outputs": [
        {
          "output_type": "execute_result",
          "data": {
            "text/html": [
              "<div>\n",
              "<style scoped>\n",
              "    .dataframe tbody tr th:only-of-type {\n",
              "        vertical-align: middle;\n",
              "    }\n",
              "\n",
              "    .dataframe tbody tr th {\n",
              "        vertical-align: top;\n",
              "    }\n",
              "\n",
              "    .dataframe thead th {\n",
              "        text-align: right;\n",
              "    }\n",
              "</style>\n",
              "<table border=\"1\" class=\"dataframe\">\n",
              "  <thead>\n",
              "    <tr style=\"text-align: right;\">\n",
              "      <th></th>\n",
              "      <th>name</th>\n",
              "      <th>categories</th>\n",
              "      <th>lat</th>\n",
              "      <th>lng</th>\n",
              "      <th>id</th>\n",
              "      <th>Rating</th>\n",
              "      <th>Price</th>\n",
              "      <th>Likes</th>\n",
              "      <th>Cheap</th>\n",
              "      <th>Expensive</th>\n",
              "      <th>Moderate</th>\n",
              "    </tr>\n",
              "  </thead>\n",
              "  <tbody>\n",
              "    <tr>\n",
              "      <th>0</th>\n",
              "      <td>Windmills Craftworks</td>\n",
              "      <td>Brewery</td>\n",
              "      <td>12.982460</td>\n",
              "      <td>77.721861</td>\n",
              "      <td>5056abd4e4b07ba3e77d061b</td>\n",
              "      <td>9.2</td>\n",
              "      <td>Moderate</td>\n",
              "      <td>382</td>\n",
              "      <td>0</td>\n",
              "      <td>0</td>\n",
              "      <td>1</td>\n",
              "    </tr>\n",
              "    <tr>\n",
              "      <th>1</th>\n",
              "      <td>Toit Brewpub</td>\n",
              "      <td>Brewery</td>\n",
              "      <td>12.979367</td>\n",
              "      <td>77.640702</td>\n",
              "      <td>4d74e829e278f04d748c5db8</td>\n",
              "      <td>9.1</td>\n",
              "      <td>Expensive</td>\n",
              "      <td>986</td>\n",
              "      <td>0</td>\n",
              "      <td>1</td>\n",
              "      <td>0</td>\n",
              "    </tr>\n",
              "    <tr>\n",
              "      <th>2</th>\n",
              "      <td>Arbor Brewing Company</td>\n",
              "      <td>Brewery</td>\n",
              "      <td>12.970140</td>\n",
              "      <td>77.610857</td>\n",
              "      <td>50b8cfebe4b0b45a1a4919ad</td>\n",
              "      <td>8.9</td>\n",
              "      <td>Expensive</td>\n",
              "      <td>603</td>\n",
              "      <td>0</td>\n",
              "      <td>1</td>\n",
              "      <td>0</td>\n",
              "    </tr>\n",
              "    <tr>\n",
              "      <th>3</th>\n",
              "      <td>Whitefield Social</td>\n",
              "      <td>Lounge</td>\n",
              "      <td>12.997343</td>\n",
              "      <td>77.696288</td>\n",
              "      <td>5662f272498eac2dc526e83a</td>\n",
              "      <td>8.8</td>\n",
              "      <td>Expensive</td>\n",
              "      <td>34</td>\n",
              "      <td>0</td>\n",
              "      <td>1</td>\n",
              "      <td>0</td>\n",
              "    </tr>\n",
              "    <tr>\n",
              "      <th>4</th>\n",
              "      <td>Windmills Craftswork</td>\n",
              "      <td>Brewery</td>\n",
              "      <td>13.199887</td>\n",
              "      <td>77.709638</td>\n",
              "      <td>5c849a711953f3002c8a751e</td>\n",
              "      <td>8.7</td>\n",
              "      <td>Moderate</td>\n",
              "      <td>9</td>\n",
              "      <td>0</td>\n",
              "      <td>0</td>\n",
              "      <td>1</td>\n",
              "    </tr>\n",
              "  </tbody>\n",
              "</table>\n",
              "</div>"
            ],
            "text/plain": [
              "                    name categories        lat        lng  \\\n",
              "0   Windmills Craftworks    Brewery  12.982460  77.721861   \n",
              "1           Toit Brewpub    Brewery  12.979367  77.640702   \n",
              "2  Arbor Brewing Company    Brewery  12.970140  77.610857   \n",
              "3      Whitefield Social     Lounge  12.997343  77.696288   \n",
              "4   Windmills Craftswork    Brewery  13.199887  77.709638   \n",
              "\n",
              "                         id  Rating      Price  Likes  Cheap  Expensive  \\\n",
              "0  5056abd4e4b07ba3e77d061b     9.2   Moderate    382      0          0   \n",
              "1  4d74e829e278f04d748c5db8     9.1  Expensive    986      0          1   \n",
              "2  50b8cfebe4b0b45a1a4919ad     8.9  Expensive    603      0          1   \n",
              "3  5662f272498eac2dc526e83a     8.8  Expensive     34      0          1   \n",
              "4  5c849a711953f3002c8a751e     8.7   Moderate      9      0          0   \n",
              "\n",
              "   Moderate  \n",
              "0         1  \n",
              "1         0  \n",
              "2         0  \n",
              "3         0  \n",
              "4         1  "
            ]
          },
          "metadata": {
            "tags": []
          },
          "execution_count": 14
        }
      ]
    },
    {
      "cell_type": "code",
      "metadata": {
        "colab": {
          "base_uri": "https://localhost:8080/"
        },
        "id": "MCbxsLoBSasm",
        "outputId": "da1308fb-f02a-4ef6-963a-17086b65083e"
      },
      "source": [
        "final_venues_data.dtypes # checking the data types of input variables in the final dataframe"
      ],
      "execution_count": null,
      "outputs": [
        {
          "output_type": "execute_result",
          "data": {
            "text/plain": [
              "name           object\n",
              "categories     object\n",
              "lat           float64\n",
              "lng           float64\n",
              "id             object\n",
              "Rating        float64\n",
              "Price          object\n",
              "Likes           int64\n",
              "Cheap           uint8\n",
              "Expensive       uint8\n",
              "Moderate        uint8\n",
              "dtype: object"
            ]
          },
          "metadata": {
            "tags": []
          },
          "execution_count": 15
        }
      ]
    },
    {
      "cell_type": "markdown",
      "metadata": {
        "id": "_nYVYXhyqtvg"
      },
      "source": [
        "##K_means clustering\n",
        "\n",
        "In the initial revisions, I executed the clustering of the venues without normalizing the parameters. However, on analysis it occurred to me that the cluster were biased towards the number of likes. Though the cluster gave good insights but I decided to go forward with normalizing the data to remove the bias. \n",
        "One unintended but fortunate effect of this was that pricing had a greater bias now as a result, the venues sorted themselves out based on price category. \n",
        "\n",
        "I decided the number of cluster based on following assumption: \n",
        "\n",
        "*   Under the pricing column the venues fall under : Cheap, Moderate, and Expensive\n",
        "*   Under the Rating column the venues fall under : Bad, Decent, and Good\n",
        "\n",
        "From high level permutation and combinations, we can have 3*3 = 9 possibilities\n",
        "\n"
      ]
    },
    {
      "cell_type": "code",
      "metadata": {
        "colab": {
          "base_uri": "https://localhost:8080/",
          "height": 204
        },
        "id": "GTCH_B8alEV_",
        "outputId": "22592bc8-bc20-48e1-f540-673932ef5efe"
      },
      "source": [
        "venues_clustering = final_venues_data.drop(['name','categories','lat','lng','id','Price'], 1)\n",
        "column_maxes = venues_clustering.max()\n",
        "venues_clustering['Rating'] = venues_clustering['Rating']/column_maxes[0]\n",
        "venues_clustering['Likes'] = venues_clustering['Likes']/column_maxes[1]\n",
        "\n",
        "venues_clustering.head()"
      ],
      "execution_count": null,
      "outputs": [
        {
          "output_type": "execute_result",
          "data": {
            "text/html": [
              "<div>\n",
              "<style scoped>\n",
              "    .dataframe tbody tr th:only-of-type {\n",
              "        vertical-align: middle;\n",
              "    }\n",
              "\n",
              "    .dataframe tbody tr th {\n",
              "        vertical-align: top;\n",
              "    }\n",
              "\n",
              "    .dataframe thead th {\n",
              "        text-align: right;\n",
              "    }\n",
              "</style>\n",
              "<table border=\"1\" class=\"dataframe\">\n",
              "  <thead>\n",
              "    <tr style=\"text-align: right;\">\n",
              "      <th></th>\n",
              "      <th>Rating</th>\n",
              "      <th>Likes</th>\n",
              "      <th>Cheap</th>\n",
              "      <th>Expensive</th>\n",
              "      <th>Moderate</th>\n",
              "    </tr>\n",
              "  </thead>\n",
              "  <tbody>\n",
              "    <tr>\n",
              "      <th>0</th>\n",
              "      <td>1.000000</td>\n",
              "      <td>0.387424</td>\n",
              "      <td>0</td>\n",
              "      <td>0</td>\n",
              "      <td>1</td>\n",
              "    </tr>\n",
              "    <tr>\n",
              "      <th>1</th>\n",
              "      <td>0.989130</td>\n",
              "      <td>1.000000</td>\n",
              "      <td>0</td>\n",
              "      <td>1</td>\n",
              "      <td>0</td>\n",
              "    </tr>\n",
              "    <tr>\n",
              "      <th>2</th>\n",
              "      <td>0.967391</td>\n",
              "      <td>0.611562</td>\n",
              "      <td>0</td>\n",
              "      <td>1</td>\n",
              "      <td>0</td>\n",
              "    </tr>\n",
              "    <tr>\n",
              "      <th>3</th>\n",
              "      <td>0.956522</td>\n",
              "      <td>0.034483</td>\n",
              "      <td>0</td>\n",
              "      <td>1</td>\n",
              "      <td>0</td>\n",
              "    </tr>\n",
              "    <tr>\n",
              "      <th>4</th>\n",
              "      <td>0.945652</td>\n",
              "      <td>0.009128</td>\n",
              "      <td>0</td>\n",
              "      <td>0</td>\n",
              "      <td>1</td>\n",
              "    </tr>\n",
              "  </tbody>\n",
              "</table>\n",
              "</div>"
            ],
            "text/plain": [
              "     Rating     Likes  Cheap  Expensive  Moderate\n",
              "0  1.000000  0.387424      0          0         1\n",
              "1  0.989130  1.000000      0          1         0\n",
              "2  0.967391  0.611562      0          1         0\n",
              "3  0.956522  0.034483      0          1         0\n",
              "4  0.945652  0.009128      0          0         1"
            ]
          },
          "metadata": {
            "tags": []
          },
          "execution_count": 16
        }
      ]
    },
    {
      "cell_type": "code",
      "metadata": {
        "colab": {
          "base_uri": "https://localhost:8080/"
        },
        "id": "kiWHU-thaq4D",
        "outputId": "96391582-fafe-456f-db03-d92343949494"
      },
      "source": [
        "# set number of clusters\n",
        "kclusters = 9\n",
        "\n",
        "# run k-means clustering\n",
        "kmeans = KMeans(init= 'k-means++',n_clusters=kclusters, n_init = 12, random_state=0).fit(venues_clustering)\n",
        "\n",
        "# check cluster labels generated for each row in the dataframe\n",
        "kmeans.labels_[0:10] "
      ],
      "execution_count": null,
      "outputs": [
        {
          "output_type": "execute_result",
          "data": {
            "text/plain": [
              "array([4, 3, 6, 2, 0, 2, 6, 0, 2, 2], dtype=int32)"
            ]
          },
          "metadata": {
            "tags": []
          },
          "execution_count": 17
        }
      ]
    },
    {
      "cell_type": "code",
      "metadata": {
        "id": "GSuqeubk3FtE"
      },
      "source": [
        "final_venues_data.insert(11, 'Cluster Labels', kmeans.labels_) #inserting the cluster lables to the final venues dataframe"
      ],
      "execution_count": null,
      "outputs": []
    },
    {
      "cell_type": "code",
      "metadata": {
        "colab": {
          "base_uri": "https://localhost:8080/",
          "height": 204
        },
        "id": "KJ4EWoNVXZhY",
        "outputId": "af01bf31-e92c-45e5-bd07-2b2da68ea0ec"
      },
      "source": [
        "final_venues_data.head()"
      ],
      "execution_count": null,
      "outputs": [
        {
          "output_type": "execute_result",
          "data": {
            "text/html": [
              "<div>\n",
              "<style scoped>\n",
              "    .dataframe tbody tr th:only-of-type {\n",
              "        vertical-align: middle;\n",
              "    }\n",
              "\n",
              "    .dataframe tbody tr th {\n",
              "        vertical-align: top;\n",
              "    }\n",
              "\n",
              "    .dataframe thead th {\n",
              "        text-align: right;\n",
              "    }\n",
              "</style>\n",
              "<table border=\"1\" class=\"dataframe\">\n",
              "  <thead>\n",
              "    <tr style=\"text-align: right;\">\n",
              "      <th></th>\n",
              "      <th>name</th>\n",
              "      <th>categories</th>\n",
              "      <th>lat</th>\n",
              "      <th>lng</th>\n",
              "      <th>id</th>\n",
              "      <th>Rating</th>\n",
              "      <th>Price</th>\n",
              "      <th>Likes</th>\n",
              "      <th>Cheap</th>\n",
              "      <th>Expensive</th>\n",
              "      <th>Moderate</th>\n",
              "      <th>Cluster Labels</th>\n",
              "    </tr>\n",
              "  </thead>\n",
              "  <tbody>\n",
              "    <tr>\n",
              "      <th>0</th>\n",
              "      <td>Windmills Craftworks</td>\n",
              "      <td>Brewery</td>\n",
              "      <td>12.982460</td>\n",
              "      <td>77.721861</td>\n",
              "      <td>5056abd4e4b07ba3e77d061b</td>\n",
              "      <td>9.2</td>\n",
              "      <td>Moderate</td>\n",
              "      <td>382</td>\n",
              "      <td>0</td>\n",
              "      <td>0</td>\n",
              "      <td>1</td>\n",
              "      <td>4</td>\n",
              "    </tr>\n",
              "    <tr>\n",
              "      <th>1</th>\n",
              "      <td>Toit Brewpub</td>\n",
              "      <td>Brewery</td>\n",
              "      <td>12.979367</td>\n",
              "      <td>77.640702</td>\n",
              "      <td>4d74e829e278f04d748c5db8</td>\n",
              "      <td>9.1</td>\n",
              "      <td>Expensive</td>\n",
              "      <td>986</td>\n",
              "      <td>0</td>\n",
              "      <td>1</td>\n",
              "      <td>0</td>\n",
              "      <td>3</td>\n",
              "    </tr>\n",
              "    <tr>\n",
              "      <th>2</th>\n",
              "      <td>Arbor Brewing Company</td>\n",
              "      <td>Brewery</td>\n",
              "      <td>12.970140</td>\n",
              "      <td>77.610857</td>\n",
              "      <td>50b8cfebe4b0b45a1a4919ad</td>\n",
              "      <td>8.9</td>\n",
              "      <td>Expensive</td>\n",
              "      <td>603</td>\n",
              "      <td>0</td>\n",
              "      <td>1</td>\n",
              "      <td>0</td>\n",
              "      <td>6</td>\n",
              "    </tr>\n",
              "    <tr>\n",
              "      <th>3</th>\n",
              "      <td>Whitefield Social</td>\n",
              "      <td>Lounge</td>\n",
              "      <td>12.997343</td>\n",
              "      <td>77.696288</td>\n",
              "      <td>5662f272498eac2dc526e83a</td>\n",
              "      <td>8.8</td>\n",
              "      <td>Expensive</td>\n",
              "      <td>34</td>\n",
              "      <td>0</td>\n",
              "      <td>1</td>\n",
              "      <td>0</td>\n",
              "      <td>2</td>\n",
              "    </tr>\n",
              "    <tr>\n",
              "      <th>4</th>\n",
              "      <td>Windmills Craftswork</td>\n",
              "      <td>Brewery</td>\n",
              "      <td>13.199887</td>\n",
              "      <td>77.709638</td>\n",
              "      <td>5c849a711953f3002c8a751e</td>\n",
              "      <td>8.7</td>\n",
              "      <td>Moderate</td>\n",
              "      <td>9</td>\n",
              "      <td>0</td>\n",
              "      <td>0</td>\n",
              "      <td>1</td>\n",
              "      <td>0</td>\n",
              "    </tr>\n",
              "  </tbody>\n",
              "</table>\n",
              "</div>"
            ],
            "text/plain": [
              "                    name categories        lat        lng  \\\n",
              "0   Windmills Craftworks    Brewery  12.982460  77.721861   \n",
              "1           Toit Brewpub    Brewery  12.979367  77.640702   \n",
              "2  Arbor Brewing Company    Brewery  12.970140  77.610857   \n",
              "3      Whitefield Social     Lounge  12.997343  77.696288   \n",
              "4   Windmills Craftswork    Brewery  13.199887  77.709638   \n",
              "\n",
              "                         id  Rating      Price  Likes  Cheap  Expensive  \\\n",
              "0  5056abd4e4b07ba3e77d061b     9.2   Moderate    382      0          0   \n",
              "1  4d74e829e278f04d748c5db8     9.1  Expensive    986      0          1   \n",
              "2  50b8cfebe4b0b45a1a4919ad     8.9  Expensive    603      0          1   \n",
              "3  5662f272498eac2dc526e83a     8.8  Expensive     34      0          1   \n",
              "4  5c849a711953f3002c8a751e     8.7   Moderate      9      0          0   \n",
              "\n",
              "   Moderate  Cluster Labels  \n",
              "0         1               4  \n",
              "1         0               3  \n",
              "2         0               6  \n",
              "3         0               2  \n",
              "4         1               0  "
            ]
          },
          "metadata": {
            "tags": []
          },
          "execution_count": 20
        }
      ]
    },
    {
      "cell_type": "code",
      "metadata": {
        "colab": {
          "base_uri": "https://localhost:8080/",
          "height": 204
        },
        "id": "WWSMkJg_XifY",
        "outputId": "6b2a6e43-b83b-4540-c9cf-3a249341cb46"
      },
      "source": [
        "Clustered_venues = final_venues_data[['name', 'Cluster Labels','Rating','Price','Likes','lat','lng']]\n",
        "Clustered_venues.head() # final veneus dataframe with cluster lables"
      ],
      "execution_count": null,
      "outputs": [
        {
          "output_type": "execute_result",
          "data": {
            "text/html": [
              "<div>\n",
              "<style scoped>\n",
              "    .dataframe tbody tr th:only-of-type {\n",
              "        vertical-align: middle;\n",
              "    }\n",
              "\n",
              "    .dataframe tbody tr th {\n",
              "        vertical-align: top;\n",
              "    }\n",
              "\n",
              "    .dataframe thead th {\n",
              "        text-align: right;\n",
              "    }\n",
              "</style>\n",
              "<table border=\"1\" class=\"dataframe\">\n",
              "  <thead>\n",
              "    <tr style=\"text-align: right;\">\n",
              "      <th></th>\n",
              "      <th>name</th>\n",
              "      <th>Cluster Labels</th>\n",
              "      <th>Rating</th>\n",
              "      <th>Price</th>\n",
              "      <th>Likes</th>\n",
              "      <th>lat</th>\n",
              "      <th>lng</th>\n",
              "    </tr>\n",
              "  </thead>\n",
              "  <tbody>\n",
              "    <tr>\n",
              "      <th>0</th>\n",
              "      <td>Windmills Craftworks</td>\n",
              "      <td>4</td>\n",
              "      <td>9.2</td>\n",
              "      <td>Moderate</td>\n",
              "      <td>382</td>\n",
              "      <td>12.982460</td>\n",
              "      <td>77.721861</td>\n",
              "    </tr>\n",
              "    <tr>\n",
              "      <th>1</th>\n",
              "      <td>Toit Brewpub</td>\n",
              "      <td>3</td>\n",
              "      <td>9.1</td>\n",
              "      <td>Expensive</td>\n",
              "      <td>986</td>\n",
              "      <td>12.979367</td>\n",
              "      <td>77.640702</td>\n",
              "    </tr>\n",
              "    <tr>\n",
              "      <th>2</th>\n",
              "      <td>Arbor Brewing Company</td>\n",
              "      <td>6</td>\n",
              "      <td>8.9</td>\n",
              "      <td>Expensive</td>\n",
              "      <td>603</td>\n",
              "      <td>12.970140</td>\n",
              "      <td>77.610857</td>\n",
              "    </tr>\n",
              "    <tr>\n",
              "      <th>3</th>\n",
              "      <td>Whitefield Social</td>\n",
              "      <td>2</td>\n",
              "      <td>8.8</td>\n",
              "      <td>Expensive</td>\n",
              "      <td>34</td>\n",
              "      <td>12.997343</td>\n",
              "      <td>77.696288</td>\n",
              "    </tr>\n",
              "    <tr>\n",
              "      <th>4</th>\n",
              "      <td>Windmills Craftswork</td>\n",
              "      <td>0</td>\n",
              "      <td>8.7</td>\n",
              "      <td>Moderate</td>\n",
              "      <td>9</td>\n",
              "      <td>13.199887</td>\n",
              "      <td>77.709638</td>\n",
              "    </tr>\n",
              "  </tbody>\n",
              "</table>\n",
              "</div>"
            ],
            "text/plain": [
              "                    name  Cluster Labels  Rating      Price  Likes        lat  \\\n",
              "0   Windmills Craftworks               4     9.2   Moderate    382  12.982460   \n",
              "1           Toit Brewpub               3     9.1  Expensive    986  12.979367   \n",
              "2  Arbor Brewing Company               6     8.9  Expensive    603  12.970140   \n",
              "3      Whitefield Social               2     8.8  Expensive     34  12.997343   \n",
              "4   Windmills Craftswork               0     8.7   Moderate      9  13.199887   \n",
              "\n",
              "         lng  \n",
              "0  77.721861  \n",
              "1  77.640702  \n",
              "2  77.610857  \n",
              "3  77.696288  \n",
              "4  77.709638  "
            ]
          },
          "metadata": {
            "tags": []
          },
          "execution_count": 21
        }
      ]
    },
    {
      "cell_type": "markdown",
      "metadata": {
        "id": "ZLvoFc0dpZd7"
      },
      "source": [
        "#**Results and Analysis**"
      ]
    },
    {
      "cell_type": "markdown",
      "metadata": {
        "id": "JND49njMt4NI"
      },
      "source": [
        "##Cluster Label 0 : 'Moderate and Good but not well known\n"
      ]
    },
    {
      "cell_type": "code",
      "metadata": {
        "colab": {
          "base_uri": "https://localhost:8080/",
          "height": 421
        },
        "id": "3qnJ6_1QYZ5f",
        "outputId": "9417b0f8-6fc6-4f02-f3ae-960715bb8396"
      },
      "source": [
        "df1 = Clustered_venues.loc[Clustered_venues['Cluster Labels'] == 0]\n",
        "df1"
      ],
      "execution_count": null,
      "outputs": [
        {
          "output_type": "execute_result",
          "data": {
            "text/html": [
              "<div>\n",
              "<style scoped>\n",
              "    .dataframe tbody tr th:only-of-type {\n",
              "        vertical-align: middle;\n",
              "    }\n",
              "\n",
              "    .dataframe tbody tr th {\n",
              "        vertical-align: top;\n",
              "    }\n",
              "\n",
              "    .dataframe thead th {\n",
              "        text-align: right;\n",
              "    }\n",
              "</style>\n",
              "<table border=\"1\" class=\"dataframe\">\n",
              "  <thead>\n",
              "    <tr style=\"text-align: right;\">\n",
              "      <th></th>\n",
              "      <th>name</th>\n",
              "      <th>Cluster Labels</th>\n",
              "      <th>Rating</th>\n",
              "      <th>Price</th>\n",
              "      <th>Likes</th>\n",
              "      <th>lat</th>\n",
              "      <th>lng</th>\n",
              "    </tr>\n",
              "  </thead>\n",
              "  <tbody>\n",
              "    <tr>\n",
              "      <th>4</th>\n",
              "      <td>Windmills Craftswork</td>\n",
              "      <td>0</td>\n",
              "      <td>8.7</td>\n",
              "      <td>Moderate</td>\n",
              "      <td>9</td>\n",
              "      <td>13.199887</td>\n",
              "      <td>77.709638</td>\n",
              "    </tr>\n",
              "    <tr>\n",
              "      <th>7</th>\n",
              "      <td>Big Brewsky</td>\n",
              "      <td>0</td>\n",
              "      <td>8.6</td>\n",
              "      <td>Moderate</td>\n",
              "      <td>172</td>\n",
              "      <td>12.913141</td>\n",
              "      <td>77.683233</td>\n",
              "    </tr>\n",
              "    <tr>\n",
              "      <th>10</th>\n",
              "      <td>The Druid Garden</td>\n",
              "      <td>0</td>\n",
              "      <td>8.5</td>\n",
              "      <td>Moderate</td>\n",
              "      <td>20</td>\n",
              "      <td>13.063946</td>\n",
              "      <td>77.591492</td>\n",
              "    </tr>\n",
              "    <tr>\n",
              "      <th>11</th>\n",
              "      <td>XOOX Brewmill</td>\n",
              "      <td>0</td>\n",
              "      <td>8.4</td>\n",
              "      <td>Moderate</td>\n",
              "      <td>11</td>\n",
              "      <td>12.935507</td>\n",
              "      <td>77.614982</td>\n",
              "    </tr>\n",
              "    <tr>\n",
              "      <th>14</th>\n",
              "      <td>Uru Brewpark</td>\n",
              "      <td>0</td>\n",
              "      <td>8.4</td>\n",
              "      <td>Moderate</td>\n",
              "      <td>5</td>\n",
              "      <td>12.905577</td>\n",
              "      <td>77.600966</td>\n",
              "    </tr>\n",
              "    <tr>\n",
              "      <th>16</th>\n",
              "      <td>153 Biere Street</td>\n",
              "      <td>0</td>\n",
              "      <td>8.2</td>\n",
              "      <td>Moderate</td>\n",
              "      <td>97</td>\n",
              "      <td>12.962717</td>\n",
              "      <td>77.750815</td>\n",
              "    </tr>\n",
              "    <tr>\n",
              "      <th>17</th>\n",
              "      <td>Bangalore Brew Works</td>\n",
              "      <td>0</td>\n",
              "      <td>8.1</td>\n",
              "      <td>Moderate</td>\n",
              "      <td>54</td>\n",
              "      <td>12.968365</td>\n",
              "      <td>77.601662</td>\n",
              "    </tr>\n",
              "    <tr>\n",
              "      <th>20</th>\n",
              "      <td>Communiti</td>\n",
              "      <td>0</td>\n",
              "      <td>8.0</td>\n",
              "      <td>Moderate</td>\n",
              "      <td>33</td>\n",
              "      <td>12.972618</td>\n",
              "      <td>77.608225</td>\n",
              "    </tr>\n",
              "    <tr>\n",
              "      <th>23</th>\n",
              "      <td>Biergarten</td>\n",
              "      <td>0</td>\n",
              "      <td>7.9</td>\n",
              "      <td>Moderate</td>\n",
              "      <td>23</td>\n",
              "      <td>12.982449</td>\n",
              "      <td>77.708620</td>\n",
              "    </tr>\n",
              "    <tr>\n",
              "      <th>26</th>\n",
              "      <td>Byg Brewski</td>\n",
              "      <td>0</td>\n",
              "      <td>7.8</td>\n",
              "      <td>Moderate</td>\n",
              "      <td>10</td>\n",
              "      <td>13.070837</td>\n",
              "      <td>77.652310</td>\n",
              "    </tr>\n",
              "    <tr>\n",
              "      <th>33</th>\n",
              "      <td>The Pump House</td>\n",
              "      <td>0</td>\n",
              "      <td>7.5</td>\n",
              "      <td>Moderate</td>\n",
              "      <td>7</td>\n",
              "      <td>12.906654</td>\n",
              "      <td>77.582184</td>\n",
              "    </tr>\n",
              "    <tr>\n",
              "      <th>35</th>\n",
              "      <td>Brahma Brews</td>\n",
              "      <td>0</td>\n",
              "      <td>7.4</td>\n",
              "      <td>Moderate</td>\n",
              "      <td>3</td>\n",
              "      <td>12.893477</td>\n",
              "      <td>77.586620</td>\n",
              "    </tr>\n",
              "  </tbody>\n",
              "</table>\n",
              "</div>"
            ],
            "text/plain": [
              "                    name  Cluster Labels  Rating     Price  Likes        lat  \\\n",
              "4   Windmills Craftswork               0     8.7  Moderate      9  13.199887   \n",
              "7            Big Brewsky               0     8.6  Moderate    172  12.913141   \n",
              "10      The Druid Garden               0     8.5  Moderate     20  13.063946   \n",
              "11         XOOX Brewmill               0     8.4  Moderate     11  12.935507   \n",
              "14          Uru Brewpark               0     8.4  Moderate      5  12.905577   \n",
              "16      153 Biere Street               0     8.2  Moderate     97  12.962717   \n",
              "17  Bangalore Brew Works               0     8.1  Moderate     54  12.968365   \n",
              "20             Communiti               0     8.0  Moderate     33  12.972618   \n",
              "23            Biergarten               0     7.9  Moderate     23  12.982449   \n",
              "26           Byg Brewski               0     7.8  Moderate     10  13.070837   \n",
              "33        The Pump House               0     7.5  Moderate      7  12.906654   \n",
              "35          Brahma Brews               0     7.4  Moderate      3  12.893477   \n",
              "\n",
              "          lng  \n",
              "4   77.709638  \n",
              "7   77.683233  \n",
              "10  77.591492  \n",
              "11  77.614982  \n",
              "14  77.600966  \n",
              "16  77.750815  \n",
              "17  77.601662  \n",
              "20  77.608225  \n",
              "23  77.708620  \n",
              "26  77.652310  \n",
              "33  77.582184  \n",
              "35  77.586620  "
            ]
          },
          "metadata": {
            "tags": []
          },
          "execution_count": 25
        }
      ]
    },
    {
      "cell_type": "markdown",
      "metadata": {
        "id": "cXh3X1EauALl"
      },
      "source": [
        "##Cluster Label 1: 'Cheap and Decent'\n",
        "\n"
      ]
    },
    {
      "cell_type": "code",
      "metadata": {
        "colab": {
          "base_uri": "https://localhost:8080/",
          "height": 514
        },
        "id": "Zoqw_w25Yv1J",
        "outputId": "8e38132b-1195-411e-fd03-77ed9d4f0240"
      },
      "source": [
        "df2 = Clustered_venues.loc[Clustered_venues['Cluster Labels'] == 1]\n",
        "df2"
      ],
      "execution_count": null,
      "outputs": [
        {
          "output_type": "execute_result",
          "data": {
            "text/html": [
              "<div>\n",
              "<style scoped>\n",
              "    .dataframe tbody tr th:only-of-type {\n",
              "        vertical-align: middle;\n",
              "    }\n",
              "\n",
              "    .dataframe tbody tr th {\n",
              "        vertical-align: top;\n",
              "    }\n",
              "\n",
              "    .dataframe thead th {\n",
              "        text-align: right;\n",
              "    }\n",
              "</style>\n",
              "<table border=\"1\" class=\"dataframe\">\n",
              "  <thead>\n",
              "    <tr style=\"text-align: right;\">\n",
              "      <th></th>\n",
              "      <th>name</th>\n",
              "      <th>Cluster Labels</th>\n",
              "      <th>Rating</th>\n",
              "      <th>Price</th>\n",
              "      <th>Likes</th>\n",
              "      <th>lat</th>\n",
              "      <th>lng</th>\n",
              "    </tr>\n",
              "  </thead>\n",
              "  <tbody>\n",
              "    <tr>\n",
              "      <th>12</th>\n",
              "      <td>House of Commons</td>\n",
              "      <td>1</td>\n",
              "      <td>8.4</td>\n",
              "      <td>Cheap</td>\n",
              "      <td>14</td>\n",
              "      <td>12.911994</td>\n",
              "      <td>77.638938</td>\n",
              "    </tr>\n",
              "    <tr>\n",
              "      <th>13</th>\n",
              "      <td>The Permit Room</td>\n",
              "      <td>1</td>\n",
              "      <td>8.4</td>\n",
              "      <td>Cheap</td>\n",
              "      <td>36</td>\n",
              "      <td>12.970388</td>\n",
              "      <td>77.610358</td>\n",
              "    </tr>\n",
              "    <tr>\n",
              "      <th>21</th>\n",
              "      <td>Dublin</td>\n",
              "      <td>1</td>\n",
              "      <td>7.9</td>\n",
              "      <td>Cheap</td>\n",
              "      <td>19</td>\n",
              "      <td>12.994301</td>\n",
              "      <td>77.585712</td>\n",
              "    </tr>\n",
              "    <tr>\n",
              "      <th>24</th>\n",
              "      <td>Hammered</td>\n",
              "      <td>1</td>\n",
              "      <td>7.9</td>\n",
              "      <td>Cheap</td>\n",
              "      <td>17</td>\n",
              "      <td>12.986382</td>\n",
              "      <td>77.595154</td>\n",
              "    </tr>\n",
              "    <tr>\n",
              "      <th>27</th>\n",
              "      <td>The Local</td>\n",
              "      <td>1</td>\n",
              "      <td>7.8</td>\n",
              "      <td>Cheap</td>\n",
              "      <td>32</td>\n",
              "      <td>13.021270</td>\n",
              "      <td>77.641574</td>\n",
              "    </tr>\n",
              "    <tr>\n",
              "      <th>29</th>\n",
              "      <td>Vapour - Pub and Brewery</td>\n",
              "      <td>1</td>\n",
              "      <td>7.8</td>\n",
              "      <td>Cheap</td>\n",
              "      <td>6</td>\n",
              "      <td>12.914370</td>\n",
              "      <td>77.677387</td>\n",
              "    </tr>\n",
              "    <tr>\n",
              "      <th>34</th>\n",
              "      <td>Guzzlers Inn</td>\n",
              "      <td>1</td>\n",
              "      <td>7.5</td>\n",
              "      <td>Cheap</td>\n",
              "      <td>53</td>\n",
              "      <td>12.973722</td>\n",
              "      <td>77.606972</td>\n",
              "    </tr>\n",
              "    <tr>\n",
              "      <th>38</th>\n",
              "      <td>The Open Box</td>\n",
              "      <td>1</td>\n",
              "      <td>7.2</td>\n",
              "      <td>Cheap</td>\n",
              "      <td>19</td>\n",
              "      <td>12.970632</td>\n",
              "      <td>77.600642</td>\n",
              "    </tr>\n",
              "    <tr>\n",
              "      <th>42</th>\n",
              "      <td>Harry's Singapore</td>\n",
              "      <td>1</td>\n",
              "      <td>7.1</td>\n",
              "      <td>Cheap</td>\n",
              "      <td>8</td>\n",
              "      <td>12.964481</td>\n",
              "      <td>77.641691</td>\n",
              "    </tr>\n",
              "    <tr>\n",
              "      <th>43</th>\n",
              "      <td>Le Rock</td>\n",
              "      <td>1</td>\n",
              "      <td>7.1</td>\n",
              "      <td>Cheap</td>\n",
              "      <td>62</td>\n",
              "      <td>12.973604</td>\n",
              "      <td>77.607103</td>\n",
              "    </tr>\n",
              "    <tr>\n",
              "      <th>44</th>\n",
              "      <td>Prost</td>\n",
              "      <td>1</td>\n",
              "      <td>7.0</td>\n",
              "      <td>Cheap</td>\n",
              "      <td>6</td>\n",
              "      <td>12.933147</td>\n",
              "      <td>77.630766</td>\n",
              "    </tr>\n",
              "    <tr>\n",
              "      <th>46</th>\n",
              "      <td>Gilly’s Redefined</td>\n",
              "      <td>1</td>\n",
              "      <td>7.0</td>\n",
              "      <td>Cheap</td>\n",
              "      <td>9</td>\n",
              "      <td>12.933388</td>\n",
              "      <td>77.623525</td>\n",
              "    </tr>\n",
              "    <tr>\n",
              "      <th>48</th>\n",
              "      <td>Jimi's Beer Cafe</td>\n",
              "      <td>1</td>\n",
              "      <td>6.9</td>\n",
              "      <td>Cheap</td>\n",
              "      <td>62</td>\n",
              "      <td>12.970073</td>\n",
              "      <td>77.638487</td>\n",
              "    </tr>\n",
              "    <tr>\n",
              "      <th>49</th>\n",
              "      <td>J Cubez</td>\n",
              "      <td>1</td>\n",
              "      <td>6.9</td>\n",
              "      <td>Cheap</td>\n",
              "      <td>34</td>\n",
              "      <td>12.925807</td>\n",
              "      <td>77.564023</td>\n",
              "    </tr>\n",
              "    <tr>\n",
              "      <th>52</th>\n",
              "      <td>Barleyz - The Brew House</td>\n",
              "      <td>1</td>\n",
              "      <td>6.6</td>\n",
              "      <td>Cheap</td>\n",
              "      <td>161</td>\n",
              "      <td>12.937644</td>\n",
              "      <td>77.627022</td>\n",
              "    </tr>\n",
              "  </tbody>\n",
              "</table>\n",
              "</div>"
            ],
            "text/plain": [
              "                        name  Cluster Labels  Rating  Price  Likes        lat  \\\n",
              "12          House of Commons               1     8.4  Cheap     14  12.911994   \n",
              "13           The Permit Room               1     8.4  Cheap     36  12.970388   \n",
              "21                    Dublin               1     7.9  Cheap     19  12.994301   \n",
              "24                  Hammered               1     7.9  Cheap     17  12.986382   \n",
              "27                 The Local               1     7.8  Cheap     32  13.021270   \n",
              "29  Vapour - Pub and Brewery               1     7.8  Cheap      6  12.914370   \n",
              "34              Guzzlers Inn               1     7.5  Cheap     53  12.973722   \n",
              "38              The Open Box               1     7.2  Cheap     19  12.970632   \n",
              "42         Harry's Singapore               1     7.1  Cheap      8  12.964481   \n",
              "43                   Le Rock               1     7.1  Cheap     62  12.973604   \n",
              "44                     Prost               1     7.0  Cheap      6  12.933147   \n",
              "46         Gilly’s Redefined               1     7.0  Cheap      9  12.933388   \n",
              "48          Jimi's Beer Cafe               1     6.9  Cheap     62  12.970073   \n",
              "49                   J Cubez               1     6.9  Cheap     34  12.925807   \n",
              "52  Barleyz - The Brew House               1     6.6  Cheap    161  12.937644   \n",
              "\n",
              "          lng  \n",
              "12  77.638938  \n",
              "13  77.610358  \n",
              "21  77.585712  \n",
              "24  77.595154  \n",
              "27  77.641574  \n",
              "29  77.677387  \n",
              "34  77.606972  \n",
              "38  77.600642  \n",
              "42  77.641691  \n",
              "43  77.607103  \n",
              "44  77.630766  \n",
              "46  77.623525  \n",
              "48  77.638487  \n",
              "49  77.564023  \n",
              "52  77.627022  "
            ]
          },
          "metadata": {
            "tags": []
          },
          "execution_count": 26
        }
      ]
    },
    {
      "cell_type": "markdown",
      "metadata": {
        "id": "Y66EhspeuGL_"
      },
      "source": [
        "##Cluster label 2: 'Expensive and Decent'"
      ]
    },
    {
      "cell_type": "code",
      "metadata": {
        "colab": {
          "base_uri": "https://localhost:8080/",
          "height": 483
        },
        "id": "9I6dr0k1YwAh",
        "outputId": "450030f4-220d-42ec-cd20-fb9c74378461"
      },
      "source": [
        "df3 = Clustered_venues.loc[Clustered_venues['Cluster Labels'] == 2]\n",
        "df3"
      ],
      "execution_count": null,
      "outputs": [
        {
          "output_type": "execute_result",
          "data": {
            "text/html": [
              "<div>\n",
              "<style scoped>\n",
              "    .dataframe tbody tr th:only-of-type {\n",
              "        vertical-align: middle;\n",
              "    }\n",
              "\n",
              "    .dataframe tbody tr th {\n",
              "        vertical-align: top;\n",
              "    }\n",
              "\n",
              "    .dataframe thead th {\n",
              "        text-align: right;\n",
              "    }\n",
              "</style>\n",
              "<table border=\"1\" class=\"dataframe\">\n",
              "  <thead>\n",
              "    <tr style=\"text-align: right;\">\n",
              "      <th></th>\n",
              "      <th>name</th>\n",
              "      <th>Cluster Labels</th>\n",
              "      <th>Rating</th>\n",
              "      <th>Price</th>\n",
              "      <th>Likes</th>\n",
              "      <th>lat</th>\n",
              "      <th>lng</th>\n",
              "    </tr>\n",
              "  </thead>\n",
              "  <tbody>\n",
              "    <tr>\n",
              "      <th>3</th>\n",
              "      <td>Whitefield Social</td>\n",
              "      <td>2</td>\n",
              "      <td>8.8</td>\n",
              "      <td>Expensive</td>\n",
              "      <td>34</td>\n",
              "      <td>12.997343</td>\n",
              "      <td>77.696288</td>\n",
              "    </tr>\n",
              "    <tr>\n",
              "      <th>5</th>\n",
              "      <td>The 13th Floor</td>\n",
              "      <td>2</td>\n",
              "      <td>8.7</td>\n",
              "      <td>Expensive</td>\n",
              "      <td>133</td>\n",
              "      <td>12.975364</td>\n",
              "      <td>77.604995</td>\n",
              "    </tr>\n",
              "    <tr>\n",
              "      <th>8</th>\n",
              "      <td>Koramangala Social</td>\n",
              "      <td>2</td>\n",
              "      <td>8.5</td>\n",
              "      <td>Expensive</td>\n",
              "      <td>30</td>\n",
              "      <td>12.935518</td>\n",
              "      <td>77.614097</td>\n",
              "    </tr>\n",
              "    <tr>\n",
              "      <th>9</th>\n",
              "      <td>Skyye</td>\n",
              "      <td>2</td>\n",
              "      <td>8.5</td>\n",
              "      <td>Expensive</td>\n",
              "      <td>198</td>\n",
              "      <td>12.971646</td>\n",
              "      <td>77.596242</td>\n",
              "    </tr>\n",
              "    <tr>\n",
              "      <th>18</th>\n",
              "      <td>Fenny's Lounge &amp; Kitchen</td>\n",
              "      <td>2</td>\n",
              "      <td>8.0</td>\n",
              "      <td>Expensive</td>\n",
              "      <td>230</td>\n",
              "      <td>12.935146</td>\n",
              "      <td>77.613536</td>\n",
              "    </tr>\n",
              "    <tr>\n",
              "      <th>19</th>\n",
              "      <td>eclipse lounge</td>\n",
              "      <td>2</td>\n",
              "      <td>8.0</td>\n",
              "      <td>Expensive</td>\n",
              "      <td>8</td>\n",
              "      <td>12.973695</td>\n",
              "      <td>77.644001</td>\n",
              "    </tr>\n",
              "    <tr>\n",
              "      <th>25</th>\n",
              "      <td>JW Marriott Executive Lounge</td>\n",
              "      <td>2</td>\n",
              "      <td>7.9</td>\n",
              "      <td>Expensive</td>\n",
              "      <td>12</td>\n",
              "      <td>12.972120</td>\n",
              "      <td>77.594804</td>\n",
              "    </tr>\n",
              "    <tr>\n",
              "      <th>28</th>\n",
              "      <td>High Ultra Lounge</td>\n",
              "      <td>2</td>\n",
              "      <td>7.8</td>\n",
              "      <td>Expensive</td>\n",
              "      <td>71</td>\n",
              "      <td>13.012204</td>\n",
              "      <td>77.555929</td>\n",
              "    </tr>\n",
              "    <tr>\n",
              "      <th>30</th>\n",
              "      <td>Bang</td>\n",
              "      <td>2</td>\n",
              "      <td>7.7</td>\n",
              "      <td>Expensive</td>\n",
              "      <td>14</td>\n",
              "      <td>12.967505</td>\n",
              "      <td>77.601757</td>\n",
              "    </tr>\n",
              "    <tr>\n",
              "      <th>31</th>\n",
              "      <td>The Whitefield Arms Café</td>\n",
              "      <td>2</td>\n",
              "      <td>7.6</td>\n",
              "      <td>Expensive</td>\n",
              "      <td>6</td>\n",
              "      <td>12.996539</td>\n",
              "      <td>77.695929</td>\n",
              "    </tr>\n",
              "    <tr>\n",
              "      <th>32</th>\n",
              "      <td>i-BAR</td>\n",
              "      <td>2</td>\n",
              "      <td>7.6</td>\n",
              "      <td>Expensive</td>\n",
              "      <td>40</td>\n",
              "      <td>12.973823</td>\n",
              "      <td>77.619328</td>\n",
              "    </tr>\n",
              "    <tr>\n",
              "      <th>36</th>\n",
              "      <td>LOFT 38</td>\n",
              "      <td>2</td>\n",
              "      <td>7.3</td>\n",
              "      <td>Expensive</td>\n",
              "      <td>116</td>\n",
              "      <td>12.971167</td>\n",
              "      <td>77.641203</td>\n",
              "    </tr>\n",
              "    <tr>\n",
              "      <th>37</th>\n",
              "      <td>The Fisherman's Wharf</td>\n",
              "      <td>2</td>\n",
              "      <td>7.3</td>\n",
              "      <td>Expensive</td>\n",
              "      <td>119</td>\n",
              "      <td>12.914441</td>\n",
              "      <td>77.666384</td>\n",
              "    </tr>\n",
              "    <tr>\n",
              "      <th>39</th>\n",
              "      <td>Sathya's</td>\n",
              "      <td>2</td>\n",
              "      <td>7.2</td>\n",
              "      <td>Expensive</td>\n",
              "      <td>100</td>\n",
              "      <td>12.929162</td>\n",
              "      <td>77.629041</td>\n",
              "    </tr>\n",
              "  </tbody>\n",
              "</table>\n",
              "</div>"
            ],
            "text/plain": [
              "                            name  Cluster Labels  Rating      Price  Likes  \\\n",
              "3              Whitefield Social               2     8.8  Expensive     34   \n",
              "5                 The 13th Floor               2     8.7  Expensive    133   \n",
              "8             Koramangala Social               2     8.5  Expensive     30   \n",
              "9                          Skyye               2     8.5  Expensive    198   \n",
              "18      Fenny's Lounge & Kitchen               2     8.0  Expensive    230   \n",
              "19                eclipse lounge               2     8.0  Expensive      8   \n",
              "25  JW Marriott Executive Lounge               2     7.9  Expensive     12   \n",
              "28             High Ultra Lounge               2     7.8  Expensive     71   \n",
              "30                          Bang               2     7.7  Expensive     14   \n",
              "31      The Whitefield Arms Café               2     7.6  Expensive      6   \n",
              "32                         i-BAR               2     7.6  Expensive     40   \n",
              "36                       LOFT 38               2     7.3  Expensive    116   \n",
              "37         The Fisherman's Wharf               2     7.3  Expensive    119   \n",
              "39                      Sathya's               2     7.2  Expensive    100   \n",
              "\n",
              "          lat        lng  \n",
              "3   12.997343  77.696288  \n",
              "5   12.975364  77.604995  \n",
              "8   12.935518  77.614097  \n",
              "9   12.971646  77.596242  \n",
              "18  12.935146  77.613536  \n",
              "19  12.973695  77.644001  \n",
              "25  12.972120  77.594804  \n",
              "28  13.012204  77.555929  \n",
              "30  12.967505  77.601757  \n",
              "31  12.996539  77.695929  \n",
              "32  12.973823  77.619328  \n",
              "36  12.971167  77.641203  \n",
              "37  12.914441  77.666384  \n",
              "39  12.929162  77.629041  "
            ]
          },
          "metadata": {
            "tags": []
          },
          "execution_count": 27
        }
      ]
    },
    {
      "cell_type": "markdown",
      "metadata": {
        "id": "Cog7p5TyuMI2"
      },
      "source": [
        "##Cluster label 3: standout : 'Expensive, excellent, and very well known'"
      ]
    },
    {
      "cell_type": "code",
      "metadata": {
        "colab": {
          "base_uri": "https://localhost:8080/",
          "height": 80
        },
        "id": "HNLJHCxdZnk9",
        "outputId": "c87754e6-5e89-422d-a14e-165342bc5387"
      },
      "source": [
        "df4 = Clustered_venues.loc[Clustered_venues['Cluster Labels'] == 3]\n",
        "df4"
      ],
      "execution_count": null,
      "outputs": [
        {
          "output_type": "execute_result",
          "data": {
            "text/html": [
              "<div>\n",
              "<style scoped>\n",
              "    .dataframe tbody tr th:only-of-type {\n",
              "        vertical-align: middle;\n",
              "    }\n",
              "\n",
              "    .dataframe tbody tr th {\n",
              "        vertical-align: top;\n",
              "    }\n",
              "\n",
              "    .dataframe thead th {\n",
              "        text-align: right;\n",
              "    }\n",
              "</style>\n",
              "<table border=\"1\" class=\"dataframe\">\n",
              "  <thead>\n",
              "    <tr style=\"text-align: right;\">\n",
              "      <th></th>\n",
              "      <th>name</th>\n",
              "      <th>Cluster Labels</th>\n",
              "      <th>Rating</th>\n",
              "      <th>Price</th>\n",
              "      <th>Likes</th>\n",
              "      <th>lat</th>\n",
              "      <th>lng</th>\n",
              "    </tr>\n",
              "  </thead>\n",
              "  <tbody>\n",
              "    <tr>\n",
              "      <th>1</th>\n",
              "      <td>Toit Brewpub</td>\n",
              "      <td>3</td>\n",
              "      <td>9.1</td>\n",
              "      <td>Expensive</td>\n",
              "      <td>986</td>\n",
              "      <td>12.979367</td>\n",
              "      <td>77.640702</td>\n",
              "    </tr>\n",
              "  </tbody>\n",
              "</table>\n",
              "</div>"
            ],
            "text/plain": [
              "           name  Cluster Labels  Rating      Price  Likes        lat  \\\n",
              "1  Toit Brewpub               3     9.1  Expensive    986  12.979367   \n",
              "\n",
              "         lng  \n",
              "1  77.640702  "
            ]
          },
          "metadata": {
            "tags": []
          },
          "execution_count": 28
        }
      ]
    },
    {
      "cell_type": "markdown",
      "metadata": {
        "id": "5IzEz0qRuRqq"
      },
      "source": [
        "##Cluster label 4: 'Moderate, Good, and well known'"
      ]
    },
    {
      "cell_type": "code",
      "metadata": {
        "colab": {
          "base_uri": "https://localhost:8080/",
          "height": 142
        },
        "id": "A5IDvo-4n6wr",
        "outputId": "ac8010de-8e8a-4f0a-a09d-6c487158cad0"
      },
      "source": [
        "df5= Clustered_venues.loc[Clustered_venues['Cluster Labels'] == 4]\n",
        "df5"
      ],
      "execution_count": null,
      "outputs": [
        {
          "output_type": "execute_result",
          "data": {
            "text/html": [
              "<div>\n",
              "<style scoped>\n",
              "    .dataframe tbody tr th:only-of-type {\n",
              "        vertical-align: middle;\n",
              "    }\n",
              "\n",
              "    .dataframe tbody tr th {\n",
              "        vertical-align: top;\n",
              "    }\n",
              "\n",
              "    .dataframe thead th {\n",
              "        text-align: right;\n",
              "    }\n",
              "</style>\n",
              "<table border=\"1\" class=\"dataframe\">\n",
              "  <thead>\n",
              "    <tr style=\"text-align: right;\">\n",
              "      <th></th>\n",
              "      <th>name</th>\n",
              "      <th>Cluster Labels</th>\n",
              "      <th>Rating</th>\n",
              "      <th>Price</th>\n",
              "      <th>Likes</th>\n",
              "      <th>lat</th>\n",
              "      <th>lng</th>\n",
              "    </tr>\n",
              "  </thead>\n",
              "  <tbody>\n",
              "    <tr>\n",
              "      <th>0</th>\n",
              "      <td>Windmills Craftworks</td>\n",
              "      <td>4</td>\n",
              "      <td>9.2</td>\n",
              "      <td>Moderate</td>\n",
              "      <td>382</td>\n",
              "      <td>12.982460</td>\n",
              "      <td>77.721861</td>\n",
              "    </tr>\n",
              "    <tr>\n",
              "      <th>15</th>\n",
              "      <td>The Biere Club</td>\n",
              "      <td>4</td>\n",
              "      <td>8.3</td>\n",
              "      <td>Moderate</td>\n",
              "      <td>359</td>\n",
              "      <td>12.971061</td>\n",
              "      <td>77.597657</td>\n",
              "    </tr>\n",
              "    <tr>\n",
              "      <th>22</th>\n",
              "      <td>Big Pitcher</td>\n",
              "      <td>4</td>\n",
              "      <td>7.9</td>\n",
              "      <td>Moderate</td>\n",
              "      <td>276</td>\n",
              "      <td>12.960101</td>\n",
              "      <td>77.646946</td>\n",
              "    </tr>\n",
              "  </tbody>\n",
              "</table>\n",
              "</div>"
            ],
            "text/plain": [
              "                    name  Cluster Labels  Rating     Price  Likes        lat  \\\n",
              "0   Windmills Craftworks               4     9.2  Moderate    382  12.982460   \n",
              "15        The Biere Club               4     8.3  Moderate    359  12.971061   \n",
              "22           Big Pitcher               4     7.9  Moderate    276  12.960101   \n",
              "\n",
              "          lng  \n",
              "0   77.721861  \n",
              "15  77.597657  \n",
              "22  77.646946  "
            ]
          },
          "metadata": {
            "tags": []
          },
          "execution_count": 29
        }
      ]
    },
    {
      "cell_type": "markdown",
      "metadata": {
        "id": "zYKiJUzQuYkx"
      },
      "source": [
        "##Cluster label 5: 'Moderate and Bad'"
      ]
    },
    {
      "cell_type": "code",
      "metadata": {
        "colab": {
          "base_uri": "https://localhost:8080/",
          "height": 204
        },
        "id": "cevviwirn-l4",
        "outputId": "856a5594-849c-4f7c-8c37-22e813861f7c"
      },
      "source": [
        "Clustered_venues.loc[Clustered_venues['Cluster Labels'] == 5]"
      ],
      "execution_count": null,
      "outputs": [
        {
          "output_type": "execute_result",
          "data": {
            "text/html": [
              "<div>\n",
              "<style scoped>\n",
              "    .dataframe tbody tr th:only-of-type {\n",
              "        vertical-align: middle;\n",
              "    }\n",
              "\n",
              "    .dataframe tbody tr th {\n",
              "        vertical-align: top;\n",
              "    }\n",
              "\n",
              "    .dataframe thead th {\n",
              "        text-align: right;\n",
              "    }\n",
              "</style>\n",
              "<table border=\"1\" class=\"dataframe\">\n",
              "  <thead>\n",
              "    <tr style=\"text-align: right;\">\n",
              "      <th></th>\n",
              "      <th>name</th>\n",
              "      <th>Cluster Labels</th>\n",
              "      <th>Rating</th>\n",
              "      <th>Price</th>\n",
              "      <th>Likes</th>\n",
              "      <th>lat</th>\n",
              "      <th>lng</th>\n",
              "    </tr>\n",
              "  </thead>\n",
              "  <tbody>\n",
              "    <tr>\n",
              "      <th>50</th>\n",
              "      <td>The Pallet - Brewhouse &amp; Kitchen</td>\n",
              "      <td>5</td>\n",
              "      <td>6.8</td>\n",
              "      <td>Moderate</td>\n",
              "      <td>6</td>\n",
              "      <td>12.991019</td>\n",
              "      <td>77.723190</td>\n",
              "    </tr>\n",
              "    <tr>\n",
              "      <th>60</th>\n",
              "      <td>The Local - Terrace Drinkery</td>\n",
              "      <td>5</td>\n",
              "      <td>6.2</td>\n",
              "      <td>Moderate</td>\n",
              "      <td>37</td>\n",
              "      <td>12.940830</td>\n",
              "      <td>77.624455</td>\n",
              "    </tr>\n",
              "    <tr>\n",
              "      <th>62</th>\n",
              "      <td>Brooks And Bonds</td>\n",
              "      <td>5</td>\n",
              "      <td>6.1</td>\n",
              "      <td>Moderate</td>\n",
              "      <td>5</td>\n",
              "      <td>12.934148</td>\n",
              "      <td>77.623396</td>\n",
              "    </tr>\n",
              "    <tr>\n",
              "      <th>63</th>\n",
              "      <td>Brewmeister</td>\n",
              "      <td>5</td>\n",
              "      <td>6.1</td>\n",
              "      <td>Moderate</td>\n",
              "      <td>6</td>\n",
              "      <td>12.926405</td>\n",
              "      <td>77.584676</td>\n",
              "    </tr>\n",
              "    <tr>\n",
              "      <th>71</th>\n",
              "      <td>3 Monkeys BrewPub</td>\n",
              "      <td>5</td>\n",
              "      <td>5.4</td>\n",
              "      <td>Moderate</td>\n",
              "      <td>29</td>\n",
              "      <td>12.993100</td>\n",
              "      <td>77.661134</td>\n",
              "    </tr>\n",
              "  </tbody>\n",
              "</table>\n",
              "</div>"
            ],
            "text/plain": [
              "                                name  Cluster Labels  Rating     Price  Likes  \\\n",
              "50  The Pallet - Brewhouse & Kitchen               5     6.8  Moderate      6   \n",
              "60      The Local - Terrace Drinkery               5     6.2  Moderate     37   \n",
              "62                  Brooks And Bonds               5     6.1  Moderate      5   \n",
              "63                       Brewmeister               5     6.1  Moderate      6   \n",
              "71                 3 Monkeys BrewPub               5     5.4  Moderate     29   \n",
              "\n",
              "          lat        lng  \n",
              "50  12.991019  77.723190  \n",
              "60  12.940830  77.624455  \n",
              "62  12.934148  77.623396  \n",
              "63  12.926405  77.584676  \n",
              "71  12.993100  77.661134  "
            ]
          },
          "metadata": {
            "tags": []
          },
          "execution_count": 30
        }
      ]
    },
    {
      "cell_type": "markdown",
      "metadata": {
        "id": "Yi1qabHyughS"
      },
      "source": [
        "##Cluster label 6: 'Expensive, Good, and well known'"
      ]
    },
    {
      "cell_type": "code",
      "metadata": {
        "colab": {
          "base_uri": "https://localhost:8080/",
          "height": 111
        },
        "id": "BYBldFkXpGNw",
        "outputId": "b976d5af-920d-46c7-bb68-6a61401801e4"
      },
      "source": [
        "df6 = Clustered_venues.loc[Clustered_venues['Cluster Labels'] == 6]\n",
        "df6"
      ],
      "execution_count": null,
      "outputs": [
        {
          "output_type": "execute_result",
          "data": {
            "text/html": [
              "<div>\n",
              "<style scoped>\n",
              "    .dataframe tbody tr th:only-of-type {\n",
              "        vertical-align: middle;\n",
              "    }\n",
              "\n",
              "    .dataframe tbody tr th {\n",
              "        vertical-align: top;\n",
              "    }\n",
              "\n",
              "    .dataframe thead th {\n",
              "        text-align: right;\n",
              "    }\n",
              "</style>\n",
              "<table border=\"1\" class=\"dataframe\">\n",
              "  <thead>\n",
              "    <tr style=\"text-align: right;\">\n",
              "      <th></th>\n",
              "      <th>name</th>\n",
              "      <th>Cluster Labels</th>\n",
              "      <th>Rating</th>\n",
              "      <th>Price</th>\n",
              "      <th>Likes</th>\n",
              "      <th>lat</th>\n",
              "      <th>lng</th>\n",
              "    </tr>\n",
              "  </thead>\n",
              "  <tbody>\n",
              "    <tr>\n",
              "      <th>2</th>\n",
              "      <td>Arbor Brewing Company</td>\n",
              "      <td>6</td>\n",
              "      <td>8.9</td>\n",
              "      <td>Expensive</td>\n",
              "      <td>603</td>\n",
              "      <td>12.970140</td>\n",
              "      <td>77.610857</td>\n",
              "    </tr>\n",
              "    <tr>\n",
              "      <th>6</th>\n",
              "      <td>Church Street Social</td>\n",
              "      <td>6</td>\n",
              "      <td>8.7</td>\n",
              "      <td>Expensive</td>\n",
              "      <td>362</td>\n",
              "      <td>12.975559</td>\n",
              "      <td>77.602579</td>\n",
              "    </tr>\n",
              "  </tbody>\n",
              "</table>\n",
              "</div>"
            ],
            "text/plain": [
              "                    name  Cluster Labels  Rating      Price  Likes        lat  \\\n",
              "2  Arbor Brewing Company               6     8.9  Expensive    603  12.970140   \n",
              "6   Church Street Social               6     8.7  Expensive    362  12.975559   \n",
              "\n",
              "         lng  \n",
              "2  77.610857  \n",
              "6  77.602579  "
            ]
          },
          "metadata": {
            "tags": []
          },
          "execution_count": 31
        }
      ]
    },
    {
      "cell_type": "markdown",
      "metadata": {
        "id": "sts8u5oPulbA"
      },
      "source": [
        "##Cluster label 7:'Cheap and bad'\n",
        "\n"
      ]
    },
    {
      "cell_type": "code",
      "metadata": {
        "colab": {
          "base_uri": "https://localhost:8080/",
          "height": 421
        },
        "id": "sV-EQSjCpMZw",
        "outputId": "ed99d220-4c82-41d1-9699-bbe5479292e7"
      },
      "source": [
        "Clustered_venues.loc[Clustered_venues['Cluster Labels'] == 7]"
      ],
      "execution_count": null,
      "outputs": [
        {
          "output_type": "execute_result",
          "data": {
            "text/html": [
              "<div>\n",
              "<style scoped>\n",
              "    .dataframe tbody tr th:only-of-type {\n",
              "        vertical-align: middle;\n",
              "    }\n",
              "\n",
              "    .dataframe tbody tr th {\n",
              "        vertical-align: top;\n",
              "    }\n",
              "\n",
              "    .dataframe thead th {\n",
              "        text-align: right;\n",
              "    }\n",
              "</style>\n",
              "<table border=\"1\" class=\"dataframe\">\n",
              "  <thead>\n",
              "    <tr style=\"text-align: right;\">\n",
              "      <th></th>\n",
              "      <th>name</th>\n",
              "      <th>Cluster Labels</th>\n",
              "      <th>Rating</th>\n",
              "      <th>Price</th>\n",
              "      <th>Likes</th>\n",
              "      <th>lat</th>\n",
              "      <th>lng</th>\n",
              "    </tr>\n",
              "  </thead>\n",
              "  <tbody>\n",
              "    <tr>\n",
              "      <th>53</th>\n",
              "      <td>Extreme Sports Bar (Play Arena)</td>\n",
              "      <td>7</td>\n",
              "      <td>6.6</td>\n",
              "      <td>Cheap</td>\n",
              "      <td>18</td>\n",
              "      <td>12.911461</td>\n",
              "      <td>77.676310</td>\n",
              "    </tr>\n",
              "    <tr>\n",
              "      <th>54</th>\n",
              "      <td>Sherlock Holmes</td>\n",
              "      <td>7</td>\n",
              "      <td>6.6</td>\n",
              "      <td>Cheap</td>\n",
              "      <td>21</td>\n",
              "      <td>12.994784</td>\n",
              "      <td>77.615134</td>\n",
              "    </tr>\n",
              "    <tr>\n",
              "      <th>55</th>\n",
              "      <td>Hungry Hippie</td>\n",
              "      <td>7</td>\n",
              "      <td>6.4</td>\n",
              "      <td>Cheap</td>\n",
              "      <td>4</td>\n",
              "      <td>12.934601</td>\n",
              "      <td>77.615934</td>\n",
              "    </tr>\n",
              "    <tr>\n",
              "      <th>57</th>\n",
              "      <td>Jimis Beer Cafe</td>\n",
              "      <td>7</td>\n",
              "      <td>6.3</td>\n",
              "      <td>Cheap</td>\n",
              "      <td>33</td>\n",
              "      <td>12.940823</td>\n",
              "      <td>77.624418</td>\n",
              "    </tr>\n",
              "    <tr>\n",
              "      <th>58</th>\n",
              "      <td>Enigma - The Pub</td>\n",
              "      <td>7</td>\n",
              "      <td>6.2</td>\n",
              "      <td>Cheap</td>\n",
              "      <td>19</td>\n",
              "      <td>12.934193</td>\n",
              "      <td>77.623648</td>\n",
              "    </tr>\n",
              "    <tr>\n",
              "      <th>59</th>\n",
              "      <td>SH 17 Restaurant</td>\n",
              "      <td>7</td>\n",
              "      <td>6.2</td>\n",
              "      <td>Cheap</td>\n",
              "      <td>5</td>\n",
              "      <td>12.810228</td>\n",
              "      <td>77.402944</td>\n",
              "    </tr>\n",
              "    <tr>\n",
              "      <th>64</th>\n",
              "      <td>Mockaholic Restro Beer Cafe</td>\n",
              "      <td>7</td>\n",
              "      <td>6.0</td>\n",
              "      <td>Cheap</td>\n",
              "      <td>36</td>\n",
              "      <td>12.915569</td>\n",
              "      <td>77.585718</td>\n",
              "    </tr>\n",
              "    <tr>\n",
              "      <th>66</th>\n",
              "      <td>Cafe Coffee Day</td>\n",
              "      <td>7</td>\n",
              "      <td>5.6</td>\n",
              "      <td>Cheap</td>\n",
              "      <td>6</td>\n",
              "      <td>12.932722</td>\n",
              "      <td>77.623113</td>\n",
              "    </tr>\n",
              "    <tr>\n",
              "      <th>67</th>\n",
              "      <td>Dug Out Sports Bar</td>\n",
              "      <td>7</td>\n",
              "      <td>5.6</td>\n",
              "      <td>Cheap</td>\n",
              "      <td>14</td>\n",
              "      <td>12.932536</td>\n",
              "      <td>77.613865</td>\n",
              "    </tr>\n",
              "    <tr>\n",
              "      <th>68</th>\n",
              "      <td>SBX Sports &amp; Music Cafe</td>\n",
              "      <td>7</td>\n",
              "      <td>5.6</td>\n",
              "      <td>Cheap</td>\n",
              "      <td>5</td>\n",
              "      <td>12.979571</td>\n",
              "      <td>77.694530</td>\n",
              "    </tr>\n",
              "    <tr>\n",
              "      <th>69</th>\n",
              "      <td>Harry's</td>\n",
              "      <td>7</td>\n",
              "      <td>5.5</td>\n",
              "      <td>Cheap</td>\n",
              "      <td>11</td>\n",
              "      <td>12.964523</td>\n",
              "      <td>77.641649</td>\n",
              "    </tr>\n",
              "    <tr>\n",
              "      <th>70</th>\n",
              "      <td>Coconut Grove</td>\n",
              "      <td>7</td>\n",
              "      <td>5.5</td>\n",
              "      <td>Cheap</td>\n",
              "      <td>27</td>\n",
              "      <td>12.975030</td>\n",
              "      <td>77.604557</td>\n",
              "    </tr>\n",
              "  </tbody>\n",
              "</table>\n",
              "</div>"
            ],
            "text/plain": [
              "                               name  Cluster Labels  Rating  Price  Likes  \\\n",
              "53  Extreme Sports Bar (Play Arena)               7     6.6  Cheap     18   \n",
              "54                  Sherlock Holmes               7     6.6  Cheap     21   \n",
              "55                    Hungry Hippie               7     6.4  Cheap      4   \n",
              "57                  Jimis Beer Cafe               7     6.3  Cheap     33   \n",
              "58                 Enigma - The Pub               7     6.2  Cheap     19   \n",
              "59                 SH 17 Restaurant               7     6.2  Cheap      5   \n",
              "64      Mockaholic Restro Beer Cafe               7     6.0  Cheap     36   \n",
              "66                  Cafe Coffee Day               7     5.6  Cheap      6   \n",
              "67               Dug Out Sports Bar               7     5.6  Cheap     14   \n",
              "68          SBX Sports & Music Cafe               7     5.6  Cheap      5   \n",
              "69                          Harry's               7     5.5  Cheap     11   \n",
              "70                    Coconut Grove               7     5.5  Cheap     27   \n",
              "\n",
              "          lat        lng  \n",
              "53  12.911461  77.676310  \n",
              "54  12.994784  77.615134  \n",
              "55  12.934601  77.615934  \n",
              "57  12.940823  77.624418  \n",
              "58  12.934193  77.623648  \n",
              "59  12.810228  77.402944  \n",
              "64  12.915569  77.585718  \n",
              "66  12.932722  77.623113  \n",
              "67  12.932536  77.613865  \n",
              "68  12.979571  77.694530  \n",
              "69  12.964523  77.641649  \n",
              "70  12.975030  77.604557  "
            ]
          },
          "metadata": {
            "tags": []
          },
          "execution_count": 32
        }
      ]
    },
    {
      "cell_type": "markdown",
      "metadata": {
        "id": "iov_A3r4uosK"
      },
      "source": [
        "##Cluster label 8:'Expensive, Bad, and not well known'\n",
        "\n"
      ]
    },
    {
      "cell_type": "code",
      "metadata": {
        "colab": {
          "base_uri": "https://localhost:8080/",
          "height": 297
        },
        "id": "T0KNh_mqpOGf",
        "outputId": "7f466007-3913-4bd1-c246-18e04595145d"
      },
      "source": [
        "Clustered_venues.loc[Clustered_venues['Cluster Labels'] == 8]['Type'] = 'Expensive, Bad, and not well known'"
      ],
      "execution_count": null,
      "outputs": [
        {
          "output_type": "execute_result",
          "data": {
            "text/html": [
              "<div>\n",
              "<style scoped>\n",
              "    .dataframe tbody tr th:only-of-type {\n",
              "        vertical-align: middle;\n",
              "    }\n",
              "\n",
              "    .dataframe tbody tr th {\n",
              "        vertical-align: top;\n",
              "    }\n",
              "\n",
              "    .dataframe thead th {\n",
              "        text-align: right;\n",
              "    }\n",
              "</style>\n",
              "<table border=\"1\" class=\"dataframe\">\n",
              "  <thead>\n",
              "    <tr style=\"text-align: right;\">\n",
              "      <th></th>\n",
              "      <th>name</th>\n",
              "      <th>Cluster Labels</th>\n",
              "      <th>Rating</th>\n",
              "      <th>Price</th>\n",
              "      <th>Likes</th>\n",
              "      <th>lat</th>\n",
              "      <th>lng</th>\n",
              "    </tr>\n",
              "  </thead>\n",
              "  <tbody>\n",
              "    <tr>\n",
              "      <th>40</th>\n",
              "      <td>The Studio Bar</td>\n",
              "      <td>8</td>\n",
              "      <td>7.2</td>\n",
              "      <td>Expensive</td>\n",
              "      <td>24</td>\n",
              "      <td>13.010935</td>\n",
              "      <td>77.555017</td>\n",
              "    </tr>\n",
              "    <tr>\n",
              "      <th>41</th>\n",
              "      <td>Upbeat</td>\n",
              "      <td>8</td>\n",
              "      <td>7.1</td>\n",
              "      <td>Expensive</td>\n",
              "      <td>8</td>\n",
              "      <td>13.001185</td>\n",
              "      <td>77.629239</td>\n",
              "    </tr>\n",
              "    <tr>\n",
              "      <th>45</th>\n",
              "      <td>Firehouse</td>\n",
              "      <td>8</td>\n",
              "      <td>7.0</td>\n",
              "      <td>Expensive</td>\n",
              "      <td>9</td>\n",
              "      <td>13.026253</td>\n",
              "      <td>77.636219</td>\n",
              "    </tr>\n",
              "    <tr>\n",
              "      <th>47</th>\n",
              "      <td>Hoot</td>\n",
              "      <td>8</td>\n",
              "      <td>6.9</td>\n",
              "      <td>Expensive</td>\n",
              "      <td>18</td>\n",
              "      <td>12.914136</td>\n",
              "      <td>77.678596</td>\n",
              "    </tr>\n",
              "    <tr>\n",
              "      <th>51</th>\n",
              "      <td>Rasta S02E01</td>\n",
              "      <td>8</td>\n",
              "      <td>6.8</td>\n",
              "      <td>Expensive</td>\n",
              "      <td>20</td>\n",
              "      <td>13.020464</td>\n",
              "      <td>77.643167</td>\n",
              "    </tr>\n",
              "    <tr>\n",
              "      <th>56</th>\n",
              "      <td>Sutra</td>\n",
              "      <td>8</td>\n",
              "      <td>6.3</td>\n",
              "      <td>Expensive</td>\n",
              "      <td>24</td>\n",
              "      <td>12.991908</td>\n",
              "      <td>77.582296</td>\n",
              "    </tr>\n",
              "    <tr>\n",
              "      <th>61</th>\n",
              "      <td>Eden Park - The Lounge</td>\n",
              "      <td>8</td>\n",
              "      <td>6.1</td>\n",
              "      <td>Expensive</td>\n",
              "      <td>18</td>\n",
              "      <td>12.923387</td>\n",
              "      <td>77.585353</td>\n",
              "    </tr>\n",
              "    <tr>\n",
              "      <th>65</th>\n",
              "      <td>Loveshack</td>\n",
              "      <td>8</td>\n",
              "      <td>5.7</td>\n",
              "      <td>Expensive</td>\n",
              "      <td>8</td>\n",
              "      <td>12.952692</td>\n",
              "      <td>77.640193</td>\n",
              "    </tr>\n",
              "  </tbody>\n",
              "</table>\n",
              "</div>"
            ],
            "text/plain": [
              "                      name  Cluster Labels  Rating      Price  Likes  \\\n",
              "40          The Studio Bar               8     7.2  Expensive     24   \n",
              "41                  Upbeat               8     7.1  Expensive      8   \n",
              "45               Firehouse               8     7.0  Expensive      9   \n",
              "47                    Hoot               8     6.9  Expensive     18   \n",
              "51            Rasta S02E01               8     6.8  Expensive     20   \n",
              "56                   Sutra               8     6.3  Expensive     24   \n",
              "61  Eden Park - The Lounge               8     6.1  Expensive     18   \n",
              "65               Loveshack               8     5.7  Expensive      8   \n",
              "\n",
              "          lat        lng  \n",
              "40  13.010935  77.555017  \n",
              "41  13.001185  77.629239  \n",
              "45  13.026253  77.636219  \n",
              "47  12.914136  77.678596  \n",
              "51  13.020464  77.643167  \n",
              "56  12.991908  77.582296  \n",
              "61  12.923387  77.585353  \n",
              "65  12.952692  77.640193  "
            ]
          },
          "metadata": {
            "tags": []
          },
          "execution_count": 33
        }
      ]
    },
    {
      "cell_type": "markdown",
      "metadata": {
        "id": "h6TReRtbpiK6"
      },
      "source": [
        "#**Conclusion** :\n",
        "\n",
        "From the above analysis, I was able to sort venues based on these three metrics: Price, Rating, and likes. This analysis could be used to select the most appropriate venue for an outing based on preferences. It also forms a basis for the recommendation system. \n",
        "\n",
        "From a business perspective, this analysis can be used as a starting point to research what an ideal venue should be to attract customers. Further, more libraries could be used to cluster the preferred venues based on venue, ambiance, etc. One interesting research would be to find whether the location has any effect on the three metrics. However, this analysis's scope is to cluster the venus based on the three metrics that have been achieved successfully. \n"
      ]
    }
  ]
}